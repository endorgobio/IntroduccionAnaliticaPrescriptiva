{
  "nbformat": 4,
  "nbformat_minor": 0,
  "metadata": {
    "colab": {
      "provenance": [],
      "toc_visible": true,
      "authorship_tag": "ABX9TyP4tdE982i42Y2fT4Sqk6P/",
      "include_colab_link": true
    },
    "kernelspec": {
      "name": "python3",
      "display_name": "Python 3"
    },
    "language_info": {
      "name": "python"
    }
  },
  "cells": [
    {
      "cell_type": "markdown",
      "metadata": {
        "id": "view-in-github",
        "colab_type": "text"
      },
      "source": [
        "<a href=\"https://colab.research.google.com/github/endorgobio/IntroduccionAnaliticaPrescriptiva/blob/main/M1C8_EjemploAproximada.ipynb\" target=\"_parent\"><img src=\"https://colab.research.google.com/assets/colab-badge.svg\" alt=\"Open In Colab\"/></a>"
      ]
    },
    {
      "cell_type": "markdown",
      "source": [
        "<p style=\"text-align: center;\">\n",
        "    <img alt=\"banner\" height=\"230px\" width=\"100%\" src=\"https://github.com/endorgobio/IntroduccionAnaliticaPrescriptiva/blob/6cc6029c276aacdf228dcec4796b7b3184cfb8b7/src/header.png?raw=true\" hspace=\"10px\" vspace=\"0px\">\n",
        "</p>\n"
      ],
      "metadata": {
        "id": "de0mGKwY-Gn3"
      }
    },
    {
      "cell_type": "markdown",
      "source": [
        "\n",
        "\n",
        "En medio del auge de las nuevas tecnologias y de la creciente importancia adquirida por los datos en la toma de decisiones, los conceptos son ambiguos y en algunos casos no existe uniformidad en su entendimiento. Por ello presentamos las definiciones en las cuales estará soportado este curso"
      ],
      "metadata": {
        "id": "qHDn7PhQBdHc"
      }
    },
    {
      "cell_type": "markdown",
      "source": [
        "# <font color='FD6E72'> **Nuestro primer modelo** </font>\n",
        "\n",
        "Una compañía de alimentos tiene una única línea de producción que procesa un único producto. El plan de demanda semanal contiene las órdenes de los clientes (en miles de unidades) y la utilidad (en miles de dolares) que cada una de ellas genera.\n",
        "\n",
        "Las órdenes no pueden fraccionarse, por lo que cada una de ellas se produce completa o no se produce. Dado que la usualmente la capacidad de la línea no es suficiente para satisfacer todas las ordenes, debe decidirse qué producir\n",
        "\n",
        "|        | Orden 1 | Orden 2 | Orden 3 | Orden 4 | Orden 5 | Orden 6 | Orden 7 | Orden 8 | Orden 9 | Orden 10 |\n",
        "|--------|---------|---------|---------|---------|---------|---------|---------|---------|---------|----------|\n",
        "| Cantidad |   16    |   29    |   24    |   20    |   17    |   30    |   32    |   28    |   20    |    20    |\n",
        "| Utilidad  |   73    |   85    |   89    |   73    |   52    |   71    |   102    |   73    |   93    |    79    |\n",
        "\n",
        "\n",
        "> **¿Cuáles de las ordenes deben producirse?**\n",
        "\n",
        "\n",
        "\n"
      ],
      "metadata": {
        "id": "TjmjdhCMvRxc"
      }
    },
    {
      "cell_type": "markdown",
      "source": [
        "## <font color='#ff6d33'> **Una primera solución** </font>\n",
        "\n",
        "Lo primero que podemos hacer es pensar en una solución basda en el sentido en nuestra intuición.\n",
        "\n",
        "\n",
        "<font color='85a900'>**Pregunta:** </font> ¿Cómo construiria una solución para el problema planteado?\n",
        "\n",
        "\n",
        "\n",
        "\n"
      ],
      "metadata": {
        "id": "42o7Y5Qs88dy"
      }
    },
    {
      "cell_type": "markdown",
      "source": [
        "Este tipo de soluciones se denominan usualmente **heurísticas**. Proveen soluciones rápidas y en algunos casos de calidad aceptable para el problema planteado. Las heuristicas tienen entre otras las siguientes características:\n",
        "\n",
        "\n",
        "* Encuentran una solución de forma rápida\n",
        "* Depende del conocieminto del problema que se resuelve\n",
        "* Por lo general, no tienen garantia de encontrar la mejor solución\n",
        "\n"
      ],
      "metadata": {
        "id": "rHF00ckWgAHZ"
      }
    },
    {
      "cell_type": "markdown",
      "source": [
        "El problema descrito es un caso particular del problema de la mochila (*knapsack problem*) que ha recibido mucha atención en la literatura."
      ],
      "metadata": {
        "id": "aKHGVFgpXkP1"
      }
    },
    {
      "cell_type": "markdown",
      "source": [
        "### <font color='85a900'>**Heurística voraz (`greedy`)** </font>"
      ],
      "metadata": {
        "id": "7-wkpiqIggxZ"
      }
    },
    {
      "cell_type": "markdown",
      "source": [
        "1. **Calcular el Ratio Utilidad/Cantidad:**\n",
        "\n",
        "  Calcula el ratio de valor a peso para cada pedido. Este ratio indica cuánta utilidad proporciona un pedido por cada unidad demandada.\n",
        "\n",
        "\n",
        "2. **Ordenar los pedidos por Ratio:**\n",
        "   \n",
        "   Ordena los pedidos en orden descendente basado en su ratio Utilidad/Cantidad. El objetivo es priorizar los pedidos que ofrecen el mayor utilidad por la menor cantidad.\n",
        "\n",
        "\n",
        "3. **Seleccionar pedidos:**\n",
        "   \n",
        "   Itera a través de los pedidos en el orden de sus ratios ordenados Para cada pedido, verifica si agregar la cantidad del pedido a la producción total actual excedería la capacidad de la línea.\n",
        "   * Si no excede la capacidad, agrega el pedido a la lista de pedidos seleccionados.\n",
        "   * Actualiza el utilidad total y la producción total para incluir el pedido recién seleccionado.\n",
        "\n",
        "\n",
        "4. **Devolver Resultados:**\n",
        "  \n",
        "  Después de procesar todos los pedidos o copar la capacidad de producción máxima, devuelve la lista de pedidos seleccionados, la utilidad total y la cantidad totalproducida."
      ],
      "metadata": {
        "id": "ILn03Z3sfpNL"
      }
    },
    {
      "cell_type": "markdown",
      "source": [
        "Aplicando esta heuristica el problema propuesto obtendriamos primero la tabla con las razones de utilidad sobre la cantidad\n",
        "\n",
        "\n",
        "\n",
        "|            | Orden 1 | Orden 2 | Orden 3 | Orden 4 | Orden 5 | Orden 6 | Orden 7 | Orden 8 | Orden 9 | Orden 10 |\n",
        "|------------|---------|---------|---------|---------|---------|---------|---------|---------|---------|----------|\n",
        "| Cantidad   |   16    |   29    |   24    |   20    |   17    |   30    |   32    |   28    |   20    |    20    |\n",
        "| Utilidad   |   73    |   85    |   89    |   73    |   52    |   71    |   102    |   73    |   93    |    79    |\n",
        "| Razón (U/C)|  4.56   |  2.93   |  3.71   |  3.65   |  3.06   |  2.37   |  3.19   |  2.61   |  4.65   |   3.95   |\n",
        "\n",
        "Con esto obtenemos el orden en el cual debe evaluarse la producción de los items\n",
        "\n",
        "\n",
        "\n",
        "> ```python\n",
        "[9, 1, 10, 3, 4, 7, 5, 8, 2, 6]\n",
        "```\n",
        "\n",
        "\n",
        "\n"
      ],
      "metadata": {
        "id": "u3vm7FeXgsMh"
      }
    },
    {
      "cell_type": "markdown",
      "source": [
        "Siguiendo los pasos para decidir cuando producir o no un pedido tendriamos:\n",
        "* se producen los pedidos `[9, 1, 10, 3, 4]`\n",
        "* La utilidad total es: `407`\n",
        "* La capacidad usada es: `100`\n",
        "\n"
      ],
      "metadata": {
        "id": "5qeCGx5Akt4g"
      }
    },
    {
      "cell_type": "markdown",
      "source": [
        "### <font color='85a900'>**Implementación de la heurística** </font>"
      ],
      "metadata": {
        "id": "oATIGRMWmKs2"
      }
    },
    {
      "cell_type": "markdown",
      "source": [
        "La siguiente función implementa el algoritmo heurístico propuesto para dar solución al problema"
      ],
      "metadata": {
        "id": "lCyNj2vymElY"
      }
    },
    {
      "cell_type": "code",
      "source": [
        "import numpy as np\n",
        "\n",
        "def knapsack_greedy(weights, values, capacity):\n",
        "    \"\"\"\n",
        "    Solve the knapsack problem using a greedy approach based on value-to-weight ratio.\n",
        "\n",
        "    Parameters:\n",
        "        weights (np.ndarray): Array of item weights.\n",
        "        values (np.ndarray): Array of item values.\n",
        "        capacity (int): Maximum capacity of the knapsack.\n",
        "\n",
        "    Returns:\n",
        "        selected_items (list): List of indices of selected items.\n",
        "        total_value (int): Total value of selected items.\n",
        "        total_weight (int): Total weight of selected items.\n",
        "    \"\"\"\n",
        "    # Calculate value-to-weight ratio for each item\n",
        "    ratios = values / weights\n",
        "\n",
        "    # Get indices that would sort the items based on ratio in ascending order\n",
        "    sorted_indices = np.argsort(ratios)[::-1]\n",
        "\n",
        "    total_value = 0\n",
        "    total_weight = 0\n",
        "    selected_items = []\n",
        "\n",
        "    # Select items based on sorted ratios\n",
        "    for i in sorted_indices:\n",
        "        if total_weight + weights[i] <= capacity:\n",
        "            selected_items.append(i)\n",
        "            total_value += values[i]\n",
        "            total_weight += weights[i]\n",
        "\n",
        "    selected_items = [item+1 for item in selected_items]\n",
        "    return selected_items, total_value, total_weight\n",
        "\n",
        "\n"
      ],
      "metadata": {
        "colab": {
          "base_uri": "https://localhost:8080/"
        },
        "id": "wf4Kt3wD1rIl",
        "outputId": "582d5561-7287-46de-843f-938da680368f"
      },
      "execution_count": null,
      "outputs": [
        {
          "output_type": "stream",
          "name": "stdout",
          "text": [
            "Items seleccionados: [9, 1, 10, 3, 4]\n",
            "Utilidad total: 407\n",
            "Capacidad usada: 100\n"
          ]
        }
      ]
    },
    {
      "cell_type": "markdown",
      "source": [
        "Empleemos la función para resolver la instancia del problema que se presenta en el caso de estudio"
      ],
      "metadata": {
        "id": "KKEtIB4vW012"
      }
    },
    {
      "cell_type": "code",
      "source": [
        "# Example usage\n",
        "weights = np.array([16, 29, 24, 20, 17, 30, 32, 28, 20, 20])\n",
        "values = np.array([73, 85, 89, 73, 52, 71, 102, 73, 93, 79])\n",
        "capacity = 110\n",
        "\n",
        "selected_items, total_value, total_weight = knapsack_greedy(weights, values, capacity)\n",
        "\n",
        "print(\"Items seleccionados:\", selected_items)\n",
        "print(\"Utilidad total:\", total_value)\n",
        "print(\"Capacidad usada:\", total_weight)"
      ],
      "metadata": {
        "id": "5ySNGZbHWyPy",
        "colab": {
          "base_uri": "https://localhost:8080/"
        },
        "outputId": "da1b817f-03c3-41f4-8520-cfd49f863d5c"
      },
      "execution_count": 2,
      "outputs": [
        {
          "output_type": "stream",
          "name": "stdout",
          "text": [
            "Items seleccionados: [9, 1, 10, 3, 4]\n",
            "Utilidad total: 407\n",
            "Capacidad usada: 100\n"
          ]
        }
      ]
    }
  ]
}