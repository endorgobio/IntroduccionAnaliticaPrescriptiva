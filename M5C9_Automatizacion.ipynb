{
  "nbformat": 4,
  "nbformat_minor": 0,
  "metadata": {
    "colab": {
      "provenance": [],
      "toc_visible": true,
      "authorship_tag": "ABX9TyNdFmRO9QQOBWcnvybUklha",
      "include_colab_link": true
    },
    "kernelspec": {
      "name": "python3",
      "display_name": "Python 3"
    },
    "language_info": {
      "name": "python"
    }
  },
  "cells": [
    {
      "cell_type": "markdown",
      "metadata": {
        "id": "view-in-github",
        "colab_type": "text"
      },
      "source": [
        "<a href=\"https://colab.research.google.com/github/endorgobio/IntroduccionAnaliticaPrescriptiva/blob/main/M5C9_Automatizacion.ipynb\" target=\"_parent\"><img src=\"https://colab.research.google.com/assets/colab-badge.svg\" alt=\"Open In Colab\"/></a>"
      ]
    },
    {
      "cell_type": "markdown",
      "source": [
        "<p style=\"text-align: center;\">\n",
        "    <img alt=\"banner\" height=\"230px\" width=\"100%\" src=\"https://github.com/endorgobio/IntroduccionAnaliticaPrescriptiva/blob/6cc6029c276aacdf228dcec4796b7b3184cfb8b7/src/header.png?raw=true\" hspace=\"10px\" vspace=\"0px\">\n",
        "</p>"
      ],
      "metadata": {
        "id": "de0mGKwY-Gn3"
      }
    },
    {
      "cell_type": "markdown",
      "source": [
        "# <font color='FD6E72'> **Descripción del problema** </font>\n",
        "\n"
      ],
      "metadata": {
        "id": "9j2M5sQZOUCZ"
      }
    },
    {
      "cell_type": "markdown",
      "source": [
        "\n",
        "\n",
        "Una compañia de alimentos tiene **cinco lineas** que procesan un único tipo de producto. El plan de demanda contiene las ordenes de 10 clientes (en miles de productos) y la utilidad (en millones de pesos) que cada una de ellas genera en cada uno de las lineas\n",
        "\n",
        "\n",
        "|          | Orden 1 | Orden 2 | Orden 3 | Orden 4 | Orden 5 | Orden 6 | Orden 7 | Orden 8 | Orden 9 | Orden 10 |\n",
        "|----------|---------|---------|---------|---------|---------|---------|---------|---------|---------|----------|\n",
        "| Cantidad |   16    |   29    |   24    |   20    |   17    |   30    |   32    |   28    |   20    |    20    |\n",
        "| Utilidad 1 |   73    |   85    |   89    |   73    |   52    |   71    |   102   |   73    |   93    |    79    |\n",
        "| Utilidad 2 |   67    |   79    |   88    |   65    |   50    |   72    |   98    |   70    |   90    |    75    |\n",
        "| Utilidad 3 |   70    |   82    |   87    |   68    |   53    |   69    |   99    |   72    |   91    |    77    |\n",
        "| Utilidad 4 |   75    |   84    |   86    |   71    |   51    |   70    |   101   |   74    |   92    |    78    |\n",
        "| Utilidad 5 |   72    |   81    |   85    |   66    |   54    |   73    |   97    |   71    |   89    |    76    |\n",
        "\n",
        "\n",
        "La política de la empresa estipula que a un cliente se le despacha  el total de su demanda o en caso contrarion no se le despacha nada. La capacidad de cada linea es 55 mil unidades de producto, pero alistar cualquiera de las lineas sin importar el número de productos que se produzcan en ella tiene un costo de 200. La decisión que debe tomarse es:\n",
        "\n",
        "\n",
        "> **¿Cuáles de las ordenes deben producirse y en que líneas deben hacerse?**\n"
      ],
      "metadata": {
        "id": "ryECV9Pn44H-"
      }
    },
    {
      "cell_type": "markdown",
      "source": [
        "# <font color='#FD6E72'> **Verbalización del problema** </font>\n",
        "\n",
        "\n",
        "\n",
        "## <font color='ff6d33'>**Conjuntos** </font>\n",
        "* Conjunto de pedidos.\n",
        "* Conjunto de líneas de producción.\n",
        "\n",
        "\n",
        "## <font color='ff6d33'>**Parámetros** </font>\n",
        "- Utilidad asociada a cada pedido.\n",
        "- Demanda asociada a cada pedido.\n",
        "- Capacidad de cada línea de producción.\n",
        "- Costo de alistamiento de la línea.\n",
        "\n",
        "## <font color='ff6d33'>**Decisiones** </font>\n",
        "  * Debe decidirse cuáles lineas activar (alistar)\n",
        "  * Para cada pedido debe decidirse si producirlo o no producirlo y en caso de producirlo en cuál de las lineas debería producirse\n",
        "\n",
        "## <font color='ff6d33'>**Objetivo** </font>\n",
        "\n",
        "  Generar la máxima utilidad entendida como la utilidad generada por los pedidos producidos menos el costo de alistar las líneas que entran en operación\n",
        "\n",
        "## <font color='ff6d33'>**Restricciones** </font>\n",
        "\n",
        "  * La cantidad de unidades de producto requerida por los pedidos a producir en cada línea no debe sobrepasar su capacidad\n",
        "  * Cada orden debe producirse cuando más en una linea\n",
        "  * No pueden producirse pedidos en líneas que no han sido alistadas\n",
        "  * Las ordenes no pueden fraccionarse"
      ],
      "metadata": {
        "id": "cLVE1yb-44IJ"
      }
    },
    {
      "cell_type": "markdown",
      "source": [
        "# <font color='#FD6E72'> **Formulación matemática** </font>"
      ],
      "metadata": {
        "id": "GyM6oBW544IJ"
      }
    },
    {
      "cell_type": "markdown",
      "source": [
        "## <font color='ff6d33'> **Formulación generalizada** </font>\n",
        "\n",
        "Este mismo modelo puede escribirse de manera generalizada de la siguiente frma\n",
        "\n",
        "\n",
        "### **Conjuntos**\n",
        "- $P$: Conjunto de pedidos.\n",
        "- $L$: Conjunto de líneas de producción.\n",
        "\n",
        "### **Parámetros**\n",
        "- $d_i$: Demanda del pedido $i$, $\\forall i \\in P$.\n",
        "- $u_{ij}$: Utilidad del pedido $i$ en la línea $j$, $\\forall i \\in P, \\forall j \\in L$.\n",
        "- $c_j$: Capacidad de la línea $j$, $\\forall j \\in L$.\n",
        "- $s$: Costo de alistamiento de la línea.\n",
        "\n",
        "### **Variable de Decisión**\n",
        "\n",
        "\n",
        "> $y_{j} =\n",
        "\\begin{cases}\n",
        "1, & \\text{si se usa (alista) la línea $j$,} \\\\\n",
        "0, & \\text{si no usa (alista) la línea $j$}\n",
        "\\end{cases} \\quad \\forall j \\in L$\n",
        "\n",
        "\n",
        "> $x_{ij} =  \\begin{cases}\n",
        "1, & \\text{si el pedido $i$ se realiza en la línea $j$,} \\\\\n",
        "0, & \\text{si el pedido $i$ no se realiza en la línea $j$,}\n",
        "\\end{cases} \\quad \\forall i \\in P, \\forall j \\in L$\n",
        "\n",
        "\n",
        "### **Función Objetivo**\n",
        "\n",
        "Maximizar la utilidad total:\n",
        "\n",
        "> $\\text{Maximizar} \\quad \\sum_{i \\in P} \\sum_{j \\in L} u_{ij} x_{ij} - \\sum_{j \\in L} s y_j$\n",
        "\n",
        "### **Restricciones**\n",
        "\n",
        "- Restricción de capacidad por línea:\n",
        "  > $ \\sum_{i \\in P} d_i x_{ij} \\leq c_j, \\quad \\forall j \\in L$\n",
        "\n",
        "- Restricción de asignación de pedidos:\n",
        "  > $\\sum_{j \\in L} x_{ij} \\leq 1, \\quad \\forall i \\in P$\n",
        "\n",
        "- Restricción de alistamiento:\n",
        "  > $  x_{ij} \\leq y_j, \\quad \\forall i \\in P, \\forall j \\in L$\n",
        "\n",
        "- Restricción de variables binarias:\n",
        "  > $x_{ij} \\in \\{0, 1\\}, \\quad \\forall i \\in P, \\forall j \\in L$\n",
        "\n",
        "\n",
        "\n"
      ],
      "metadata": {
        "id": "hT2wLu6oujMR"
      }
    },
    {
      "cell_type": "markdown",
      "source": [
        "# <font color='#FD6E72'> **Instancia de datos** </font>"
      ],
      "metadata": {
        "id": "7CIJFxVl6_ww"
      }
    },
    {
      "cell_type": "markdown",
      "source": [
        "Consideremos una isnatncia particular para tener claridad sobre como se almacenan los datos. Posteriormente veremos que podemos automatizar la creación del modelo en una función que reciba como argumento cualquier instancia de datos"
      ],
      "metadata": {
        "id": "ybEzgptR8caa"
      }
    },
    {
      "cell_type": "code",
      "source": [
        "# dictionary of data\n",
        "data ={\n",
        "  # demads\n",
        "  'demands': {1: 16, 2: 29, 3: 24, 4: 20, 5: 17, 6: 30, 7: 32, 8: 28, 9: 20, 10: 20},\n",
        "  # Utilities\n",
        "  'utilities': {\n",
        "      (1, 1): 73, (1, 2): 67, (1, 3): 70, (1, 4): 75, (1, 5): 72,\n",
        "      (2, 1): 85, (2, 2): 79, (2, 3): 82, (2, 4): 84, (2, 5): 81,\n",
        "      (3, 1): 89, (3, 2): 88, (3, 3): 87, (3, 4): 86, (3, 5): 85,\n",
        "      (4, 1): 73, (4, 2): 65, (4, 3): 68, (4, 4): 71, (4, 5): 66,\n",
        "      (5, 1): 52, (5, 2): 50, (5, 3): 53, (5, 4): 51, (5, 5): 54,\n",
        "      (6, 1): 71, (6, 2): 72, (6, 3): 69, (6, 4): 70, (6, 5): 73,\n",
        "      (7, 1): 102, (7, 2): 98, (7, 3): 99, (7, 4): 101, (7, 5): 97,\n",
        "      (8, 1): 73, (8, 2): 70, (8, 3): 72, (8, 4): 74, (8, 5): 71,\n",
        "      (9, 1): 93, (9, 2): 90, (9, 3): 91, (9, 4): 92, (9, 5): 89,\n",
        "      (10, 1): 79, (10, 2): 75, (10, 3): 77, (10, 4): 78, (10, 5): 76\n",
        "  },\n",
        "  # Capacities of the lines\n",
        "  'capacities': {1: 55, 2: 55, 3: 55, 4: 55, 5: 55},\n",
        "  # Cost of setting up each line\n",
        "  'cost_setup': {1: 150, 2: 150, 3: 150, 4: 150, 5: 150}\n",
        "}"
      ],
      "metadata": {
        "id": "QYUPbbnl8bxc"
      },
      "execution_count": null,
      "outputs": []
    },
    {
      "cell_type": "markdown",
      "source": [
        "# <font color='#FD6E72'> **Implementación** </font>"
      ],
      "metadata": {
        "id": "KlJ0di9944IJ"
      }
    },
    {
      "cell_type": "markdown",
      "source": [
        "*   El modelo se implementa en un **lenguaje de modelación**, (en este caso `pyomo`).\n",
        "*   El modelose resuelve haciendo uso de un **optimizador** (en este caso `highs`).\n",
        "\n"
      ],
      "metadata": {
        "id": "8xdLBb8d44IJ"
      }
    },
    {
      "cell_type": "markdown",
      "source": [
        "## <font color='ff6d33'> **Instalamos las librerias necesarias** </font>"
      ],
      "metadata": {
        "id": "pdWrUaSg4YvH"
      }
    },
    {
      "cell_type": "code",
      "source": [
        "!pip install pyomo\n",
        "!pip install highspy\n",
        "import pyomo.environ as env # Alternativamente: from pyomo.environ import *\n",
        "import pandas as pd"
      ],
      "metadata": {
        "id": "ORYXWHtd44IJ"
      },
      "execution_count": null,
      "outputs": []
    },
    {
      "cell_type": "markdown",
      "source": [
        "## <font color='ff6d33'> **Creamos el modelo** </font>"
      ],
      "metadata": {
        "id": "8pR8KNmg7oPo"
      }
    },
    {
      "cell_type": "markdown",
      "source": [
        "Creamos la función `create_model()` que recibe como argunmento la variable `data` que contiene la información de la instancia y retorna el modelo construido"
      ],
      "metadata": {
        "id": "TmzX3veL_wq2"
      }
    },
    {
      "cell_type": "code",
      "source": [
        "def create_model(data):\n",
        "  # Create model\n",
        "  model = env.ConcreteModel()\n",
        "\n",
        "  # read ids for orders and lines\n",
        "  Orders = list(data['demands'].keys())\n",
        "  Lines = list(data['capacities'].keys())\n",
        "\n",
        "  # Define sets\n",
        "  model.Orders = env.Set(initialize=Orders)  # Set of orders\n",
        "  model.Lines = env.Set(initialize=Lines)  # Set of lines\n",
        "\n",
        "  # Define parameters\n",
        "  model.demand = env.Param(model.Orders, initialize=data['demands'])   # Order demands\n",
        "  model.utility = env.Param(model.Orders, model.Lines, initialize=data['utilities'])   # order utility per line\n",
        "  model.capacity = env.Param(model.Lines, initialize=data['capacities'])   # line capacity\n",
        "  model.cost_setup = env.Param(model.Lines, initialize=data['cost_setup'])   # line setup cost\n",
        "\n",
        "  # Define decision variables\n",
        "  model.prod = env.Var(model.Orders, model.Lines, domain=env.Binary)  # Binary variables for order production in lines\n",
        "  model.setup = env.Var(model.Lines, domain=env.Binary)  # Binary variables for lines setup\n",
        "\n",
        "  # Objective function: Maximize total value\n",
        "  def objective_rule(model):\n",
        "    return sum(model.utility[i, l] * model.prod[i, l] for i in model.Orders for l in model.Lines) - sum(model.cost_setup[l] * model.setup[l] for l in model.Lines)\n",
        "  model.obj = env.Objective(rule=objective_rule, sense=env.maximize)\n",
        "\n",
        "  # Constraint 1: Capacity constraint for each line\n",
        "  def capacity_constraint(model, l):\n",
        "    return sum(model.demand[i] * model.prod[i, l] for i in model.Orders) <= model.capacity[l]\n",
        "  model.capacity_constraints = env.Constraint(model.Lines, rule=capacity_constraint)\n",
        "\n",
        "  # Constraint 2: Each order should bre produced in at most one line\n",
        "  def item_assignment_constraint(model, i):\n",
        "    return sum(model.prod[i, l] for l in model.Lines) <= 1\n",
        "  model.item_constraints = env.Constraint(model.Orders, rule=item_assignment_constraint)\n",
        "\n",
        "  # Constraint 3: set-up constraint\n",
        "  def setup_constraint(model, i, l):\n",
        "    return model.prod[i, l]  <= model.setup[l]\n",
        "  model.setup_constraints = env.Constraint(model.Orders, model.Lines, rule=setup_constraint)\n",
        "\n",
        "  return model\n"
      ],
      "metadata": {
        "id": "PaKRp8LsL-3O"
      },
      "execution_count": null,
      "outputs": []
    },
    {
      "cell_type": "markdown",
      "source": [
        "Creemos el modelo para la instancia de datos data:"
      ],
      "metadata": {
        "id": "z8-sXqo2PCPV"
      }
    },
    {
      "cell_type": "code",
      "source": [
        "model = create_model(data)"
      ],
      "metadata": {
        "id": "DUaDAz-3PGZ8"
      },
      "execution_count": null,
      "outputs": []
    },
    {
      "cell_type": "markdown",
      "source": [
        "# <font color='#FD6E72'> **Resolver el modelo** </font>\n",
        "\n",
        "El modelo se resuelve para una instancia de datos, en este caso la instancia que hemos usado para crearlo."
      ],
      "metadata": {
        "id": "G547lLpCCPlb"
      }
    },
    {
      "cell_type": "code",
      "source": [
        "# Solve the model using a solver\n",
        "solver = env.SolverFactory('appsi_highs')\n",
        "results = solver.solve(model, tee=True)"
      ],
      "metadata": {
        "colab": {
          "base_uri": "https://localhost:8080/"
        },
        "id": "mzMM3MEXClUL",
        "outputId": "5b353b8d-0adf-4580-fbc0-0b336fd92c11"
      },
      "execution_count": null,
      "outputs": [
        {
          "output_type": "stream",
          "name": "stdout",
          "text": [
            "Running HiGHS 1.9.0 (git hash: fa40bdf): Copyright (c) 2024 HiGHS under MIT licence terms\n",
            "Coefficient ranges:\n",
            "  Matrix [1e+00, 3e+01]\n",
            "  Cost   [5e+01, 2e+02]\n",
            "  Bound  [1e+00, 1e+00]\n",
            "  RHS    [1e+00, 6e+01]\n",
            "Presolving model\n",
            "65 rows, 55 cols, 200 nonzeros  0s\n",
            "65 rows, 55 cols, 200 nonzeros  0s\n",
            "Objective function is integral with scale 1\n",
            "\n",
            "Solving MIP model with:\n",
            "   65 rows\n",
            "   55 cols (55 binary, 0 integer, 0 implied int., 0 continuous)\n",
            "   200 nonzeros\n",
            "\n",
            "Src: B => Branching; C => Central rounding; F => Feasibility pump; H => Heuristic; L => Sub-MIP;\n",
            "     P => Empty MIP; R => Randomized rounding; S => Solve LP; T => Evaluate node; U => Unbounded;\n",
            "     z => Trivial zero; l => Trivial lower; u => Trivial upper; p => Trivial point\n",
            "\n",
            "        Nodes      |    B&B Tree     |            Objective Bounds              |  Dynamic Constraints |       Work      \n",
            "Src  Proc. InQueue |  Leaves   Expl. | BestBound       BestSol              Gap |   Cuts   InLp Confl. | LpIters     Time\n",
            "\n",
            " z       0       0         0   0.00%   inf             -0                 Large        0    -65      0         0     0.0s\n",
            "         0       0         0   0.00%   624.5084746     -0                 Large        0      0      1        64     0.0s\n",
            " L       0       0         0   0.00%   160.6094507     106               51.52%      877     47      2       290     0.1s\n",
            " B       0       0         0   0.00%   160.6094507     116               38.46%      877     21      2       511     0.2s\n",
            " T       3       1         0  25.00%   148.4631313     119               24.76%     1534     46      7       996     0.3s\n",
            "         5       0         2 100.00%   119             119                0.00%     1534     46      8      1042     0.3s\n",
            "\n",
            "Solving report\n",
            "  Status            Optimal\n",
            "  Primal bound      119\n",
            "  Dual bound        119\n",
            "  Gap               0% (tolerance: 0.01%)\n",
            "  P-D integral      0.0538668648595\n",
            "  Solution status   feasible\n",
            "                    119 (objective)\n",
            "                    0 (bound viol.)\n",
            "                    3.77475828373e-15 (int. viol.)\n",
            "                    0 (row viol.)\n",
            "  Timing            0.26 (total)\n",
            "                    0.00 (presolve)\n",
            "                    0.00 (solve)\n",
            "                    0.00 (postsolve)\n",
            "  Max sub-MIP depth 3\n",
            "  Nodes             5\n",
            "  Repair LPs        0 (0 feasible; 0 iterations)\n",
            "  LP iterations     1042 (total)\n",
            "                    355 (strong br.)\n",
            "                    321 (separation)\n",
            "                    221 (heuristics)\n"
          ]
        }
      ]
    }
  ]
}