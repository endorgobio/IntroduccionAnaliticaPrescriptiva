{
  "nbformat": 4,
  "nbformat_minor": 0,
  "metadata": {
    "colab": {
      "provenance": [],
      "toc_visible": true,
      "authorship_tag": "ABX9TyMhfe8mLSBFcBSJfiJX3qOn",
      "include_colab_link": true
    },
    "kernelspec": {
      "name": "python3",
      "display_name": "Python 3"
    },
    "language_info": {
      "name": "python"
    }
  },
  "cells": [
    {
      "cell_type": "markdown",
      "metadata": {
        "id": "view-in-github",
        "colab_type": "text"
      },
      "source": [
        "<a href=\"https://colab.research.google.com/github/endorgobio/IntroduccionAnaliticaPrescriptiva/blob/main/M6C3_Reto_descripcion.ipynb\" target=\"_parent\"><img src=\"https://colab.research.google.com/assets/colab-badge.svg\" alt=\"Open In Colab\"/></a>"
      ]
    },
    {
      "cell_type": "markdown",
      "source": [
        "<p style=\"text-align: center;\">\n",
        "    <img alt=\"banner\" height=\"230px\" width=\"100%\" src=\"https://github.com/endorgobio/IntroduccionAnaliticaPrescriptiva/blob/6cc6029c276aacdf228dcec4796b7b3184cfb8b7/src/header.png?raw=true\" hspace=\"10px\" vspace=\"0px\">\n",
        "</p>"
      ],
      "metadata": {
        "id": "hzXIEXmOTsGd"
      }
    },
    {
      "cell_type": "markdown",
      "source": [
        "# <font color='FD6E72'> **Definición del problema** </font>"
      ],
      "metadata": {
        "id": "22O_QE_3XKge"
      }
    },
    {
      "cell_type": "markdown",
      "source": [
        "**Diseño Óptimo de la Red de Producción**  \n",
        "\n",
        "Una empresa líder en la producción de salsa de tomate ha decidido optimizar su sistema nacional de producción. Actualmente, su proceso de abastecimiento y transformación de materia prima se estructura de la siguiente manera:  \n",
        "\n",
        "1. **Adquisición de Tomates:** La empresa compra tomates a una selección de diez proveedores ubicados en distintas regiones del país.  \n",
        "2. **Procesamiento Intermedio:** Los tomates adquiridos se transportan desde las bodegas de los proveedores hacia plantas intermedias de procesamiento, donde se transforman en pasta de tomate y se empacan en barriles de 50 litros. El proceso de conversión está definido por una relación de 100 kg de tomate por cada 50 litros de pasta de tomate.  \n",
        "3. **Producción Final:** Los barriles con pasta de tomate son enviados a las plantas de producción, donde se mezclan con otros ingredientes y se empacan en unidades listas para su distribución en almacenes de cadena.  \n",
        "\n",
        "La empresa le ha contratado para diseñar la red de producción óptima con el objetivo de **minimizar el costo total de abastecimiento de materia prima** en las plantas  de producción final, que incluye tanto el costo de adquisición de los tomates como el costo de transporte hasta las plantas de producción.  \n",
        "\n",
        "Para ello, deberá tomar decisiones estratégicas sobre:  \n",
        "- La cantidad y ubicación de las plantas intermedias de procesamiento a abrir.  \n",
        "- La cantidad de tomate que se debe comprar a cada proveedor.  \n",
        "- La distribución óptima de los tomates desde las bodegas de los proveedores hasta las plantas intermedias de procesamiento.  \n",
        "- La cantidad de barriles de pasta de tomate que deben ser transportados desde las plantas intermedias hacia las plantas de producción.  \n",
        "\n",
        "El diseño de la red deberá garantizar eficiencia operativa, minimizar costos logísticos y asegurar un flujo adecuado de materia prima en la cadena de producción.  \n",
        "\n"
      ],
      "metadata": {
        "id": "OpFSKSD7ygna"
      }
    },
    {
      "cell_type": "markdown",
      "source": [
        "## <font color='#ff6d33'> **Datos de la instancia** </font>\n",
        "\n",
        "Las siguientes tablas resumen los datos para una instancia particular del problema"
      ],
      "metadata": {
        "id": "Hj3lExSBzkC0"
      }
    },
    {
      "cell_type": "markdown",
      "source": [
        "**Costo de abastecmiento y capacidad de abastecimiento** </font>\n",
        "\n",
        "Los costos de abastecimiento por $kg$ desde cada proveedor son los siguientes así como las cantidades máximas que pueden abastecer también en $kg$\n",
        "\n",
        "| Proveedor | P1 | P2 | P3 | P4 | P5 | P6 | P7 | P8 | P9 | P10 |\n",
        "|-----------|----|----|----|----|----|----|----|----|----|-----|\n",
        "| Costo   |  7 | 10 |  5 |  8 |  5 |  9 | 12 |  7 |  8 | 10  |\n",
        "| Cantidad |1000 | 820 | 750 |1110 |1200 | 600 | 750 | 910 | 630 | 990  |\n"
      ],
      "metadata": {
        "id": "WYRNUlnIzOYs"
      }
    },
    {
      "cell_type": "markdown",
      "source": [
        "**Costo plantas intermedias y capacidad de procesamiento** </font>\n",
        "\n",
        "Existe un costo fijo de poner en operación cada una de las plantas intermedias, el costo variable por procesamiento de cada $kg$ de tomate asi como una capacidad máxima de procesamiento en $kg$\n",
        "\n",
        "| Planta | T1  | T2  | T3  | T4  | T5  |\n",
        "|--------|-----|-----|-----|-----|-----|\n",
        "| Costo_fijo | 1000 | 1500 | 1100 | 1000 | 950 |\n",
        "| Costo_var | 0.5 | 0.6 | 0.7 | 0.5 | 0.8 |\n",
        "| Capacidad | 5500 | 7800 | 4500 | 5100 | 4000 |\n"
      ],
      "metadata": {
        "id": "8MlNZP8A0LdF"
      }
    },
    {
      "cell_type": "markdown",
      "source": [
        "**Costo de transporte entre proveedores y plantas intermedias** </font>\n",
        "\n",
        "El costo de transporte por $kg$ entre proveedores y plantas de procesamiento intermedia es el siguiente\n",
        "\n",
        "\n",
        "| Proveedor | T1  | T2  | T3  | T4  | T5  |\n",
        "|-----------|-----|-----|-----|-----|-----|\n",
        "| **P1**   | 2.2 | 2.6 | 1.7 | 0.8 | 1.0 |\n",
        "| **P2**   | 0.5 | 1.6 | 2.8 | 1.8 | 3.2 |\n",
        "| **P3**   | 3.0 | 2.1 | 1.4 | 3.5 | 1.4 |\n",
        "| **P4**   | 2.9 | 1.9 | 1.7 | 3.4 | 0.8 |\n",
        "| **P5**   | 1.5 | 1.7 | 1.6 | 2.0 | 1.4 |\n",
        "| **P6**   | 0.5 | 2.1 | 1.0 | 3.4 | 2.2 |\n",
        "| **P7**   | 2.1 | 0.6 | 0.6 | 1.2 | 2.0 |\n",
        "| **P8**   | 0.9 | 2.1 | 3.4 | 3.4 | 3.1 |\n",
        "| **P9**   | 2.0 | 2.3 | 2.2 | 1.5 | 2.2 |\n",
        "| **P10**  | 3.4 | 3.1 | 2.9 | 1.3 | 2.8 |\n"
      ],
      "metadata": {
        "id": "UnjIQpcH0yGp"
      }
    },
    {
      "cell_type": "markdown",
      "source": [
        "**Costo de transporte entre plantas intermedias y plantas de frabricación** </font>\n",
        "\n",
        "El costo de transporte por $kg$ entre proveedores y plantas de procesamiento intermedia es el siguiente\n",
        "\n",
        "\n",
        "| Planta | F1  | F2  | F3  |\n",
        "|--------|-----|-----|-----|\n",
        "| **T1** | 1.6 | 1.6 | 2.9 |\n",
        "| **T2** | 1.0 | 2.3 | 1.5 |\n",
        "| **T3** | 2.3 | 2.1 | 3.4 |\n",
        "| **T4** | 1.9 | 3.1 | 2.3 |\n",
        "| **T5** | 0.6 | 1.6 | 0.8 |\n"
      ],
      "metadata": {
        "id": "sToi7-z91qAW"
      }
    },
    {
      "cell_type": "markdown",
      "source": [
        "**Demanda de las plantas de producción final** </font>\n",
        "\n",
        "Demanda en barriles de cada una de las plantas de producción final\n",
        "\n",
        "\n",
        "|    Planta    | F1  | F2  | F3  |\n",
        "|--------|-----|-----|-----|\n",
        "| demanda | 1000  | 750  | 900  |\n"
      ],
      "metadata": {
        "id": "eRt8nb3N3ckt"
      }
    },
    {
      "cell_type": "markdown",
      "source": [
        "Hemos recopilado estos datos en un diccionario de datos llamado `data`"
      ],
      "metadata": {
        "id": "f9jJ-Cd_TRnd"
      }
    },
    {
      "cell_type": "code",
      "source": [
        "data = {\n",
        "    \"Costo_abastecimiento\": {\n",
        "            \"P1\": 7, \"P2\": 10, \"P3\": 5, \"P4\": 8, \"P5\": 5,\n",
        "            \"P6\": 9, \"P7\": 12, \"P8\": 7, \"P9\": 8, \"P10\": 10\n",
        "    },\n",
        "    \"Cantidad_abastecimiento\": {\n",
        "            \"P1\": 1000, \"P2\": 820, \"P3\": 750, \"P4\": 1110, \"P5\": 1200,\n",
        "            \"P6\": 600, \"P7\": 750, \"P8\": 910, \"P9\": 630, \"P10\": 990\n",
        "    },\n",
        "    \"Costo_Fijo\": {\n",
        "            \"T1\": 1000, \"T2\": 1500, \"T3\": 1100, \"T4\": 1000, \"T5\": 950\n",
        "    },\n",
        "    \"Costo_Variable\": {\n",
        "            \"T1\": 0.5, \"T2\": 0.5, \"T3\": 0.5, \"T4\": 0.7, \"T5\": 0.8\n",
        "    },\n",
        "    \"Capacidad_intermedias\": {\n",
        "            \"T1\": 5500, \"T2\": 7800, \"T3\": 4500, \"T4\": 5100, \"T5\": 4000\n",
        "    },\n",
        "    \"Costo_Transporte_abast\": {\n",
        "        # Transporte Proveedores → Plantas Intermedias\n",
        "        (\"P1\", \"T1\"): 2.2, (\"P1\", \"T2\"): 2.6, (\"P1\", \"T3\"): 1.7, (\"P1\", \"T4\"): 0.8, (\"P1\", \"T5\"): 1.0,\n",
        "        (\"P2\", \"T1\"): 0.5, (\"P2\", \"T2\"): 1.6, (\"P2\", \"T3\"): 2.8, (\"P2\", \"T4\"): 1.8, (\"P2\", \"T5\"): 3.2,\n",
        "        (\"P3\", \"T1\"): 3.0, (\"P3\", \"T2\"): 2.1, (\"P3\", \"T3\"): 1.4, (\"P3\", \"T4\"): 3.5, (\"P3\", \"T5\"): 1.4,\n",
        "        (\"P4\", \"T1\"): 2.9, (\"P4\", \"T2\"): 1.9, (\"P4\", \"T3\"): 1.7, (\"P4\", \"T4\"): 3.4, (\"P4\", \"T5\"): 0.8,\n",
        "        (\"P5\", \"T1\"): 1.5, (\"P5\", \"T2\"): 1.7, (\"P5\", \"T3\"): 1.6, (\"P5\", \"T4\"): 2.0, (\"P5\", \"T5\"): 1.4,\n",
        "        (\"P6\", \"T1\"): 0.5, (\"P6\", \"T2\"): 2.1, (\"P6\", \"T3\"): 1.0, (\"P6\", \"T4\"): 3.4, (\"P6\", \"T5\"): 2.2,\n",
        "        (\"P7\", \"T1\"): 2.1, (\"P7\", \"T2\"): 0.6, (\"P7\", \"T3\"): 0.6, (\"P7\", \"T4\"): 1.2, (\"P7\", \"T5\"): 2.0,\n",
        "        (\"P8\", \"T1\"): 0.9, (\"P8\", \"T2\"): 2.1, (\"P8\", \"T3\"): 3.4, (\"P8\", \"T4\"): 3.4, (\"P8\", \"T5\"): 3.1,\n",
        "        (\"P9\", \"T1\"): 2.0, (\"P9\", \"T2\"): 2.3, (\"P9\", \"T3\"): 2.2, (\"P9\", \"T4\"): 1.5, (\"P9\", \"T5\"): 2.2,\n",
        "        (\"P10\", \"T1\"): 3.4, (\"P10\", \"T2\"): 3.1, (\"P10\", \"T3\"): 2.9, (\"P10\", \"T4\"): 1.3, (\"P10\", \"T5\"): 2.8,\n",
        "    },\n",
        "    \"Costo_Transporte_final\": {\n",
        "        # Transporte Plantas Intermedias → Plantas de Fabricación\n",
        "        (\"T1\", \"F1\"): 1.6, (\"T1\", \"F2\"): 1.6, (\"T1\", \"F3\"): 2.9,\n",
        "        (\"T2\", \"F1\"): 1.0, (\"T2\", \"F2\"): 2.3, (\"T2\", \"F3\"): 1.5,\n",
        "        (\"T3\", \"F1\"): 2.3, (\"T3\", \"F2\"): 2.1, (\"T3\", \"F3\"): 3.4,\n",
        "        (\"T4\", \"F1\"): 1.9, (\"T4\", \"F2\"): 3.1, (\"T4\", \"F3\"): 2.3,\n",
        "        (\"T5\", \"F1\"): 0.6, (\"T5\", \"F2\"): 1.6, (\"T5\", \"F3\"): 0.8\n",
        "    },\n",
        "\n",
        "    \"Demanda\": {\n",
        "        \"F1\": 1000, \"F2\": 750, \"F3\": 900\n",
        "    },\n",
        "    # factor de conversión de kilos a litros\n",
        "    \"factor_conv\":0.5\n",
        "}\n"
      ],
      "metadata": {
        "id": "wMIFyOyO4l_-"
      },
      "execution_count": null,
      "outputs": []
    }
  ]
}