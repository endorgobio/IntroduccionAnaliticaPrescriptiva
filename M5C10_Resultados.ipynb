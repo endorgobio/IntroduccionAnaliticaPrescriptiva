{
  "nbformat": 4,
  "nbformat_minor": 0,
  "metadata": {
    "colab": {
      "provenance": [],
      "toc_visible": true,
      "authorship_tag": "ABX9TyO9lA5/z6T+Y3IZsQG4Takg",
      "include_colab_link": true
    },
    "kernelspec": {
      "name": "python3",
      "display_name": "Python 3"
    },
    "language_info": {
      "name": "python"
    }
  },
  "cells": [
    {
      "cell_type": "markdown",
      "metadata": {
        "id": "view-in-github",
        "colab_type": "text"
      },
      "source": [
        "<a href=\"https://colab.research.google.com/github/endorgobio/IntroduccionAnaliticaPrescriptiva/blob/main/M5C10_Resultados.ipynb\" target=\"_parent\"><img src=\"https://colab.research.google.com/assets/colab-badge.svg\" alt=\"Open In Colab\"/></a>"
      ]
    },
    {
      "cell_type": "markdown",
      "source": [
        "<p style=\"text-align: center;\">\n",
        "    <img alt=\"banner\" height=\"230px\" width=\"100%\" src=\"https://github.com/endorgobio/IntroduccionAnaliticaPrescriptiva/blob/6cc6029c276aacdf228dcec4796b7b3184cfb8b7/src/header.png?raw=true\" hspace=\"10px\" vspace=\"0px\">\n",
        "</p>"
      ],
      "metadata": {
        "id": "de0mGKwY-Gn3"
      }
    },
    {
      "cell_type": "markdown",
      "source": [
        "# <font color='FD6E72'> **Descripción del problema** </font>\n",
        "\n"
      ],
      "metadata": {
        "id": "9j2M5sQZOUCZ"
      }
    },
    {
      "cell_type": "markdown",
      "source": [
        "\n",
        "\n",
        "Una compañia de alimentos tiene **cinco lineas** que procesan un único tipo de producto. El plan de demanda contiene las ordenes de 10 clientes (en miles de productos) y la utilidad (en millones de pesos) que cada una de ellas genera en cada uno de las lineas\n",
        "\n",
        "\n",
        "|          | Orden 1 | Orden 2 | Orden 3 | Orden 4 | Orden 5 | Orden 6 | Orden 7 | Orden 8 | Orden 9 | Orden 10 |\n",
        "|----------|---------|---------|---------|---------|---------|---------|---------|---------|---------|----------|\n",
        "| Cantidad |   16    |   29    |   24    |   20    |   17    |   30    |   32    |   28    |   20    |    20    |\n",
        "| Utilidad 1 |   73    |   85    |   89    |   73    |   52    |   71    |   102   |   73    |   93    |    79    |\n",
        "| Utilidad 2 |   67    |   79    |   88    |   65    |   50    |   72    |   98    |   70    |   90    |    75    |\n",
        "| Utilidad 3 |   70    |   82    |   87    |   68    |   53    |   69    |   99    |   72    |   91    |    77    |\n",
        "| Utilidad 4 |   75    |   84    |   86    |   71    |   51    |   70    |   101   |   74    |   92    |    78    |\n",
        "| Utilidad 5 |   72    |   81    |   85    |   66    |   54    |   73    |   97    |   71    |   89    |    76    |\n",
        "\n",
        "\n",
        "La política de la empresa estipula que a un cliente se le despacha  el total de su demanda o en caso contrarion no se le despacha nada. La capacidad de cada linea es 55 mil unidades de producto, pero alistar cualquiera de las lineas sin importar el número de productos que se produzcan en ella tiene un costo de 200. La decisión que debe tomarse es:\n",
        "\n",
        "\n",
        "> **¿Cuáles de las ordenes deben producirse y en que líneas deben hacerse?**\n"
      ],
      "metadata": {
        "id": "ryECV9Pn44H-"
      }
    },
    {
      "cell_type": "markdown",
      "source": [
        "# <font color='#FD6E72'> **Verbalización del problema** </font>\n",
        "\n",
        "\n",
        "\n",
        "## <font color='ff6d33'>**Conjuntos** </font>\n",
        "* Conjunto de pedidos.\n",
        "* Conjunto de líneas de producción.\n",
        "\n",
        "\n",
        "## <font color='ff6d33'>**Parámetros** </font>\n",
        "- Utilidad asociada a cada pedido.\n",
        "- Demanda asociada a cada pedido.\n",
        "- Capacidad de cada línea de producción.\n",
        "- Costo de alistamiento de la línea.\n",
        "\n",
        "## <font color='ff6d33'>**Decisiones** </font>\n",
        "  * Debe decidirse cuáles lineas activar (alistar)\n",
        "  * Para cada pedido debe decidirse si producirlo o no producirlo y en caso de producirlo en cuál de las lineas debería producirse\n",
        "\n",
        "## <font color='ff6d33'>**Objetivo** </font>\n",
        "\n",
        "  Generar la máxima utilidad entendida como la utilidad generada por los pedidos producidos menos el costo de alistar las líneas que entran en operación\n",
        "\n",
        "## <font color='ff6d33'>**Restricciones** </font>\n",
        "\n",
        "  * La cantidad de unidades de producto requerida por los pedidos a producir en cada línea no debe sobrepasar su capacidad\n",
        "  * Cada orden debe producirse cuando más en una linea\n",
        "  * No pueden producirse pedidos en líneas que no han sido alistadas\n",
        "  * Las ordenes no pueden fraccionarse"
      ],
      "metadata": {
        "id": "cLVE1yb-44IJ"
      }
    },
    {
      "cell_type": "markdown",
      "source": [
        "# <font color='#FD6E72'> **Formulación matemática** </font>"
      ],
      "metadata": {
        "id": "GyM6oBW544IJ"
      }
    },
    {
      "cell_type": "markdown",
      "source": [
        "## <font color='ff6d33'> **Formulación generalizada** </font>\n",
        "\n",
        "Este mismo modelo puede escribirse de manera generalizada de la siguiente frma\n",
        "\n",
        "\n",
        "### **Conjuntos**\n",
        "- $P$: Conjunto de pedidos.\n",
        "- $L$: Conjunto de líneas de producción.\n",
        "\n",
        "### **Parámetros**\n",
        "- $d_i$: Demanda del pedido $i$, $\\forall i \\in P$.\n",
        "- $u_{ij}$: Utilidad del pedido $i$ en la línea $j$, $\\forall i \\in P, \\forall j \\in L$.\n",
        "- $c_j$: Capacidad de la línea $j$, $\\forall j \\in L$.\n",
        "- $s$: Costo de alistamiento de la línea.\n",
        "\n",
        "### **Variable de Decisión**\n",
        "\n",
        "\n",
        "> $y_{j} =\n",
        "\\begin{cases}\n",
        "1, & \\text{si se usa (alista) la línea $j$,} \\\\\n",
        "0, & \\text{si no usa (alista) la línea $j$}\n",
        "\\end{cases} \\quad \\forall j \\in L$\n",
        "\n",
        "\n",
        "> $x_{ij} =  \\begin{cases}\n",
        "1, & \\text{si el pedido $i$ se realiza en la línea $j$,} \\\\\n",
        "0, & \\text{si el pedido $i$ no se realiza en la línea $j$,}\n",
        "\\end{cases} \\quad \\forall i \\in P, \\forall j \\in L$\n",
        "\n",
        "\n",
        "### **Función Objetivo**\n",
        "\n",
        "Maximizar la utilidad total:\n",
        "\n",
        "> $\\text{Maximizar} \\quad \\sum_{i \\in P} \\sum_{j \\in L} u_{ij} x_{ij} - \\sum_{j \\in L} s y_j$\n",
        "\n",
        "### **Restricciones**\n",
        "\n",
        "- Restricción de capacidad por línea:\n",
        "  > $ \\sum_{i \\in P} d_i x_{ij} \\leq c_j, \\quad \\forall j \\in L$\n",
        "\n",
        "- Restricción de asignación de pedidos:\n",
        "  > $\\sum_{j \\in L} x_{ij} \\leq 1, \\quad \\forall i \\in P$\n",
        "\n",
        "- Restricción de alistamiento:\n",
        "  > $  x_{ij} \\leq y_j, \\quad \\forall i \\in P, \\forall j \\in L$\n",
        "\n",
        "- Restricción de variables binarias:\n",
        "  > $x_{ij} \\in \\{0, 1\\}, \\quad \\forall i \\in P, \\forall j \\in L$\n",
        "\n",
        "\n",
        "\n"
      ],
      "metadata": {
        "id": "hT2wLu6oujMR"
      }
    },
    {
      "cell_type": "markdown",
      "source": [
        "# <font color='#FD6E72'> **Instancia de datos** </font>"
      ],
      "metadata": {
        "id": "7CIJFxVl6_ww"
      }
    },
    {
      "cell_type": "markdown",
      "source": [
        "Consideremos una isnatncia particular para tener claridad sobre como se almacenan los datos. Posteriormente veremos que podemos automatizar la creación del modelo en una función que reciba como argumento cualquier instancia de datos"
      ],
      "metadata": {
        "id": "ybEzgptR8caa"
      }
    },
    {
      "cell_type": "code",
      "source": [
        "# dictionary of data\n",
        "data ={\n",
        "  # demads\n",
        "  'demands': {1: 16, 2: 29, 3: 24, 4: 20, 5: 17, 6: 30, 7: 32, 8: 28, 9: 20, 10: 20},\n",
        "  # Utilities\n",
        "  'utilities': {\n",
        "      (1, 1): 73, (1, 2): 67, (1, 3): 70, (1, 4): 75, (1, 5): 72,\n",
        "      (2, 1): 85, (2, 2): 79, (2, 3): 82, (2, 4): 84, (2, 5): 81,\n",
        "      (3, 1): 89, (3, 2): 88, (3, 3): 87, (3, 4): 86, (3, 5): 85,\n",
        "      (4, 1): 73, (4, 2): 65, (4, 3): 68, (4, 4): 71, (4, 5): 66,\n",
        "      (5, 1): 52, (5, 2): 50, (5, 3): 53, (5, 4): 51, (5, 5): 54,\n",
        "      (6, 1): 71, (6, 2): 72, (6, 3): 69, (6, 4): 70, (6, 5): 73,\n",
        "      (7, 1): 102, (7, 2): 98, (7, 3): 99, (7, 4): 101, (7, 5): 97,\n",
        "      (8, 1): 73, (8, 2): 70, (8, 3): 72, (8, 4): 74, (8, 5): 71,\n",
        "      (9, 1): 93, (9, 2): 90, (9, 3): 91, (9, 4): 92, (9, 5): 89,\n",
        "      (10, 1): 79, (10, 2): 75, (10, 3): 77, (10, 4): 78, (10, 5): 76\n",
        "  },\n",
        "  # Capacities of the lines\n",
        "  'capacities': {1: 55, 2: 55, 3: 55, 4: 55, 5: 55},\n",
        "  # Cost of setting up each line\n",
        "  'cost_setup': {1: 150, 2: 150, 3: 150, 4: 150, 5: 150}\n",
        "}"
      ],
      "metadata": {
        "id": "QYUPbbnl8bxc"
      },
      "execution_count": null,
      "outputs": []
    },
    {
      "cell_type": "markdown",
      "source": [
        "# <font color='#FD6E72'> **Implementación** </font>"
      ],
      "metadata": {
        "id": "KlJ0di9944IJ"
      }
    },
    {
      "cell_type": "markdown",
      "source": [
        "*   El modelo se implementa en un **lenguaje de modelación**, (en este caso `pyomo`).\n",
        "*   El modelose resuelve haciendo uso de un **optimizador** (en este caso `highs`).\n",
        "\n"
      ],
      "metadata": {
        "id": "8xdLBb8d44IJ"
      }
    },
    {
      "cell_type": "markdown",
      "source": [
        "## <font color='ff6d33'> **Instalamos las librerias necesarias** </font>"
      ],
      "metadata": {
        "id": "pdWrUaSg4YvH"
      }
    },
    {
      "cell_type": "code",
      "source": [
        "!pip install pyomo\n",
        "!pip install highspy\n",
        "import pyomo.environ as env # Alternativamente: from pyomo.environ import *\n",
        "import pandas as pd"
      ],
      "metadata": {
        "id": "ORYXWHtd44IJ"
      },
      "execution_count": null,
      "outputs": []
    },
    {
      "cell_type": "markdown",
      "source": [
        "## <font color='ff6d33'> **Creamos el modelo** </font>"
      ],
      "metadata": {
        "id": "8pR8KNmg7oPo"
      }
    },
    {
      "cell_type": "markdown",
      "source": [
        "Creamos la función `create_model()` que recibe como argunmento la variable `data` que contiene la información de la instancia y retorna el modelo construido"
      ],
      "metadata": {
        "id": "TmzX3veL_wq2"
      }
    },
    {
      "cell_type": "code",
      "source": [
        "def create_model(data):\n",
        "  # Create model\n",
        "  model = env.ConcreteModel()\n",
        "\n",
        "  # read ids for orders and lines\n",
        "  Orders = list(data['demands'].keys())\n",
        "  Lines = list(data['capacities'].keys())\n",
        "\n",
        "  # Define sets\n",
        "  model.Orders = env.Set(initialize=Orders)  # Set of orders\n",
        "  model.Lines = env.Set(initialize=Lines)  # Set of lines\n",
        "\n",
        "  # Define parameters\n",
        "  model.demand = env.Param(model.Orders, initialize=data['demands'])   # Order demands\n",
        "  model.utility = env.Param(model.Orders, model.Lines, initialize=data['utilities'])   # order utility per line\n",
        "  model.capacity = env.Param(model.Lines, initialize=data['capacities'])   # line capacity\n",
        "  model.cost_setup = env.Param(model.Lines, initialize=data['cost_setup'])   # line setup cost\n",
        "\n",
        "  # Define decision variables\n",
        "  model.prod = env.Var(model.Orders, model.Lines, domain=env.Binary)  # Binary variables for order production in lines\n",
        "  model.setup = env.Var(model.Lines, domain=env.Binary)  # Binary variables for lines setup\n",
        "\n",
        "  # Objective function: Maximize total value\n",
        "  def objective_rule(model):\n",
        "    return sum(model.utility[i, l] * model.prod[i, l] for i in model.Orders for l in model.Lines) - sum(model.cost_setup[l] * model.setup[l] for l in model.Lines)\n",
        "  model.obj = env.Objective(rule=objective_rule, sense=env.maximize)\n",
        "\n",
        "  # Constraint 1: Capacity constraint for each line\n",
        "  def capacity_constraint(model, l):\n",
        "    return sum(model.demand[i] * model.prod[i, l] for i in model.Orders) <= model.capacity[l]\n",
        "  model.capacity_constraints = env.Constraint(model.Lines, rule=capacity_constraint)\n",
        "\n",
        "  # Constraint 2: Each order should bre produced in at most one line\n",
        "  def item_assignment_constraint(model, i):\n",
        "    return sum(model.prod[i, l] for l in model.Lines) <= 1\n",
        "  model.item_constraints = env.Constraint(model.Orders, rule=item_assignment_constraint)\n",
        "\n",
        "  # Constraint 3: set-up constraint\n",
        "  def setup_constraint(model, i, l):\n",
        "    return model.prod[i, l]  <= model.setup[l]\n",
        "  model.setup_constraints = env.Constraint(model.Orders, model.Lines, rule=setup_constraint)\n",
        "\n",
        "  return model\n"
      ],
      "metadata": {
        "id": "PaKRp8LsL-3O"
      },
      "execution_count": null,
      "outputs": []
    },
    {
      "cell_type": "markdown",
      "source": [
        "Creemos el modelo para la instancia de datos data:"
      ],
      "metadata": {
        "id": "z8-sXqo2PCPV"
      }
    },
    {
      "cell_type": "code",
      "source": [
        "model = create_model(data)"
      ],
      "metadata": {
        "id": "DUaDAz-3PGZ8"
      },
      "execution_count": null,
      "outputs": []
    },
    {
      "cell_type": "markdown",
      "source": [
        "# <font color='#FD6E72'> **Resolver el modelo** </font>\n",
        "\n",
        "El modelo se resuelve para una instancia de datos, en este caso la instancia que hemos usado para crearlo."
      ],
      "metadata": {
        "id": "G547lLpCCPlb"
      }
    },
    {
      "cell_type": "code",
      "source": [
        "# Solve the model using a solver\n",
        "solver = env.SolverFactory('appsi_highs')\n",
        "results = solver.solve(model, tee=True)"
      ],
      "metadata": {
        "colab": {
          "base_uri": "https://localhost:8080/"
        },
        "id": "mzMM3MEXClUL",
        "outputId": "335cd0eb-9db6-455e-b4ba-ad32cd470168"
      },
      "execution_count": null,
      "outputs": [
        {
          "output_type": "stream",
          "name": "stdout",
          "text": [
            "Running HiGHS 1.9.0 (git hash: fa40bdf): Copyright (c) 2024 HiGHS under MIT licence terms\n",
            "Coefficient ranges:\n",
            "  Matrix [1e+00, 3e+01]\n",
            "  Cost   [5e+01, 2e+02]\n",
            "  Bound  [1e+00, 1e+00]\n",
            "  RHS    [1e+00, 6e+01]\n",
            "Presolving model\n",
            "65 rows, 55 cols, 200 nonzeros  0s\n",
            "65 rows, 55 cols, 200 nonzeros  0s\n",
            "Objective function is integral with scale 1\n",
            "\n",
            "Solving MIP model with:\n",
            "   65 rows\n",
            "   55 cols (55 binary, 0 integer, 0 implied int., 0 continuous)\n",
            "   200 nonzeros\n",
            "\n",
            "Src: B => Branching; C => Central rounding; F => Feasibility pump; H => Heuristic; L => Sub-MIP;\n",
            "     P => Empty MIP; R => Randomized rounding; S => Solve LP; T => Evaluate node; U => Unbounded;\n",
            "     z => Trivial zero; l => Trivial lower; u => Trivial upper; p => Trivial point\n",
            "\n",
            "        Nodes      |    B&B Tree     |            Objective Bounds              |  Dynamic Constraints |       Work      \n",
            "Src  Proc. InQueue |  Leaves   Expl. | BestBound       BestSol              Gap |   Cuts   InLp Confl. | LpIters     Time\n",
            "\n",
            " z       0       0         0   0.00%   inf             -0                 Large        0    -65      0         0     0.0s\n",
            "         0       0         0   0.00%   624.5084746     -0                 Large        0      0      1        64     0.0s\n",
            " L       0       0         0   0.00%   160.6094507     106               51.52%      877     47      2       290     0.1s\n",
            " B       0       0         0   0.00%   160.6094507     116               38.46%      877     21      2       511     0.1s\n",
            " T       3       1         0  25.00%   148.4631313     119               24.76%     1534     46      7       996     0.2s\n",
            "         5       0         2 100.00%   119             119                0.00%     1534     46      8      1042     0.2s\n",
            "\n",
            "Solving report\n",
            "  Status            Optimal\n",
            "  Primal bound      119\n",
            "  Dual bound        119\n",
            "  Gap               0% (tolerance: 0.01%)\n",
            "  P-D integral      0.0425943398255\n",
            "  Solution status   feasible\n",
            "                    119 (objective)\n",
            "                    0 (bound viol.)\n",
            "                    3.77475828373e-15 (int. viol.)\n",
            "                    0 (row viol.)\n",
            "  Timing            0.21 (total)\n",
            "                    0.00 (presolve)\n",
            "                    0.00 (solve)\n",
            "                    0.00 (postsolve)\n",
            "  Max sub-MIP depth 3\n",
            "  Nodes             5\n",
            "  Repair LPs        0 (0 feasible; 0 iterations)\n",
            "  LP iterations     1042 (total)\n",
            "                    355 (strong br.)\n",
            "                    321 (separation)\n",
            "                    221 (heuristics)\n"
          ]
        }
      ]
    },
    {
      "cell_type": "markdown",
      "source": [
        "# <font color='#FD6E72'> **Obtener la solución** </font>\n",
        "\n",
        "De momento estaremos interesados en dos componentes de la solución:\n",
        "* El valor de la función objetivo\n",
        "* El valor de las variales de decisión"
      ],
      "metadata": {
        "id": "9fRIvSRAf-aR"
      }
    },
    {
      "cell_type": "markdown",
      "source": [
        "## <font color='ff6d33'>**Valor de la función objetivo** </font>\n",
        "\n",
        "Una vez optimizado el modelo para la instancia dada, el valor de la función objetivo puede obtenerse al consultar directamente el componente asociado al objetivo, en nuestro caso este sería `model.obj()`"
      ],
      "metadata": {
        "id": "ZUGZGBnbYhaS"
      }
    },
    {
      "cell_type": "code",
      "source": [
        "print(\"Objective Function Value:\", model.obj())"
      ],
      "metadata": {
        "colab": {
          "base_uri": "https://localhost:8080/"
        },
        "id": "OZ88xX1IAGZ5",
        "outputId": "5bdb0aa5-3a90-4ad9-c875-e7b702551266"
      },
      "execution_count": null,
      "outputs": [
        {
          "output_type": "stream",
          "name": "stdout",
          "text": [
            "Objective Function Value: 119.0000000000004\n"
          ]
        }
      ]
    },
    {
      "cell_type": "markdown",
      "source": [
        "## <font color='ff6d33'>**Valor de las variables de decisión** </font>"
      ],
      "metadata": {
        "id": "jspjktUoY4N4"
      }
    },
    {
      "cell_type": "markdown",
      "source": [
        "El valor de las variables se obtiene con el operador metodo `value` el cual se aplica a la variable en particular para la cual se esta interesado en obtener el valor.\n",
        "\n",
        "Si deseamos obtener el valor de la variable que indica si el pedido 1 se realizo en la línea 4, tendriamos:"
      ],
      "metadata": {
        "id": "EkRO2EEkZdd3"
      }
    },
    {
      "cell_type": "code",
      "source": [
        "model.prod[1,4].value"
      ],
      "metadata": {
        "colab": {
          "base_uri": "https://localhost:8080/"
        },
        "id": "MheTOSgHZ4P8",
        "outputId": "ae92fdd1-c27d-4056-94b9-8f8a7b88e1db"
      },
      "execution_count": null,
      "outputs": [
        {
          "output_type": "execute_result",
          "data": {
            "text/plain": [
              "0.0"
            ]
          },
          "metadata": {},
          "execution_count": 47
        }
      ]
    },
    {
      "cell_type": "markdown",
      "source": [
        "Note cómo por ejemplo podriamos imprimir el valor de las variabless que indican que pedidos se realizaron en cuales lineas"
      ],
      "metadata": {
        "id": "pUwP49BTaRMA"
      }
    },
    {
      "cell_type": "code",
      "source": [
        "for i in model.Orders:\n",
        "    for l in model.Lines:\n",
        "      if model.prod[i, l].value > 0.01:\n",
        "        print(f\"prod[{i},{l}] = {model.prod[i, l].value}\")"
      ],
      "metadata": {
        "colab": {
          "base_uri": "https://localhost:8080/"
        },
        "id": "dvzoc0lOALeq",
        "outputId": "a6a9d9a7-eec9-4c24-9e14-847a75c9f500"
      },
      "execution_count": null,
      "outputs": [
        {
          "output_type": "stream",
          "name": "stdout",
          "text": [
            "prod[1,5] = 1.0000000000000013\n",
            "prod[2,1] = 1.000000000000001\n",
            "prod[3,1] = 1.0000000000000013\n",
            "prod[5,5] = 1.0000000000000038\n",
            "prod[7,4] = 1.0000000000000027\n",
            "prod[9,4] = 1.0000000000000027\n",
            "prod[10,5] = 1.0\n"
          ]
        }
      ]
    },
    {
      "cell_type": "markdown",
      "source": [
        "## <font color='ff6d33'>**Visualización de la solución** </font>"
      ],
      "metadata": {
        "id": "8Nnwcz0pa6ur"
      }
    },
    {
      "cell_type": "markdown",
      "source": [
        "Puede ser de urilidad guardar el valor de todas las variables de decisión en un DataFrame, por ejemplo para visualizar la solución."
      ],
      "metadata": {
        "id": "7kb0uXspbDnn"
      }
    },
    {
      "cell_type": "code",
      "source": [
        "setup_data = []\n",
        "for l in model.Lines:\n",
        "    setup_data.append([l, model.setup[l].value])\n",
        "\n",
        "df_setup = pd.DataFrame(setup_data, columns=[\"Line\", \"Setup\"])\n",
        "df_setup"
      ],
      "metadata": {
        "colab": {
          "base_uri": "https://localhost:8080/",
          "height": 206
        },
        "id": "ffO4ogdPAfa6",
        "outputId": "93e58d96-90e9-403e-c6e9-28f9d2debdac"
      },
      "execution_count": null,
      "outputs": [
        {
          "output_type": "execute_result",
          "data": {
            "text/plain": [
              "   Line  Setup\n",
              "0     1    1.0\n",
              "1     2   -0.0\n",
              "2     3   -0.0\n",
              "3     4    1.0\n",
              "4     5    1.0"
            ],
            "text/html": [
              "\n",
              "  <div id=\"df-955dc51a-1fa4-464a-9e80-3df634acd1b5\" class=\"colab-df-container\">\n",
              "    <div>\n",
              "<style scoped>\n",
              "    .dataframe tbody tr th:only-of-type {\n",
              "        vertical-align: middle;\n",
              "    }\n",
              "\n",
              "    .dataframe tbody tr th {\n",
              "        vertical-align: top;\n",
              "    }\n",
              "\n",
              "    .dataframe thead th {\n",
              "        text-align: right;\n",
              "    }\n",
              "</style>\n",
              "<table border=\"1\" class=\"dataframe\">\n",
              "  <thead>\n",
              "    <tr style=\"text-align: right;\">\n",
              "      <th></th>\n",
              "      <th>Line</th>\n",
              "      <th>Setup</th>\n",
              "    </tr>\n",
              "  </thead>\n",
              "  <tbody>\n",
              "    <tr>\n",
              "      <th>0</th>\n",
              "      <td>1</td>\n",
              "      <td>1.0</td>\n",
              "    </tr>\n",
              "    <tr>\n",
              "      <th>1</th>\n",
              "      <td>2</td>\n",
              "      <td>-0.0</td>\n",
              "    </tr>\n",
              "    <tr>\n",
              "      <th>2</th>\n",
              "      <td>3</td>\n",
              "      <td>-0.0</td>\n",
              "    </tr>\n",
              "    <tr>\n",
              "      <th>3</th>\n",
              "      <td>4</td>\n",
              "      <td>1.0</td>\n",
              "    </tr>\n",
              "    <tr>\n",
              "      <th>4</th>\n",
              "      <td>5</td>\n",
              "      <td>1.0</td>\n",
              "    </tr>\n",
              "  </tbody>\n",
              "</table>\n",
              "</div>\n",
              "    <div class=\"colab-df-buttons\">\n",
              "\n",
              "  <div class=\"colab-df-container\">\n",
              "    <button class=\"colab-df-convert\" onclick=\"convertToInteractive('df-955dc51a-1fa4-464a-9e80-3df634acd1b5')\"\n",
              "            title=\"Convert this dataframe to an interactive table.\"\n",
              "            style=\"display:none;\">\n",
              "\n",
              "  <svg xmlns=\"http://www.w3.org/2000/svg\" height=\"24px\" viewBox=\"0 -960 960 960\">\n",
              "    <path d=\"M120-120v-720h720v720H120Zm60-500h600v-160H180v160Zm220 220h160v-160H400v160Zm0 220h160v-160H400v160ZM180-400h160v-160H180v160Zm440 0h160v-160H620v160ZM180-180h160v-160H180v160Zm440 0h160v-160H620v160Z\"/>\n",
              "  </svg>\n",
              "    </button>\n",
              "\n",
              "  <style>\n",
              "    .colab-df-container {\n",
              "      display:flex;\n",
              "      gap: 12px;\n",
              "    }\n",
              "\n",
              "    .colab-df-convert {\n",
              "      background-color: #E8F0FE;\n",
              "      border: none;\n",
              "      border-radius: 50%;\n",
              "      cursor: pointer;\n",
              "      display: none;\n",
              "      fill: #1967D2;\n",
              "      height: 32px;\n",
              "      padding: 0 0 0 0;\n",
              "      width: 32px;\n",
              "    }\n",
              "\n",
              "    .colab-df-convert:hover {\n",
              "      background-color: #E2EBFA;\n",
              "      box-shadow: 0px 1px 2px rgba(60, 64, 67, 0.3), 0px 1px 3px 1px rgba(60, 64, 67, 0.15);\n",
              "      fill: #174EA6;\n",
              "    }\n",
              "\n",
              "    .colab-df-buttons div {\n",
              "      margin-bottom: 4px;\n",
              "    }\n",
              "\n",
              "    [theme=dark] .colab-df-convert {\n",
              "      background-color: #3B4455;\n",
              "      fill: #D2E3FC;\n",
              "    }\n",
              "\n",
              "    [theme=dark] .colab-df-convert:hover {\n",
              "      background-color: #434B5C;\n",
              "      box-shadow: 0px 1px 3px 1px rgba(0, 0, 0, 0.15);\n",
              "      filter: drop-shadow(0px 1px 2px rgba(0, 0, 0, 0.3));\n",
              "      fill: #FFFFFF;\n",
              "    }\n",
              "  </style>\n",
              "\n",
              "    <script>\n",
              "      const buttonEl =\n",
              "        document.querySelector('#df-955dc51a-1fa4-464a-9e80-3df634acd1b5 button.colab-df-convert');\n",
              "      buttonEl.style.display =\n",
              "        google.colab.kernel.accessAllowed ? 'block' : 'none';\n",
              "\n",
              "      async function convertToInteractive(key) {\n",
              "        const element = document.querySelector('#df-955dc51a-1fa4-464a-9e80-3df634acd1b5');\n",
              "        const dataTable =\n",
              "          await google.colab.kernel.invokeFunction('convertToInteractive',\n",
              "                                                    [key], {});\n",
              "        if (!dataTable) return;\n",
              "\n",
              "        const docLinkHtml = 'Like what you see? Visit the ' +\n",
              "          '<a target=\"_blank\" href=https://colab.research.google.com/notebooks/data_table.ipynb>data table notebook</a>'\n",
              "          + ' to learn more about interactive tables.';\n",
              "        element.innerHTML = '';\n",
              "        dataTable['output_type'] = 'display_data';\n",
              "        await google.colab.output.renderOutput(dataTable, element);\n",
              "        const docLink = document.createElement('div');\n",
              "        docLink.innerHTML = docLinkHtml;\n",
              "        element.appendChild(docLink);\n",
              "      }\n",
              "    </script>\n",
              "  </div>\n",
              "\n",
              "\n",
              "<div id=\"df-a5450818-928a-4580-b98a-22e2962e0d7f\">\n",
              "  <button class=\"colab-df-quickchart\" onclick=\"quickchart('df-a5450818-928a-4580-b98a-22e2962e0d7f')\"\n",
              "            title=\"Suggest charts\"\n",
              "            style=\"display:none;\">\n",
              "\n",
              "<svg xmlns=\"http://www.w3.org/2000/svg\" height=\"24px\"viewBox=\"0 0 24 24\"\n",
              "     width=\"24px\">\n",
              "    <g>\n",
              "        <path d=\"M19 3H5c-1.1 0-2 .9-2 2v14c0 1.1.9 2 2 2h14c1.1 0 2-.9 2-2V5c0-1.1-.9-2-2-2zM9 17H7v-7h2v7zm4 0h-2V7h2v10zm4 0h-2v-4h2v4z\"/>\n",
              "    </g>\n",
              "</svg>\n",
              "  </button>\n",
              "\n",
              "<style>\n",
              "  .colab-df-quickchart {\n",
              "      --bg-color: #E8F0FE;\n",
              "      --fill-color: #1967D2;\n",
              "      --hover-bg-color: #E2EBFA;\n",
              "      --hover-fill-color: #174EA6;\n",
              "      --disabled-fill-color: #AAA;\n",
              "      --disabled-bg-color: #DDD;\n",
              "  }\n",
              "\n",
              "  [theme=dark] .colab-df-quickchart {\n",
              "      --bg-color: #3B4455;\n",
              "      --fill-color: #D2E3FC;\n",
              "      --hover-bg-color: #434B5C;\n",
              "      --hover-fill-color: #FFFFFF;\n",
              "      --disabled-bg-color: #3B4455;\n",
              "      --disabled-fill-color: #666;\n",
              "  }\n",
              "\n",
              "  .colab-df-quickchart {\n",
              "    background-color: var(--bg-color);\n",
              "    border: none;\n",
              "    border-radius: 50%;\n",
              "    cursor: pointer;\n",
              "    display: none;\n",
              "    fill: var(--fill-color);\n",
              "    height: 32px;\n",
              "    padding: 0;\n",
              "    width: 32px;\n",
              "  }\n",
              "\n",
              "  .colab-df-quickchart:hover {\n",
              "    background-color: var(--hover-bg-color);\n",
              "    box-shadow: 0 1px 2px rgba(60, 64, 67, 0.3), 0 1px 3px 1px rgba(60, 64, 67, 0.15);\n",
              "    fill: var(--button-hover-fill-color);\n",
              "  }\n",
              "\n",
              "  .colab-df-quickchart-complete:disabled,\n",
              "  .colab-df-quickchart-complete:disabled:hover {\n",
              "    background-color: var(--disabled-bg-color);\n",
              "    fill: var(--disabled-fill-color);\n",
              "    box-shadow: none;\n",
              "  }\n",
              "\n",
              "  .colab-df-spinner {\n",
              "    border: 2px solid var(--fill-color);\n",
              "    border-color: transparent;\n",
              "    border-bottom-color: var(--fill-color);\n",
              "    animation:\n",
              "      spin 1s steps(1) infinite;\n",
              "  }\n",
              "\n",
              "  @keyframes spin {\n",
              "    0% {\n",
              "      border-color: transparent;\n",
              "      border-bottom-color: var(--fill-color);\n",
              "      border-left-color: var(--fill-color);\n",
              "    }\n",
              "    20% {\n",
              "      border-color: transparent;\n",
              "      border-left-color: var(--fill-color);\n",
              "      border-top-color: var(--fill-color);\n",
              "    }\n",
              "    30% {\n",
              "      border-color: transparent;\n",
              "      border-left-color: var(--fill-color);\n",
              "      border-top-color: var(--fill-color);\n",
              "      border-right-color: var(--fill-color);\n",
              "    }\n",
              "    40% {\n",
              "      border-color: transparent;\n",
              "      border-right-color: var(--fill-color);\n",
              "      border-top-color: var(--fill-color);\n",
              "    }\n",
              "    60% {\n",
              "      border-color: transparent;\n",
              "      border-right-color: var(--fill-color);\n",
              "    }\n",
              "    80% {\n",
              "      border-color: transparent;\n",
              "      border-right-color: var(--fill-color);\n",
              "      border-bottom-color: var(--fill-color);\n",
              "    }\n",
              "    90% {\n",
              "      border-color: transparent;\n",
              "      border-bottom-color: var(--fill-color);\n",
              "    }\n",
              "  }\n",
              "</style>\n",
              "\n",
              "  <script>\n",
              "    async function quickchart(key) {\n",
              "      const quickchartButtonEl =\n",
              "        document.querySelector('#' + key + ' button');\n",
              "      quickchartButtonEl.disabled = true;  // To prevent multiple clicks.\n",
              "      quickchartButtonEl.classList.add('colab-df-spinner');\n",
              "      try {\n",
              "        const charts = await google.colab.kernel.invokeFunction(\n",
              "            'suggestCharts', [key], {});\n",
              "      } catch (error) {\n",
              "        console.error('Error during call to suggestCharts:', error);\n",
              "      }\n",
              "      quickchartButtonEl.classList.remove('colab-df-spinner');\n",
              "      quickchartButtonEl.classList.add('colab-df-quickchart-complete');\n",
              "    }\n",
              "    (() => {\n",
              "      let quickchartButtonEl =\n",
              "        document.querySelector('#df-a5450818-928a-4580-b98a-22e2962e0d7f button');\n",
              "      quickchartButtonEl.style.display =\n",
              "        google.colab.kernel.accessAllowed ? 'block' : 'none';\n",
              "    })();\n",
              "  </script>\n",
              "</div>\n",
              "\n",
              "  <div id=\"id_a5ebcb6d-96eb-462a-9d05-2a38d3b390e2\">\n",
              "    <style>\n",
              "      .colab-df-generate {\n",
              "        background-color: #E8F0FE;\n",
              "        border: none;\n",
              "        border-radius: 50%;\n",
              "        cursor: pointer;\n",
              "        display: none;\n",
              "        fill: #1967D2;\n",
              "        height: 32px;\n",
              "        padding: 0 0 0 0;\n",
              "        width: 32px;\n",
              "      }\n",
              "\n",
              "      .colab-df-generate:hover {\n",
              "        background-color: #E2EBFA;\n",
              "        box-shadow: 0px 1px 2px rgba(60, 64, 67, 0.3), 0px 1px 3px 1px rgba(60, 64, 67, 0.15);\n",
              "        fill: #174EA6;\n",
              "      }\n",
              "\n",
              "      [theme=dark] .colab-df-generate {\n",
              "        background-color: #3B4455;\n",
              "        fill: #D2E3FC;\n",
              "      }\n",
              "\n",
              "      [theme=dark] .colab-df-generate:hover {\n",
              "        background-color: #434B5C;\n",
              "        box-shadow: 0px 1px 3px 1px rgba(0, 0, 0, 0.15);\n",
              "        filter: drop-shadow(0px 1px 2px rgba(0, 0, 0, 0.3));\n",
              "        fill: #FFFFFF;\n",
              "      }\n",
              "    </style>\n",
              "    <button class=\"colab-df-generate\" onclick=\"generateWithVariable('df_setup')\"\n",
              "            title=\"Generate code using this dataframe.\"\n",
              "            style=\"display:none;\">\n",
              "\n",
              "  <svg xmlns=\"http://www.w3.org/2000/svg\" height=\"24px\"viewBox=\"0 0 24 24\"\n",
              "       width=\"24px\">\n",
              "    <path d=\"M7,19H8.4L18.45,9,17,7.55,7,17.6ZM5,21V16.75L18.45,3.32a2,2,0,0,1,2.83,0l1.4,1.43a1.91,1.91,0,0,1,.58,1.4,1.91,1.91,0,0,1-.58,1.4L9.25,21ZM18.45,9,17,7.55Zm-12,3A5.31,5.31,0,0,0,4.9,8.1,5.31,5.31,0,0,0,1,6.5,5.31,5.31,0,0,0,4.9,4.9,5.31,5.31,0,0,0,6.5,1,5.31,5.31,0,0,0,8.1,4.9,5.31,5.31,0,0,0,12,6.5,5.46,5.46,0,0,0,6.5,12Z\"/>\n",
              "  </svg>\n",
              "    </button>\n",
              "    <script>\n",
              "      (() => {\n",
              "      const buttonEl =\n",
              "        document.querySelector('#id_a5ebcb6d-96eb-462a-9d05-2a38d3b390e2 button.colab-df-generate');\n",
              "      buttonEl.style.display =\n",
              "        google.colab.kernel.accessAllowed ? 'block' : 'none';\n",
              "\n",
              "      buttonEl.onclick = () => {\n",
              "        google.colab.notebook.generateWithVariable('df_setup');\n",
              "      }\n",
              "      })();\n",
              "    </script>\n",
              "  </div>\n",
              "\n",
              "    </div>\n",
              "  </div>\n"
            ],
            "application/vnd.google.colaboratory.intrinsic+json": {
              "type": "dataframe",
              "variable_name": "df_setup",
              "summary": "{\n  \"name\": \"df_setup\",\n  \"rows\": 5,\n  \"fields\": [\n    {\n      \"column\": \"Line\",\n      \"properties\": {\n        \"dtype\": \"number\",\n        \"std\": 1,\n        \"min\": 1,\n        \"max\": 5,\n        \"num_unique_values\": 5,\n        \"samples\": [\n          2,\n          5,\n          3\n        ],\n        \"semantic_type\": \"\",\n        \"description\": \"\"\n      }\n    },\n    {\n      \"column\": \"Setup\",\n      \"properties\": {\n        \"dtype\": \"number\",\n        \"std\": 0.5477225575051666,\n        \"min\": -0.0,\n        \"max\": 1.0000000000000027,\n        \"num_unique_values\": 3,\n        \"samples\": [\n          1.0,\n          -0.0,\n          1.0000000000000027\n        ],\n        \"semantic_type\": \"\",\n        \"description\": \"\"\n      }\n    }\n  ]\n}"
            }
          },
          "metadata": {},
          "execution_count": 49
        }
      ]
    },
    {
      "cell_type": "markdown",
      "source": [
        "En nuestro caso agregaremos información adicional respecto a los paámetros para poder visualizar la solución, para ello creamos la función  `get_variables()`"
      ],
      "metadata": {
        "id": "jlL_IvA4cH2l"
      }
    },
    {
      "cell_type": "code",
      "source": [
        "def get_variables(model):\n",
        "  # Get production variables\n",
        "  data = []\n",
        "  for i in model.Orders:\n",
        "      for k in model.Lines:\n",
        "          if model.prod[i, k].value >0.1:\n",
        "              row = [i, k, model.utility[i,k], model.demand[i]]\n",
        "              data.append(row)\n",
        "              break\n",
        "  df_prod = pd.DataFrame(data, columns=['order', 'line', 'utility', 'demand'])\n",
        "  # Get setup variables\n",
        "  data = []\n",
        "  for k in model.Lines:\n",
        "    if model.setup[k].value > 0.1:\n",
        "      row = [k, model.setup[k].value, model.capacity[k],'white', ]\n",
        "    else:\n",
        "      row = [k, model.setup[k].value, model.capacity[k],'grey']\n",
        "    data.append(row)\n",
        "  df_setup = pd.DataFrame(data, columns=['line', 'activate', 'capacity','color'])\n",
        "\n",
        "  return df_prod, df_setup\n",
        "\n",
        "\n",
        "df_prod, df_setup = get_variables(model)\n"
      ],
      "metadata": {
        "id": "6rhs9opLKg10"
      },
      "execution_count": null,
      "outputs": []
    },
    {
      "cell_type": "markdown",
      "source": [
        "Note por ejemplo el dataframe asociado a las variables de asignación"
      ],
      "metadata": {
        "id": "3hzBmjayeU5J"
      }
    },
    {
      "cell_type": "code",
      "source": [
        "df_prod"
      ],
      "metadata": {
        "colab": {
          "base_uri": "https://localhost:8080/",
          "height": 269
        },
        "id": "U7rZ_nuhdxrM",
        "outputId": "e8c4d29b-eaeb-44f9-ea3a-ebab8c9338de"
      },
      "execution_count": null,
      "outputs": [
        {
          "output_type": "execute_result",
          "data": {
            "text/plain": [
              "   order  line  utility  demand\n",
              "0      1     5       72      16\n",
              "1      2     1       85      29\n",
              "2      3     1       89      24\n",
              "3      5     5       54      17\n",
              "4      7     4      101      32\n",
              "5      9     4       92      20\n",
              "6     10     5       76      20"
            ],
            "text/html": [
              "\n",
              "  <div id=\"df-e2a27939-65c1-4390-bbcc-330367010b78\" class=\"colab-df-container\">\n",
              "    <div>\n",
              "<style scoped>\n",
              "    .dataframe tbody tr th:only-of-type {\n",
              "        vertical-align: middle;\n",
              "    }\n",
              "\n",
              "    .dataframe tbody tr th {\n",
              "        vertical-align: top;\n",
              "    }\n",
              "\n",
              "    .dataframe thead th {\n",
              "        text-align: right;\n",
              "    }\n",
              "</style>\n",
              "<table border=\"1\" class=\"dataframe\">\n",
              "  <thead>\n",
              "    <tr style=\"text-align: right;\">\n",
              "      <th></th>\n",
              "      <th>order</th>\n",
              "      <th>line</th>\n",
              "      <th>utility</th>\n",
              "      <th>demand</th>\n",
              "    </tr>\n",
              "  </thead>\n",
              "  <tbody>\n",
              "    <tr>\n",
              "      <th>0</th>\n",
              "      <td>1</td>\n",
              "      <td>5</td>\n",
              "      <td>72</td>\n",
              "      <td>16</td>\n",
              "    </tr>\n",
              "    <tr>\n",
              "      <th>1</th>\n",
              "      <td>2</td>\n",
              "      <td>1</td>\n",
              "      <td>85</td>\n",
              "      <td>29</td>\n",
              "    </tr>\n",
              "    <tr>\n",
              "      <th>2</th>\n",
              "      <td>3</td>\n",
              "      <td>1</td>\n",
              "      <td>89</td>\n",
              "      <td>24</td>\n",
              "    </tr>\n",
              "    <tr>\n",
              "      <th>3</th>\n",
              "      <td>5</td>\n",
              "      <td>5</td>\n",
              "      <td>54</td>\n",
              "      <td>17</td>\n",
              "    </tr>\n",
              "    <tr>\n",
              "      <th>4</th>\n",
              "      <td>7</td>\n",
              "      <td>4</td>\n",
              "      <td>101</td>\n",
              "      <td>32</td>\n",
              "    </tr>\n",
              "    <tr>\n",
              "      <th>5</th>\n",
              "      <td>9</td>\n",
              "      <td>4</td>\n",
              "      <td>92</td>\n",
              "      <td>20</td>\n",
              "    </tr>\n",
              "    <tr>\n",
              "      <th>6</th>\n",
              "      <td>10</td>\n",
              "      <td>5</td>\n",
              "      <td>76</td>\n",
              "      <td>20</td>\n",
              "    </tr>\n",
              "  </tbody>\n",
              "</table>\n",
              "</div>\n",
              "    <div class=\"colab-df-buttons\">\n",
              "\n",
              "  <div class=\"colab-df-container\">\n",
              "    <button class=\"colab-df-convert\" onclick=\"convertToInteractive('df-e2a27939-65c1-4390-bbcc-330367010b78')\"\n",
              "            title=\"Convert this dataframe to an interactive table.\"\n",
              "            style=\"display:none;\">\n",
              "\n",
              "  <svg xmlns=\"http://www.w3.org/2000/svg\" height=\"24px\" viewBox=\"0 -960 960 960\">\n",
              "    <path d=\"M120-120v-720h720v720H120Zm60-500h600v-160H180v160Zm220 220h160v-160H400v160Zm0 220h160v-160H400v160ZM180-400h160v-160H180v160Zm440 0h160v-160H620v160ZM180-180h160v-160H180v160Zm440 0h160v-160H620v160Z\"/>\n",
              "  </svg>\n",
              "    </button>\n",
              "\n",
              "  <style>\n",
              "    .colab-df-container {\n",
              "      display:flex;\n",
              "      gap: 12px;\n",
              "    }\n",
              "\n",
              "    .colab-df-convert {\n",
              "      background-color: #E8F0FE;\n",
              "      border: none;\n",
              "      border-radius: 50%;\n",
              "      cursor: pointer;\n",
              "      display: none;\n",
              "      fill: #1967D2;\n",
              "      height: 32px;\n",
              "      padding: 0 0 0 0;\n",
              "      width: 32px;\n",
              "    }\n",
              "\n",
              "    .colab-df-convert:hover {\n",
              "      background-color: #E2EBFA;\n",
              "      box-shadow: 0px 1px 2px rgba(60, 64, 67, 0.3), 0px 1px 3px 1px rgba(60, 64, 67, 0.15);\n",
              "      fill: #174EA6;\n",
              "    }\n",
              "\n",
              "    .colab-df-buttons div {\n",
              "      margin-bottom: 4px;\n",
              "    }\n",
              "\n",
              "    [theme=dark] .colab-df-convert {\n",
              "      background-color: #3B4455;\n",
              "      fill: #D2E3FC;\n",
              "    }\n",
              "\n",
              "    [theme=dark] .colab-df-convert:hover {\n",
              "      background-color: #434B5C;\n",
              "      box-shadow: 0px 1px 3px 1px rgba(0, 0, 0, 0.15);\n",
              "      filter: drop-shadow(0px 1px 2px rgba(0, 0, 0, 0.3));\n",
              "      fill: #FFFFFF;\n",
              "    }\n",
              "  </style>\n",
              "\n",
              "    <script>\n",
              "      const buttonEl =\n",
              "        document.querySelector('#df-e2a27939-65c1-4390-bbcc-330367010b78 button.colab-df-convert');\n",
              "      buttonEl.style.display =\n",
              "        google.colab.kernel.accessAllowed ? 'block' : 'none';\n",
              "\n",
              "      async function convertToInteractive(key) {\n",
              "        const element = document.querySelector('#df-e2a27939-65c1-4390-bbcc-330367010b78');\n",
              "        const dataTable =\n",
              "          await google.colab.kernel.invokeFunction('convertToInteractive',\n",
              "                                                    [key], {});\n",
              "        if (!dataTable) return;\n",
              "\n",
              "        const docLinkHtml = 'Like what you see? Visit the ' +\n",
              "          '<a target=\"_blank\" href=https://colab.research.google.com/notebooks/data_table.ipynb>data table notebook</a>'\n",
              "          + ' to learn more about interactive tables.';\n",
              "        element.innerHTML = '';\n",
              "        dataTable['output_type'] = 'display_data';\n",
              "        await google.colab.output.renderOutput(dataTable, element);\n",
              "        const docLink = document.createElement('div');\n",
              "        docLink.innerHTML = docLinkHtml;\n",
              "        element.appendChild(docLink);\n",
              "      }\n",
              "    </script>\n",
              "  </div>\n",
              "\n",
              "\n",
              "<div id=\"df-d3d00eb6-de9f-449e-93eb-acfbd65bc115\">\n",
              "  <button class=\"colab-df-quickchart\" onclick=\"quickchart('df-d3d00eb6-de9f-449e-93eb-acfbd65bc115')\"\n",
              "            title=\"Suggest charts\"\n",
              "            style=\"display:none;\">\n",
              "\n",
              "<svg xmlns=\"http://www.w3.org/2000/svg\" height=\"24px\"viewBox=\"0 0 24 24\"\n",
              "     width=\"24px\">\n",
              "    <g>\n",
              "        <path d=\"M19 3H5c-1.1 0-2 .9-2 2v14c0 1.1.9 2 2 2h14c1.1 0 2-.9 2-2V5c0-1.1-.9-2-2-2zM9 17H7v-7h2v7zm4 0h-2V7h2v10zm4 0h-2v-4h2v4z\"/>\n",
              "    </g>\n",
              "</svg>\n",
              "  </button>\n",
              "\n",
              "<style>\n",
              "  .colab-df-quickchart {\n",
              "      --bg-color: #E8F0FE;\n",
              "      --fill-color: #1967D2;\n",
              "      --hover-bg-color: #E2EBFA;\n",
              "      --hover-fill-color: #174EA6;\n",
              "      --disabled-fill-color: #AAA;\n",
              "      --disabled-bg-color: #DDD;\n",
              "  }\n",
              "\n",
              "  [theme=dark] .colab-df-quickchart {\n",
              "      --bg-color: #3B4455;\n",
              "      --fill-color: #D2E3FC;\n",
              "      --hover-bg-color: #434B5C;\n",
              "      --hover-fill-color: #FFFFFF;\n",
              "      --disabled-bg-color: #3B4455;\n",
              "      --disabled-fill-color: #666;\n",
              "  }\n",
              "\n",
              "  .colab-df-quickchart {\n",
              "    background-color: var(--bg-color);\n",
              "    border: none;\n",
              "    border-radius: 50%;\n",
              "    cursor: pointer;\n",
              "    display: none;\n",
              "    fill: var(--fill-color);\n",
              "    height: 32px;\n",
              "    padding: 0;\n",
              "    width: 32px;\n",
              "  }\n",
              "\n",
              "  .colab-df-quickchart:hover {\n",
              "    background-color: var(--hover-bg-color);\n",
              "    box-shadow: 0 1px 2px rgba(60, 64, 67, 0.3), 0 1px 3px 1px rgba(60, 64, 67, 0.15);\n",
              "    fill: var(--button-hover-fill-color);\n",
              "  }\n",
              "\n",
              "  .colab-df-quickchart-complete:disabled,\n",
              "  .colab-df-quickchart-complete:disabled:hover {\n",
              "    background-color: var(--disabled-bg-color);\n",
              "    fill: var(--disabled-fill-color);\n",
              "    box-shadow: none;\n",
              "  }\n",
              "\n",
              "  .colab-df-spinner {\n",
              "    border: 2px solid var(--fill-color);\n",
              "    border-color: transparent;\n",
              "    border-bottom-color: var(--fill-color);\n",
              "    animation:\n",
              "      spin 1s steps(1) infinite;\n",
              "  }\n",
              "\n",
              "  @keyframes spin {\n",
              "    0% {\n",
              "      border-color: transparent;\n",
              "      border-bottom-color: var(--fill-color);\n",
              "      border-left-color: var(--fill-color);\n",
              "    }\n",
              "    20% {\n",
              "      border-color: transparent;\n",
              "      border-left-color: var(--fill-color);\n",
              "      border-top-color: var(--fill-color);\n",
              "    }\n",
              "    30% {\n",
              "      border-color: transparent;\n",
              "      border-left-color: var(--fill-color);\n",
              "      border-top-color: var(--fill-color);\n",
              "      border-right-color: var(--fill-color);\n",
              "    }\n",
              "    40% {\n",
              "      border-color: transparent;\n",
              "      border-right-color: var(--fill-color);\n",
              "      border-top-color: var(--fill-color);\n",
              "    }\n",
              "    60% {\n",
              "      border-color: transparent;\n",
              "      border-right-color: var(--fill-color);\n",
              "    }\n",
              "    80% {\n",
              "      border-color: transparent;\n",
              "      border-right-color: var(--fill-color);\n",
              "      border-bottom-color: var(--fill-color);\n",
              "    }\n",
              "    90% {\n",
              "      border-color: transparent;\n",
              "      border-bottom-color: var(--fill-color);\n",
              "    }\n",
              "  }\n",
              "</style>\n",
              "\n",
              "  <script>\n",
              "    async function quickchart(key) {\n",
              "      const quickchartButtonEl =\n",
              "        document.querySelector('#' + key + ' button');\n",
              "      quickchartButtonEl.disabled = true;  // To prevent multiple clicks.\n",
              "      quickchartButtonEl.classList.add('colab-df-spinner');\n",
              "      try {\n",
              "        const charts = await google.colab.kernel.invokeFunction(\n",
              "            'suggestCharts', [key], {});\n",
              "      } catch (error) {\n",
              "        console.error('Error during call to suggestCharts:', error);\n",
              "      }\n",
              "      quickchartButtonEl.classList.remove('colab-df-spinner');\n",
              "      quickchartButtonEl.classList.add('colab-df-quickchart-complete');\n",
              "    }\n",
              "    (() => {\n",
              "      let quickchartButtonEl =\n",
              "        document.querySelector('#df-d3d00eb6-de9f-449e-93eb-acfbd65bc115 button');\n",
              "      quickchartButtonEl.style.display =\n",
              "        google.colab.kernel.accessAllowed ? 'block' : 'none';\n",
              "    })();\n",
              "  </script>\n",
              "</div>\n",
              "\n",
              "  <div id=\"id_18878e3b-f6b4-4626-b836-787e485d63cd\">\n",
              "    <style>\n",
              "      .colab-df-generate {\n",
              "        background-color: #E8F0FE;\n",
              "        border: none;\n",
              "        border-radius: 50%;\n",
              "        cursor: pointer;\n",
              "        display: none;\n",
              "        fill: #1967D2;\n",
              "        height: 32px;\n",
              "        padding: 0 0 0 0;\n",
              "        width: 32px;\n",
              "      }\n",
              "\n",
              "      .colab-df-generate:hover {\n",
              "        background-color: #E2EBFA;\n",
              "        box-shadow: 0px 1px 2px rgba(60, 64, 67, 0.3), 0px 1px 3px 1px rgba(60, 64, 67, 0.15);\n",
              "        fill: #174EA6;\n",
              "      }\n",
              "\n",
              "      [theme=dark] .colab-df-generate {\n",
              "        background-color: #3B4455;\n",
              "        fill: #D2E3FC;\n",
              "      }\n",
              "\n",
              "      [theme=dark] .colab-df-generate:hover {\n",
              "        background-color: #434B5C;\n",
              "        box-shadow: 0px 1px 3px 1px rgba(0, 0, 0, 0.15);\n",
              "        filter: drop-shadow(0px 1px 2px rgba(0, 0, 0, 0.3));\n",
              "        fill: #FFFFFF;\n",
              "      }\n",
              "    </style>\n",
              "    <button class=\"colab-df-generate\" onclick=\"generateWithVariable('df_prod')\"\n",
              "            title=\"Generate code using this dataframe.\"\n",
              "            style=\"display:none;\">\n",
              "\n",
              "  <svg xmlns=\"http://www.w3.org/2000/svg\" height=\"24px\"viewBox=\"0 0 24 24\"\n",
              "       width=\"24px\">\n",
              "    <path d=\"M7,19H8.4L18.45,9,17,7.55,7,17.6ZM5,21V16.75L18.45,3.32a2,2,0,0,1,2.83,0l1.4,1.43a1.91,1.91,0,0,1,.58,1.4,1.91,1.91,0,0,1-.58,1.4L9.25,21ZM18.45,9,17,7.55Zm-12,3A5.31,5.31,0,0,0,4.9,8.1,5.31,5.31,0,0,0,1,6.5,5.31,5.31,0,0,0,4.9,4.9,5.31,5.31,0,0,0,6.5,1,5.31,5.31,0,0,0,8.1,4.9,5.31,5.31,0,0,0,12,6.5,5.46,5.46,0,0,0,6.5,12Z\"/>\n",
              "  </svg>\n",
              "    </button>\n",
              "    <script>\n",
              "      (() => {\n",
              "      const buttonEl =\n",
              "        document.querySelector('#id_18878e3b-f6b4-4626-b836-787e485d63cd button.colab-df-generate');\n",
              "      buttonEl.style.display =\n",
              "        google.colab.kernel.accessAllowed ? 'block' : 'none';\n",
              "\n",
              "      buttonEl.onclick = () => {\n",
              "        google.colab.notebook.generateWithVariable('df_prod');\n",
              "      }\n",
              "      })();\n",
              "    </script>\n",
              "  </div>\n",
              "\n",
              "    </div>\n",
              "  </div>\n"
            ],
            "application/vnd.google.colaboratory.intrinsic+json": {
              "type": "dataframe",
              "variable_name": "df_prod",
              "summary": "{\n  \"name\": \"df_prod\",\n  \"rows\": 7,\n  \"fields\": [\n    {\n      \"column\": \"order\",\n      \"properties\": {\n        \"dtype\": \"number\",\n        \"std\": 3,\n        \"min\": 1,\n        \"max\": 10,\n        \"num_unique_values\": 7,\n        \"samples\": [\n          1,\n          2,\n          9\n        ],\n        \"semantic_type\": \"\",\n        \"description\": \"\"\n      }\n    },\n    {\n      \"column\": \"line\",\n      \"properties\": {\n        \"dtype\": \"number\",\n        \"std\": 1,\n        \"min\": 1,\n        \"max\": 5,\n        \"num_unique_values\": 3,\n        \"samples\": [\n          5,\n          1,\n          4\n        ],\n        \"semantic_type\": \"\",\n        \"description\": \"\"\n      }\n    },\n    {\n      \"column\": \"utility\",\n      \"properties\": {\n        \"dtype\": \"number\",\n        \"std\": 15,\n        \"min\": 54,\n        \"max\": 101,\n        \"num_unique_values\": 7,\n        \"samples\": [\n          72,\n          85,\n          92\n        ],\n        \"semantic_type\": \"\",\n        \"description\": \"\"\n      }\n    },\n    {\n      \"column\": \"demand\",\n      \"properties\": {\n        \"dtype\": \"number\",\n        \"std\": 6,\n        \"min\": 16,\n        \"max\": 32,\n        \"num_unique_values\": 6,\n        \"samples\": [\n          16,\n          29,\n          20\n        ],\n        \"semantic_type\": \"\",\n        \"description\": \"\"\n      }\n    }\n  ]\n}"
            }
          },
          "metadata": {},
          "execution_count": 51
        }
      ]
    },
    {
      "cell_type": "markdown",
      "source": [
        "Ahora creemos un gráfico basados en esta información"
      ],
      "metadata": {
        "id": "Obe1WenyyFah"
      }
    },
    {
      "cell_type": "code",
      "source": [
        "import plotly.graph_objects as go\n",
        "\n",
        "def graph_bar(df_prod, df_setup):\n",
        "  layout = go.Layout(\n",
        "      title='Asignación de pedidos a lineas',\n",
        "      barmode='overlay'\n",
        "  )\n",
        "\n",
        "  # Create the figure\n",
        "  fig = go.Figure(layout=layout)\n",
        "\n",
        "\n",
        "\n",
        "  # Calculate the total width and offset for each bar\n",
        "  total_width = 0.8\n",
        "  offset = total_width / 2\n",
        "\n",
        "  # Add the bars\n",
        "  fig.add_trace(go.Bar(x=df_prod['demand'], y=df_prod['line'], marker_color=df_prod['order'], orientation='h',  width=0.5, showlegend=False))\n",
        "  fig.add_trace(go.Bar(x=df_setup['capacity'], y=df_setup['line'], orientation='h',  width=0.8, marker_color=df_setup['color'], opacity=0.5, name=\"no activa\"))\n",
        "\n",
        "  # return\n",
        "  return fig\n",
        "\n",
        "fig = graph_bar(df_prod, df_setup)\n",
        "fig.show()"
      ],
      "metadata": {
        "id": "5QkmW0MqCgY7",
        "colab": {
          "base_uri": "https://localhost:8080/",
          "height": 542
        },
        "outputId": "dbf49c64-1490-4dc1-ad6d-11f265652eb5"
      },
      "execution_count": null,
      "outputs": [
        {
          "output_type": "display_data",
          "data": {
            "text/html": [
              "<html>\n",
              "<head><meta charset=\"utf-8\" /></head>\n",
              "<body>\n",
              "    <div>            <script src=\"https://cdnjs.cloudflare.com/ajax/libs/mathjax/2.7.5/MathJax.js?config=TeX-AMS-MML_SVG\"></script><script type=\"text/javascript\">if (window.MathJax && window.MathJax.Hub && window.MathJax.Hub.Config) {window.MathJax.Hub.Config({SVG: {font: \"STIX-Web\"}});}</script>                <script type=\"text/javascript\">window.PlotlyConfig = {MathJaxConfig: 'local'};</script>\n",
              "        <script charset=\"utf-8\" src=\"https://cdn.plot.ly/plotly-2.35.2.min.js\"></script>                <div id=\"a5ce2333-92d5-4a17-8ca9-968c60bcc5a2\" class=\"plotly-graph-div\" style=\"height:525px; width:100%;\"></div>            <script type=\"text/javascript\">                                    window.PLOTLYENV=window.PLOTLYENV || {};                                    if (document.getElementById(\"a5ce2333-92d5-4a17-8ca9-968c60bcc5a2\")) {                    Plotly.newPlot(                        \"a5ce2333-92d5-4a17-8ca9-968c60bcc5a2\",                        [{\"marker\":{\"color\":[1,2,3,5,7,9,10]},\"orientation\":\"h\",\"showlegend\":false,\"width\":0.5,\"x\":[16,29,24,17,32,20,20],\"y\":[5,1,1,5,4,4,5],\"type\":\"bar\"},{\"marker\":{\"color\":[\"white\",\"grey\",\"grey\",\"white\",\"white\"]},\"name\":\"no activa\",\"opacity\":0.5,\"orientation\":\"h\",\"width\":0.8,\"x\":[55,55,55,55,55],\"y\":[1,2,3,4,5],\"type\":\"bar\"}],                        {\"barmode\":\"overlay\",\"title\":{\"text\":\"Asignación de pedidos a lineas\"},\"template\":{\"data\":{\"histogram2dcontour\":[{\"type\":\"histogram2dcontour\",\"colorbar\":{\"outlinewidth\":0,\"ticks\":\"\"},\"colorscale\":[[0.0,\"#0d0887\"],[0.1111111111111111,\"#46039f\"],[0.2222222222222222,\"#7201a8\"],[0.3333333333333333,\"#9c179e\"],[0.4444444444444444,\"#bd3786\"],[0.5555555555555556,\"#d8576b\"],[0.6666666666666666,\"#ed7953\"],[0.7777777777777778,\"#fb9f3a\"],[0.8888888888888888,\"#fdca26\"],[1.0,\"#f0f921\"]]}],\"choropleth\":[{\"type\":\"choropleth\",\"colorbar\":{\"outlinewidth\":0,\"ticks\":\"\"}}],\"histogram2d\":[{\"type\":\"histogram2d\",\"colorbar\":{\"outlinewidth\":0,\"ticks\":\"\"},\"colorscale\":[[0.0,\"#0d0887\"],[0.1111111111111111,\"#46039f\"],[0.2222222222222222,\"#7201a8\"],[0.3333333333333333,\"#9c179e\"],[0.4444444444444444,\"#bd3786\"],[0.5555555555555556,\"#d8576b\"],[0.6666666666666666,\"#ed7953\"],[0.7777777777777778,\"#fb9f3a\"],[0.8888888888888888,\"#fdca26\"],[1.0,\"#f0f921\"]]}],\"heatmap\":[{\"type\":\"heatmap\",\"colorbar\":{\"outlinewidth\":0,\"ticks\":\"\"},\"colorscale\":[[0.0,\"#0d0887\"],[0.1111111111111111,\"#46039f\"],[0.2222222222222222,\"#7201a8\"],[0.3333333333333333,\"#9c179e\"],[0.4444444444444444,\"#bd3786\"],[0.5555555555555556,\"#d8576b\"],[0.6666666666666666,\"#ed7953\"],[0.7777777777777778,\"#fb9f3a\"],[0.8888888888888888,\"#fdca26\"],[1.0,\"#f0f921\"]]}],\"heatmapgl\":[{\"type\":\"heatmapgl\",\"colorbar\":{\"outlinewidth\":0,\"ticks\":\"\"},\"colorscale\":[[0.0,\"#0d0887\"],[0.1111111111111111,\"#46039f\"],[0.2222222222222222,\"#7201a8\"],[0.3333333333333333,\"#9c179e\"],[0.4444444444444444,\"#bd3786\"],[0.5555555555555556,\"#d8576b\"],[0.6666666666666666,\"#ed7953\"],[0.7777777777777778,\"#fb9f3a\"],[0.8888888888888888,\"#fdca26\"],[1.0,\"#f0f921\"]]}],\"contourcarpet\":[{\"type\":\"contourcarpet\",\"colorbar\":{\"outlinewidth\":0,\"ticks\":\"\"}}],\"contour\":[{\"type\":\"contour\",\"colorbar\":{\"outlinewidth\":0,\"ticks\":\"\"},\"colorscale\":[[0.0,\"#0d0887\"],[0.1111111111111111,\"#46039f\"],[0.2222222222222222,\"#7201a8\"],[0.3333333333333333,\"#9c179e\"],[0.4444444444444444,\"#bd3786\"],[0.5555555555555556,\"#d8576b\"],[0.6666666666666666,\"#ed7953\"],[0.7777777777777778,\"#fb9f3a\"],[0.8888888888888888,\"#fdca26\"],[1.0,\"#f0f921\"]]}],\"surface\":[{\"type\":\"surface\",\"colorbar\":{\"outlinewidth\":0,\"ticks\":\"\"},\"colorscale\":[[0.0,\"#0d0887\"],[0.1111111111111111,\"#46039f\"],[0.2222222222222222,\"#7201a8\"],[0.3333333333333333,\"#9c179e\"],[0.4444444444444444,\"#bd3786\"],[0.5555555555555556,\"#d8576b\"],[0.6666666666666666,\"#ed7953\"],[0.7777777777777778,\"#fb9f3a\"],[0.8888888888888888,\"#fdca26\"],[1.0,\"#f0f921\"]]}],\"mesh3d\":[{\"type\":\"mesh3d\",\"colorbar\":{\"outlinewidth\":0,\"ticks\":\"\"}}],\"scatter\":[{\"fillpattern\":{\"fillmode\":\"overlay\",\"size\":10,\"solidity\":0.2},\"type\":\"scatter\"}],\"parcoords\":[{\"type\":\"parcoords\",\"line\":{\"colorbar\":{\"outlinewidth\":0,\"ticks\":\"\"}}}],\"scatterpolargl\":[{\"type\":\"scatterpolargl\",\"marker\":{\"colorbar\":{\"outlinewidth\":0,\"ticks\":\"\"}}}],\"bar\":[{\"error_x\":{\"color\":\"#2a3f5f\"},\"error_y\":{\"color\":\"#2a3f5f\"},\"marker\":{\"line\":{\"color\":\"#E5ECF6\",\"width\":0.5},\"pattern\":{\"fillmode\":\"overlay\",\"size\":10,\"solidity\":0.2}},\"type\":\"bar\"}],\"scattergeo\":[{\"type\":\"scattergeo\",\"marker\":{\"colorbar\":{\"outlinewidth\":0,\"ticks\":\"\"}}}],\"scatterpolar\":[{\"type\":\"scatterpolar\",\"marker\":{\"colorbar\":{\"outlinewidth\":0,\"ticks\":\"\"}}}],\"histogram\":[{\"marker\":{\"pattern\":{\"fillmode\":\"overlay\",\"size\":10,\"solidity\":0.2}},\"type\":\"histogram\"}],\"scattergl\":[{\"type\":\"scattergl\",\"marker\":{\"colorbar\":{\"outlinewidth\":0,\"ticks\":\"\"}}}],\"scatter3d\":[{\"type\":\"scatter3d\",\"line\":{\"colorbar\":{\"outlinewidth\":0,\"ticks\":\"\"}},\"marker\":{\"colorbar\":{\"outlinewidth\":0,\"ticks\":\"\"}}}],\"scattermapbox\":[{\"type\":\"scattermapbox\",\"marker\":{\"colorbar\":{\"outlinewidth\":0,\"ticks\":\"\"}}}],\"scatterternary\":[{\"type\":\"scatterternary\",\"marker\":{\"colorbar\":{\"outlinewidth\":0,\"ticks\":\"\"}}}],\"scattercarpet\":[{\"type\":\"scattercarpet\",\"marker\":{\"colorbar\":{\"outlinewidth\":0,\"ticks\":\"\"}}}],\"carpet\":[{\"aaxis\":{\"endlinecolor\":\"#2a3f5f\",\"gridcolor\":\"white\",\"linecolor\":\"white\",\"minorgridcolor\":\"white\",\"startlinecolor\":\"#2a3f5f\"},\"baxis\":{\"endlinecolor\":\"#2a3f5f\",\"gridcolor\":\"white\",\"linecolor\":\"white\",\"minorgridcolor\":\"white\",\"startlinecolor\":\"#2a3f5f\"},\"type\":\"carpet\"}],\"table\":[{\"cells\":{\"fill\":{\"color\":\"#EBF0F8\"},\"line\":{\"color\":\"white\"}},\"header\":{\"fill\":{\"color\":\"#C8D4E3\"},\"line\":{\"color\":\"white\"}},\"type\":\"table\"}],\"barpolar\":[{\"marker\":{\"line\":{\"color\":\"#E5ECF6\",\"width\":0.5},\"pattern\":{\"fillmode\":\"overlay\",\"size\":10,\"solidity\":0.2}},\"type\":\"barpolar\"}],\"pie\":[{\"automargin\":true,\"type\":\"pie\"}]},\"layout\":{\"autotypenumbers\":\"strict\",\"colorway\":[\"#636efa\",\"#EF553B\",\"#00cc96\",\"#ab63fa\",\"#FFA15A\",\"#19d3f3\",\"#FF6692\",\"#B6E880\",\"#FF97FF\",\"#FECB52\"],\"font\":{\"color\":\"#2a3f5f\"},\"hovermode\":\"closest\",\"hoverlabel\":{\"align\":\"left\"},\"paper_bgcolor\":\"white\",\"plot_bgcolor\":\"#E5ECF6\",\"polar\":{\"bgcolor\":\"#E5ECF6\",\"angularaxis\":{\"gridcolor\":\"white\",\"linecolor\":\"white\",\"ticks\":\"\"},\"radialaxis\":{\"gridcolor\":\"white\",\"linecolor\":\"white\",\"ticks\":\"\"}},\"ternary\":{\"bgcolor\":\"#E5ECF6\",\"aaxis\":{\"gridcolor\":\"white\",\"linecolor\":\"white\",\"ticks\":\"\"},\"baxis\":{\"gridcolor\":\"white\",\"linecolor\":\"white\",\"ticks\":\"\"},\"caxis\":{\"gridcolor\":\"white\",\"linecolor\":\"white\",\"ticks\":\"\"}},\"coloraxis\":{\"colorbar\":{\"outlinewidth\":0,\"ticks\":\"\"}},\"colorscale\":{\"sequential\":[[0.0,\"#0d0887\"],[0.1111111111111111,\"#46039f\"],[0.2222222222222222,\"#7201a8\"],[0.3333333333333333,\"#9c179e\"],[0.4444444444444444,\"#bd3786\"],[0.5555555555555556,\"#d8576b\"],[0.6666666666666666,\"#ed7953\"],[0.7777777777777778,\"#fb9f3a\"],[0.8888888888888888,\"#fdca26\"],[1.0,\"#f0f921\"]],\"sequentialminus\":[[0.0,\"#0d0887\"],[0.1111111111111111,\"#46039f\"],[0.2222222222222222,\"#7201a8\"],[0.3333333333333333,\"#9c179e\"],[0.4444444444444444,\"#bd3786\"],[0.5555555555555556,\"#d8576b\"],[0.6666666666666666,\"#ed7953\"],[0.7777777777777778,\"#fb9f3a\"],[0.8888888888888888,\"#fdca26\"],[1.0,\"#f0f921\"]],\"diverging\":[[0,\"#8e0152\"],[0.1,\"#c51b7d\"],[0.2,\"#de77ae\"],[0.3,\"#f1b6da\"],[0.4,\"#fde0ef\"],[0.5,\"#f7f7f7\"],[0.6,\"#e6f5d0\"],[0.7,\"#b8e186\"],[0.8,\"#7fbc41\"],[0.9,\"#4d9221\"],[1,\"#276419\"]]},\"xaxis\":{\"gridcolor\":\"white\",\"linecolor\":\"white\",\"ticks\":\"\",\"title\":{\"standoff\":15},\"zerolinecolor\":\"white\",\"automargin\":true,\"zerolinewidth\":2},\"yaxis\":{\"gridcolor\":\"white\",\"linecolor\":\"white\",\"ticks\":\"\",\"title\":{\"standoff\":15},\"zerolinecolor\":\"white\",\"automargin\":true,\"zerolinewidth\":2},\"scene\":{\"xaxis\":{\"backgroundcolor\":\"#E5ECF6\",\"gridcolor\":\"white\",\"linecolor\":\"white\",\"showbackground\":true,\"ticks\":\"\",\"zerolinecolor\":\"white\",\"gridwidth\":2},\"yaxis\":{\"backgroundcolor\":\"#E5ECF6\",\"gridcolor\":\"white\",\"linecolor\":\"white\",\"showbackground\":true,\"ticks\":\"\",\"zerolinecolor\":\"white\",\"gridwidth\":2},\"zaxis\":{\"backgroundcolor\":\"#E5ECF6\",\"gridcolor\":\"white\",\"linecolor\":\"white\",\"showbackground\":true,\"ticks\":\"\",\"zerolinecolor\":\"white\",\"gridwidth\":2}},\"shapedefaults\":{\"line\":{\"color\":\"#2a3f5f\"}},\"annotationdefaults\":{\"arrowcolor\":\"#2a3f5f\",\"arrowhead\":0,\"arrowwidth\":1},\"geo\":{\"bgcolor\":\"white\",\"landcolor\":\"#E5ECF6\",\"subunitcolor\":\"white\",\"showland\":true,\"showlakes\":true,\"lakecolor\":\"white\"},\"title\":{\"x\":0.05},\"mapbox\":{\"style\":\"light\"}}}},                        {\"responsive\": true}                    ).then(function(){\n",
              "                            \n",
              "var gd = document.getElementById('a5ce2333-92d5-4a17-8ca9-968c60bcc5a2');\n",
              "var x = new MutationObserver(function (mutations, observer) {{\n",
              "        var display = window.getComputedStyle(gd).display;\n",
              "        if (!display || display === 'none') {{\n",
              "            console.log([gd, 'removed!']);\n",
              "            Plotly.purge(gd);\n",
              "            observer.disconnect();\n",
              "        }}\n",
              "}});\n",
              "\n",
              "// Listen for the removal of the full notebook cells\n",
              "var notebookContainer = gd.closest('#notebook-container');\n",
              "if (notebookContainer) {{\n",
              "    x.observe(notebookContainer, {childList: true});\n",
              "}}\n",
              "\n",
              "// Listen for the clearing of the current output cell\n",
              "var outputEl = gd.closest('.output');\n",
              "if (outputEl) {{\n",
              "    x.observe(outputEl, {childList: true});\n",
              "}}\n",
              "\n",
              "                        })                };                            </script>        </div>\n",
              "</body>\n",
              "</html>"
            ]
          },
          "metadata": {}
        }
      ]
    }
  ]
}