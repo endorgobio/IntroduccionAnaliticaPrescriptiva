{
  "nbformat": 4,
  "nbformat_minor": 0,
  "metadata": {
    "colab": {
      "provenance": [],
      "toc_visible": true,
      "authorship_tag": "ABX9TyPcV9VWSzFp2DpgxYCbjGom",
      "include_colab_link": true
    },
    "kernelspec": {
      "name": "python3",
      "display_name": "Python 3"
    },
    "language_info": {
      "name": "python"
    }
  },
  "cells": [
    {
      "cell_type": "markdown",
      "metadata": {
        "id": "view-in-github",
        "colab_type": "text"
      },
      "source": [
        "<a href=\"https://colab.research.google.com/github/endorgobio/IntroduccionAnaliticaPrescriptiva/blob/main/M5C5_Implem_OF.ipynb\" target=\"_parent\"><img src=\"https://colab.research.google.com/assets/colab-badge.svg\" alt=\"Open In Colab\"/></a>"
      ]
    },
    {
      "cell_type": "markdown",
      "source": [
        "<p style=\"text-align: center;\">\n",
        "    <img alt=\"banner\" height=\"230px\" width=\"100%\" src=\"https://github.com/endorgobio/IntroduccionAnaliticaPrescriptiva/blob/6cc6029c276aacdf228dcec4796b7b3184cfb8b7/src/header.png?raw=true\" hspace=\"10px\" vspace=\"0px\">\n",
        "</p>"
      ],
      "metadata": {
        "id": "de0mGKwY-Gn3"
      }
    },
    {
      "cell_type": "markdown",
      "source": [
        "# <font color='FD6E72'> **Descripción del problema** </font>\n",
        "\n"
      ],
      "metadata": {
        "id": "9j2M5sQZOUCZ"
      }
    },
    {
      "cell_type": "markdown",
      "source": [
        "\n",
        "\n",
        "Una compañia de alimentos tiene **cinco lineas** que procesan un único tipo de producto. El plan de demanda contiene las ordenes de 10 clientes (en miles de productos) y la utilidad (en millones de pesos) que cada una de ellas genera en cada uno de las lineas\n",
        "\n",
        "\n",
        "|          | Orden 1 | Orden 2 | Orden 3 | Orden 4 | Orden 5 | Orden 6 | Orden 7 | Orden 8 | Orden 9 | Orden 10 |\n",
        "|----------|---------|---------|---------|---------|---------|---------|---------|---------|---------|----------|\n",
        "| Cantidad |   16    |   29    |   24    |   20    |   17    |   30    |   32    |   28    |   20    |    20    |\n",
        "| Utilidad 1 |   73    |   85    |   89    |   73    |   52    |   71    |   102   |   73    |   93    |    79    |\n",
        "| Utilidad 2 |   67    |   79    |   88    |   65    |   50    |   72    |   98    |   70    |   90    |    75    |\n",
        "| Utilidad 3 |   70    |   82    |   87    |   68    |   53    |   69    |   99    |   72    |   91    |    77    |\n",
        "| Utilidad 4 |   75    |   84    |   86    |   71    |   51    |   70    |   101   |   74    |   92    |    78    |\n",
        "| Utilidad 5 |   72    |   81    |   85    |   66    |   54    |   73    |   97    |   71    |   89    |    76    |\n",
        "\n",
        "\n",
        "La política de la empresa estipula que a un cliente se le despacha  el total de su demanda o en caso contrarion no se le despacha nada. La capacidad de cada linea es 55 mil unidades de producto, pero alistar cualquiera de las lineas sin importar el número de productos que se produzcan en ella tiene un costo de 200. La decisión que debe tomarse es:\n",
        "\n",
        "\n",
        "> **¿Cuáles de las ordenes deben producirse y en que líneas deben hacerse?**\n"
      ],
      "metadata": {
        "id": "ryECV9Pn44H-"
      }
    },
    {
      "cell_type": "markdown",
      "source": [
        "# <font color='#FD6E72'> **Verbalización del problema** </font>\n",
        "\n",
        "\n",
        "\n",
        "## <font color='ff6d33'>**Conjuntos** </font>\n",
        "* Conjunto de pedidos.\n",
        "* Conjunto de líneas de producción.\n",
        "\n",
        "\n",
        "## <font color='ff6d33'>**Parámetros** </font>\n",
        "- Utilidad asociada a cada pedido.\n",
        "- Demanda asociada a cada pedido.\n",
        "- Capacidad de cada línea de producción.\n",
        "- Costo de alistamiento de la línea.\n",
        "\n",
        "## <font color='ff6d33'>**Decisiones** </font>\n",
        "  * Debe decidirse cuáles lineas activar (alistar)\n",
        "  * Para cada pedido debe decidirse si producirlo o no producirlo y en caso de producirlo en cuál de las lineas debería producirse\n",
        "\n",
        "## <font color='ff6d33'>**Objetivo** </font>\n",
        "\n",
        "  Generar la máxima utilidad entendida como la utilidad generada por los pedidos producidos menos el costo de alistar las líneas que entran en operación\n",
        "\n",
        "## <font color='ff6d33'>**Restricciones** </font>\n",
        "\n",
        "  * La cantidad de unidades de producto requerida por los pedidos a producir en cada línea no debe sobrepasar su capacidad\n",
        "  * Cada orden debe producirse cuando más en una linea\n",
        "  No pueden producirse pedidos en líneas que no han sido alistadas\n",
        "  * Las ordenes no pueden fraccionarse"
      ],
      "metadata": {
        "id": "cLVE1yb-44IJ"
      }
    },
    {
      "cell_type": "markdown",
      "source": [
        "# <font color='#FD6E72'> **Formulación matemática** </font>"
      ],
      "metadata": {
        "id": "GyM6oBW544IJ"
      }
    },
    {
      "cell_type": "markdown",
      "source": [
        "## <font color='ff6d33'> **Formulación generalizada** </font>\n",
        "\n",
        "Este mismo modelo puede escribirse de manera generalizada de la siguiente frma\n",
        "\n",
        "\n",
        "### **Conjuntos**\n",
        "- $P$: Conjunto de pedidos.\n",
        "- $L$: Conjunto de líneas de producción.\n",
        "\n",
        "### **Parámetros**\n",
        "- $d_i$: Demanda del pedido $i$, $\\forall i \\in P$.\n",
        "- $u_{ij}$: Utilidad del pedido $i$ en la línea $j$, $\\forall i \\in P, \\forall j \\in L$.\n",
        "- $C_j$: Capacidad de la línea $j$, $\\forall j \\in L$.\n",
        "- $s$: Costo de alistamiento de la línea.\n",
        "\n",
        "### **Variable de Decisión**\n",
        "\n",
        "\n",
        "> $y_{j} =\n",
        "\\begin{cases}\n",
        "1, & \\text{si se usa (alista) la línea $j$,} \\\\\n",
        "0, & \\text{si no usa (alista) la línea $j$}\n",
        "\\end{cases} \\quad \\forall j \\in L$\n",
        "\n",
        "\n",
        "> $x_{ij} =  \\begin{cases}\n",
        "1, & \\text{si el pedido $i$ se realiza en la línea $j$,} \\\\\n",
        "0, & \\text{si el pedido $i$ no se realiza en la línea $j$,}\n",
        "\\end{cases} \\quad \\forall i \\in P, \\forall j \\in L$\n",
        "\n",
        "\n",
        "### **Función Objetivo**\n",
        "\n",
        "Maximizar la utilidad total:\n",
        "\n",
        "> $\\text{Maximizar} \\quad \\sum_{i \\in P} \\sum_{j \\in L} u_{ij} x_{ij} - \\sum_{j \\in L} s y_j$\n",
        "\n",
        "### **Restricciones**\n",
        "\n",
        "- Restricción de capacidad por línea:\n",
        "  > $ \\sum_{i \\in P} d_i x_{ij} \\leq C_j, \\quad \\forall j \\in L$\n",
        "\n",
        "- Restricción de asignación de pedidos:\n",
        "  > $\\sum_{j \\in L} x_{ij} \\leq 1, \\quad \\forall i \\in P$\n",
        "\n",
        "- Restricción de alistamiento:\n",
        "  > $  x_{ij} \\leq y_j, \\quad \\forall i \\in P, \\forall j \\in L$\n",
        "\n",
        "- Restricción de variables binarias:\n",
        "  > $x_{ij} \\in \\{0, 1\\}, \\quad \\forall i \\in P, \\forall j \\in L$\n",
        "\n",
        "\n",
        "\n"
      ],
      "metadata": {
        "id": "hT2wLu6oujMR"
      }
    },
    {
      "cell_type": "markdown",
      "source": [
        "# <font color='#FD6E72'> **Instancia de datos** </font>"
      ],
      "metadata": {
        "id": "7CIJFxVl6_ww"
      }
    },
    {
      "cell_type": "markdown",
      "source": [
        "Consideremos una isnatncia particular para tener claridad sobre como se almacenan los datos. Posteriormente veremos que podemos automatizar la creación del modelo en una función que reciba como argumento cualquier instancia de datos"
      ],
      "metadata": {
        "id": "ybEzgptR8caa"
      }
    },
    {
      "cell_type": "code",
      "source": [
        "# demads\n",
        "demands = {1: 16, 2: 29, 3: 24, 4: 20, 5: 17, 6: 30, 7: 32, 8: 28, 9: 20, 10: 20}\n",
        "\n",
        "# Utilities\n",
        "utilities = {\n",
        "    (1, 1): 73, (1, 2): 67, (1, 3): 70, (1, 4): 75, (1, 5): 72,\n",
        "    (2, 1): 85, (2, 2): 79, (2, 3): 82, (2, 4): 84, (2, 5): 81,\n",
        "    (3, 1): 89, (3, 2): 88, (3, 3): 87, (3, 4): 86, (3, 5): 85,\n",
        "    (4, 1): 73, (4, 2): 65, (4, 3): 68, (4, 4): 71, (4, 5): 66,\n",
        "    (5, 1): 52, (5, 2): 50, (5, 3): 53, (5, 4): 51, (5, 5): 54,\n",
        "    (6, 1): 71, (6, 2): 72, (6, 3): 69, (6, 4): 70, (6, 5): 73,\n",
        "    (7, 1): 102, (7, 2): 98, (7, 3): 99, (7, 4): 101, (7, 5): 97,\n",
        "    (8, 1): 73, (8, 2): 70, (8, 3): 72, (8, 4): 74, (8, 5): 71,\n",
        "    (9, 1): 93, (9, 2): 90, (9, 3): 91, (9, 4): 92, (9, 5): 89,\n",
        "    (10, 1): 79, (10, 2): 75, (10, 3): 77, (10, 4): 78, (10, 5): 76\n",
        "}\n",
        "\n",
        "\n",
        "# Capacities of the lines\n",
        "capacities= {1: 55, 2: 55, 3: 55, 4: 55, 5: 55}\n",
        "\n",
        "# Cost of setting up each line\n",
        "cost_setup = {1: 150, 2: 150, 3: 150, 4: 150, 5: 150}"
      ],
      "metadata": {
        "id": "QYUPbbnl8bxc"
      },
      "execution_count": null,
      "outputs": []
    },
    {
      "cell_type": "markdown",
      "source": [
        "# <font color='#FD6E72'> **Implementación** </font>"
      ],
      "metadata": {
        "id": "KlJ0di9944IJ"
      }
    },
    {
      "cell_type": "markdown",
      "source": [
        "*   El modelo se implementa en un **lenguaje de modelación**, (en este caso `pyomo`).\n",
        "*   El modelose resuelve haciendo uso de un **optimizador** (en este caso `highs`).\n",
        "\n"
      ],
      "metadata": {
        "id": "8xdLBb8d44IJ"
      }
    },
    {
      "cell_type": "markdown",
      "source": [
        "## <font color='ff6d33'> **Instalamos las librerias necesarias** </font>"
      ],
      "metadata": {
        "id": "pdWrUaSg4YvH"
      }
    },
    {
      "cell_type": "code",
      "source": [
        "!pip install pyomo\n",
        "!pip install highspy\n",
        "import pyomo.environ as env # Alternativamente: from pyomo.environ import *\n",
        "import pandas as pd"
      ],
      "metadata": {
        "id": "ORYXWHtd44IJ"
      },
      "execution_count": null,
      "outputs": []
    },
    {
      "cell_type": "markdown",
      "source": [
        "## <font color='ff6d33'> **Creamos el modelo** </font>"
      ],
      "metadata": {
        "id": "8pR8KNmg7oPo"
      }
    },
    {
      "cell_type": "markdown",
      "source": [
        "Creamos el modelo usando la funcion (más precisamente el constructor de clase) `ConcreteModel()`. Adicionalmente, existe la opción de cerar un modelo de forma abstracta `AbstractModel()`, pero no haremos énfasis en este cuurso"
      ],
      "metadata": {
        "id": "TmzX3veL_wq2"
      }
    },
    {
      "cell_type": "code",
      "source": [
        "model = env.ConcreteModel()"
      ],
      "metadata": {
        "id": "1F2Hk8cJ7tG-"
      },
      "execution_count": null,
      "outputs": []
    },
    {
      "cell_type": "markdown",
      "source": [
        "## <font color='ff6d33'> **Creamos Conjuntos y parámetros** </font>"
      ],
      "metadata": {
        "id": "foBrSqIr77PP"
      }
    },
    {
      "cell_type": "markdown",
      "source": [
        "Usamos las funciones `Set()` y `Param()`, para crear los conjuntos y parámetros, respectivamente."
      ],
      "metadata": {
        "id": "mpgQhUHnAs09"
      }
    },
    {
      "cell_type": "code",
      "source": [
        "Orders = list(demands.keys())\n",
        "Lines = list(capacities.keys())\n",
        "\n",
        "# Define sets\n",
        "model.Orders = env.Set(initialize=Orders)  # Set of orders\n",
        "model.Lines = env.Set(initialize=Lines)  # Set of lines\n",
        "\n",
        "# Define parameters\n",
        "model.demand = env.Param(model.Orders, initialize=demands)   # Order demands\n",
        "model.utility = env.Param(model.Orders, model.Lines, initialize=utilities)   # order utility per line\n",
        "model.capacity = env.Param(model.Lines, initialize=capacities)   # line capacity\n",
        "model.cost_setup = env.Param(model.Lines, initialize=cost_setup)   # line setup cost"
      ],
      "metadata": {
        "id": "VrnyBJom8DTt"
      },
      "execution_count": null,
      "outputs": []
    },
    {
      "cell_type": "markdown",
      "source": [
        "## <font color='ff6d33'> **Creamos de variables de decisión** </font>"
      ],
      "metadata": {
        "id": "cpsrK336Lh63"
      }
    },
    {
      "cell_type": "markdown",
      "source": [
        "Usamos las funciónes `Var()` para crear las variables de decisión"
      ],
      "metadata": {
        "id": "GOZvoTAZA6pL"
      }
    },
    {
      "cell_type": "code",
      "source": [
        "# Define decision variables\n",
        "model.prod = env.Var(model.Orders, model.Lines, domain=env.Binary)  # Binary variables for order production in lines\n",
        "model.setup = env.Var(model.Lines, domain=env.Binary)  # Binary variables for lines setup"
      ],
      "metadata": {
        "id": "0YTyeMXPLrld"
      },
      "execution_count": null,
      "outputs": []
    },
    {
      "cell_type": "markdown",
      "source": [
        "## <font color='ff6d33'> **Creamos la función objetivo** </font>"
      ],
      "metadata": {
        "id": "_v1zGUO793LB"
      }
    },
    {
      "cell_type": "markdown",
      "source": [
        "La función objetivo puede crearse directamente mediante el constructor  `Objective` que recibe como argumento el *keyword* `expr`"
      ],
      "metadata": {
        "id": "e5JrAcbJ-vIu"
      }
    },
    {
      "cell_type": "code",
      "source": [
        "model.obj = env.Objective(\n",
        "    expr=sum(model.utility[i, l] * model.prod[i, l] for i in model.Orders for l in model.Lines) -\n",
        "         sum(cost_setup[l] * model.setup[l] for l in model.Lines),\n",
        "    sense=env.maximize\n",
        ")"
      ],
      "metadata": {
        "id": "5u37kQR--06W",
        "colab": {
          "base_uri": "https://localhost:8080/"
        },
        "outputId": "01270928-95bb-4390-dbfb-76fa29e6ab79"
      },
      "execution_count": null,
      "outputs": [
        {
          "output_type": "stream",
          "name": "stderr",
          "text": [
            "WARNING:pyomo.core:Implicitly replacing the Component attribute obj (type=<class 'pyomo.core.base.objective.ScalarObjective'>) on block unknown with a new Component (type=<class 'pyomo.core.base.objective.ScalarObjective'>).\n",
            "This is usually indicative of a modelling error.\n",
            "To avoid this warning, use block.del_component() and block.add_component().\n"
          ]
        }
      ]
    },
    {
      "cell_type": "markdown",
      "source": [
        "Alternativamente, podemos crearla definiendo una función (`rule`) que usaremos para pasarle como argumento al constructor `Objective()`"
      ],
      "metadata": {
        "id": "UT2cQn3dBFes"
      }
    },
    {
      "cell_type": "code",
      "source": [
        "# Objective function: Maximize total value\n",
        "def objective_rule(model):\n",
        "  return sum(model.utility[i, l] * model.prod[i, l] for i in model.Orders for l in model.Lines) - sum(cost_setup[l] * model.setup[l] for l in model.Lines)\n",
        "model.obj = env.Objective(rule=objective_rule, sense=env.maximize)"
      ],
      "metadata": {
        "id": "Uj_xP4e1-LAh",
        "colab": {
          "base_uri": "https://localhost:8080/"
        },
        "outputId": "7931b48e-dd7e-436b-cf86-31dde3c2a286"
      },
      "execution_count": null,
      "outputs": [
        {
          "output_type": "stream",
          "name": "stderr",
          "text": [
            "WARNING:pyomo.core:Implicitly replacing the Component attribute obj (type=<class 'pyomo.core.base.objective.ScalarObjective'>) on block unknown with a new Component (type=<class 'pyomo.core.base.objective.ScalarObjective'>).\n",
            "This is usually indicative of a modelling error.\n",
            "To avoid this warning, use block.del_component() and block.add_component().\n"
          ]
        }
      ]
    },
    {
      "cell_type": "markdown",
      "source": [
        "**Esta será la forma que usaremos por defecto en los modelos que implementemos en este curso**"
      ],
      "metadata": {
        "id": "2RIP0qAYELIA"
      }
    },
    {
      "cell_type": "markdown",
      "source": [
        "#### **Visualización del modelo**\n",
        "\n",
        "Visualisemos la función objetivo generada"
      ],
      "metadata": {
        "id": "GSUtQ49s-ZJi"
      }
    },
    {
      "cell_type": "code",
      "source": [
        "model.obj.pprint()"
      ],
      "metadata": {
        "id": "oFumSKoa-_nq",
        "colab": {
          "base_uri": "https://localhost:8080/"
        },
        "outputId": "838e81c9-7a59-4449-e017-79248bab9e3b"
      },
      "execution_count": null,
      "outputs": [
        {
          "output_type": "stream",
          "name": "stdout",
          "text": [
            "obj : Size=1, Index=None, Active=True\n",
            "    Key  : Active : Sense    : Expression\n",
            "    None :   True : maximize : 73*prod[1,1] + 67*prod[1,2] + 70*prod[1,3] + 75*prod[1,4] + 72*prod[1,5] + 85*prod[2,1] + 79*prod[2,2] + 82*prod[2,3] + 84*prod[2,4] + 81*prod[2,5] + 89*prod[3,1] + 88*prod[3,2] + 87*prod[3,3] + 86*prod[3,4] + 85*prod[3,5] + 73*prod[4,1] + 65*prod[4,2] + 68*prod[4,3] + 71*prod[4,4] + 66*prod[4,5] + 52*prod[5,1] + 50*prod[5,2] + 53*prod[5,3] + 51*prod[5,4] + 54*prod[5,5] + 71*prod[6,1] + 72*prod[6,2] + 69*prod[6,3] + 70*prod[6,4] + 73*prod[6,5] + 102*prod[7,1] + 98*prod[7,2] + 99*prod[7,3] + 101*prod[7,4] + 97*prod[7,5] + 73*prod[8,1] + 70*prod[8,2] + 72*prod[8,3] + 74*prod[8,4] + 71*prod[8,5] + 93*prod[9,1] + 90*prod[9,2] + 91*prod[9,3] + 92*prod[9,4] + 89*prod[9,5] + 79*prod[10,1] + 75*prod[10,2] + 77*prod[10,3] + 78*prod[10,4] + 76*prod[10,5] - (150*setup[1] + 150*setup[2] + 150*setup[3] + 150*setup[4] + 150*setup[5])\n"
          ]
        }
      ]
    }
  ]
}