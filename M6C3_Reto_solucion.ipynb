{
  "nbformat": 4,
  "nbformat_minor": 0,
  "metadata": {
    "colab": {
      "provenance": [],
      "toc_visible": true,
      "authorship_tag": "ABX9TyMrqN1cuocM5twkZV9n63uM",
      "include_colab_link": true
    },
    "kernelspec": {
      "name": "python3",
      "display_name": "Python 3"
    },
    "language_info": {
      "name": "python"
    }
  },
  "cells": [
    {
      "cell_type": "markdown",
      "metadata": {
        "id": "view-in-github",
        "colab_type": "text"
      },
      "source": [
        "<a href=\"https://colab.research.google.com/github/endorgobio/IntroduccionAnaliticaPrescriptiva/blob/main/M6C3_Reto_solucion.ipynb\" target=\"_parent\"><img src=\"https://colab.research.google.com/assets/colab-badge.svg\" alt=\"Open In Colab\"/></a>"
      ]
    },
    {
      "cell_type": "markdown",
      "source": [
        "<p style=\"text-align: center;\">\n",
        "    <img alt=\"banner\" height=\"230px\" width=\"100%\" src=\"https://github.com/endorgobio/IntroduccionAnaliticaPrescriptiva/blob/6cc6029c276aacdf228dcec4796b7b3184cfb8b7/src/header.png?raw=true\" hspace=\"10px\" vspace=\"0px\">\n",
        "</p>"
      ],
      "metadata": {
        "id": "hzXIEXmOTsGd"
      }
    },
    {
      "cell_type": "markdown",
      "source": [
        "# <font color='FD6E72'> **Definición del problema** </font>"
      ],
      "metadata": {
        "id": "22O_QE_3XKge"
      }
    },
    {
      "cell_type": "markdown",
      "source": [
        "**Diseño Óptimo de la Red de Producción**  \n",
        "\n",
        "Una empresa líder en la producción de salsa de tomate ha decidido optimizar su sistema nacional de producción. Actualmente, su proceso de abastecimiento y transformación de materia prima se estructura de la siguiente manera:  \n",
        "\n",
        "1. **Adquisición de Tomates:** La empresa compra tomates a una selección de diez proveedores ubicados en distintas regiones del país.  \n",
        "2. **Procesamiento Intermedio:** Los tomates adquiridos se transportan desde las bodegas de los proveedores hacia plantas intermedias de procesamiento, donde se transforman en pasta de tomate y se empacan en barriles de 50 litros. El proceso de conversión está definido por una relación de 100 kg de tomate por cada 50 litros de pasta de tomate.  \n",
        "3. **Producción Final:** Los barriles con pasta de tomate son enviados a las plantas de producción, donde se mezclan con otros ingredientes y se empacan en unidades listas para su distribución en almacenes de cadena.  \n",
        "\n",
        "La empresa le ha contratado para diseñar la red de producción óptima con el objetivo de **minimizar el costo total de abastecimiento de materia prima** en las plantas  de producción final, que incluye tanto el costo de adquisición de los tomates como el costo de transporte hasta las plantas de producción.  \n",
        "\n",
        "Para ello, deberá tomar decisiones estratégicas sobre:  \n",
        "- La cantidad y ubicación de las plantas intermedias de procesamiento a abrir.  \n",
        "- La cantidad de tomate que se debe comprar a cada proveedor.  \n",
        "- La distribución óptima de los tomates desde las bodegas de los proveedores hasta las plantas intermedias de procesamiento.  \n",
        "- La cantidad de barriles de pasta de tomate que deben ser transportados desde las plantas intermedias hacia las plantas de producción.  \n",
        "\n",
        "El diseño de la red deberá garantizar eficiencia operativa, minimizar costos logísticos y asegurar un flujo adecuado de materia prima en la cadena de producción.  \n",
        "\n"
      ],
      "metadata": {
        "id": "OpFSKSD7ygna"
      }
    },
    {
      "cell_type": "markdown",
      "source": [
        "## <font color='#ff6d33'> **Datos de la instancia** </font>\n",
        "\n",
        "Las siguientes tablas resumen los datos para una instancia particular del problema"
      ],
      "metadata": {
        "id": "Hj3lExSBzkC0"
      }
    },
    {
      "cell_type": "markdown",
      "source": [
        "**Costo de abastecmiento y capacidad de abastecimiento** </font>\n",
        "\n",
        "Los costos de abastecimiento por $kg$ desde cada proveedor son los siguientes así como las cantidades máximas que pueden abastecer también en $kg$\n",
        "\n",
        "| Proveedor | P1 | P2 | P3 | P4 | P5 | P6 | P7 | P8 | P9 | P10 |\n",
        "|-----------|----|----|----|----|----|----|----|----|----|-----|\n",
        "| Costo   |  7 | 10 |  5 |  8 |  5 |  9 | 12 |  7 |  8 | 10  |\n",
        "| Cantidad |1000 | 820 | 750 |1110 |1200 | 600 | 750 | 910 | 630 | 990  |\n"
      ],
      "metadata": {
        "id": "WYRNUlnIzOYs"
      }
    },
    {
      "cell_type": "markdown",
      "source": [
        "**Costo plantas intermedias y capacidad de procesamiento** </font>\n",
        "\n",
        "Existe un costo fijo de poner en operación cada una de las plantas intermedias, el costo variable por procesamiento de cada $kg$ de tomate asi como una capacidad máxima de procesamiento en $kg$\n",
        "\n",
        "| Planta | T1  | T2  | T3  | T4  | T5  |\n",
        "|--------|-----|-----|-----|-----|-----|\n",
        "| Costo_fijo | 1000 | 1500 | 1100 | 1000 | 950 |\n",
        "| Costo_var | 0.5 | 0.6 | 0.7 | 0.5 | 0.8 |\n",
        "| Capacidad | 5500 | 7800 | 4500 | 5100 | 4000 |\n"
      ],
      "metadata": {
        "id": "8MlNZP8A0LdF"
      }
    },
    {
      "cell_type": "markdown",
      "source": [
        "**Costo de transporte entre proveedores y plantas intermedias** </font>\n",
        "\n",
        "El costo de transporte por $kg$ entre proveedores y plantas de procesamiento intermedia es el siguiente\n",
        "\n",
        "\n",
        "| Proveedor | T1  | T2  | T3  | T4  | T5  |\n",
        "|-----------|-----|-----|-----|-----|-----|\n",
        "| **P1**   | 2.2 | 2.6 | 1.7 | 0.8 | 1.0 |\n",
        "| **P2**   | 0.5 | 1.6 | 2.8 | 1.8 | 3.2 |\n",
        "| **P3**   | 3.0 | 2.1 | 1.4 | 3.5 | 1.4 |\n",
        "| **P4**   | 2.9 | 1.9 | 1.7 | 3.4 | 0.8 |\n",
        "| **P5**   | 1.5 | 1.7 | 1.6 | 2.0 | 1.4 |\n",
        "| **P6**   | 0.5 | 2.1 | 1.0 | 3.4 | 2.2 |\n",
        "| **P7**   | 2.1 | 0.6 | 0.6 | 1.2 | 2.0 |\n",
        "| **P8**   | 0.9 | 2.1 | 3.4 | 3.4 | 3.1 |\n",
        "| **P9**   | 2.0 | 2.3 | 2.2 | 1.5 | 2.2 |\n",
        "| **P10**  | 3.4 | 3.1 | 2.9 | 1.3 | 2.8 |\n"
      ],
      "metadata": {
        "id": "UnjIQpcH0yGp"
      }
    },
    {
      "cell_type": "markdown",
      "source": [
        "**Costo de transporte entre plantas intermedias y plantas de frabricación** </font>\n",
        "\n",
        "El costo de transporte por $kg$ entre proveedores y plantas de procesamiento intermedia es el siguiente\n",
        "\n",
        "\n",
        "| Planta | F1  | F2  | F3  |\n",
        "|--------|-----|-----|-----|\n",
        "| **T1** | 1.6 | 1.6 | 2.9 |\n",
        "| **T2** | 1.0 | 2.3 | 1.5 |\n",
        "| **T3** | 2.3 | 2.1 | 3.4 |\n",
        "| **T4** | 1.9 | 3.1 | 2.3 |\n",
        "| **T5** | 0.6 | 1.6 | 0.8 |\n"
      ],
      "metadata": {
        "id": "sToi7-z91qAW"
      }
    },
    {
      "cell_type": "markdown",
      "source": [
        "**Demanda de las plantas de producción final** </font>\n",
        "\n",
        "Demanda en barriles de cada una de las plantas de producción final\n",
        "\n",
        "\n",
        "|    Planta    | F1  | F2  | F3  |\n",
        "|--------|-----|-----|-----|\n",
        "| demanda | 1000  | 750  | 900  |\n"
      ],
      "metadata": {
        "id": "eRt8nb3N3ckt"
      }
    },
    {
      "cell_type": "markdown",
      "source": [
        "Hemos recopilado estos datos en un diccionario de datos llamado `data`"
      ],
      "metadata": {
        "id": "f9jJ-Cd_TRnd"
      }
    },
    {
      "cell_type": "code",
      "source": [
        "data = {\n",
        "    \"Costo_abastecimiento\": {\n",
        "            \"P1\": 7, \"P2\": 10, \"P3\": 5, \"P4\": 8, \"P5\": 5,\n",
        "            \"P6\": 9, \"P7\": 12, \"P8\": 7, \"P9\": 8, \"P10\": 10\n",
        "    },\n",
        "    \"Cantidad_abastecimiento\": {\n",
        "            \"P1\": 1000, \"P2\": 820, \"P3\": 750, \"P4\": 1110, \"P5\": 1200,\n",
        "            \"P6\": 600, \"P7\": 750, \"P8\": 910, \"P9\": 630, \"P10\": 990\n",
        "    },\n",
        "    \"Costo_Fijo\": {\n",
        "            \"T1\": 1000, \"T2\": 1500, \"T3\": 1100, \"T4\": 1000, \"T5\": 950\n",
        "    },\n",
        "    \"Costo_Variable\": {\n",
        "            \"T1\": 0.5, \"T2\": 0.5, \"T3\": 0.5, \"T4\": 0.7, \"T5\": 0.8\n",
        "    },\n",
        "    \"Capacidad_intermedias\": {\n",
        "            \"T1\": 5500, \"T2\": 7800, \"T3\": 4500, \"T4\": 5100, \"T5\": 4000\n",
        "    },\n",
        "    \"Costo_Transporte_abast\": {\n",
        "        # Transporte Proveedores → Plantas Intermedias\n",
        "        (\"P1\", \"T1\"): 2.2, (\"P1\", \"T2\"): 2.6, (\"P1\", \"T3\"): 1.7, (\"P1\", \"T4\"): 0.8, (\"P1\", \"T5\"): 1.0,\n",
        "        (\"P2\", \"T1\"): 0.5, (\"P2\", \"T2\"): 1.6, (\"P2\", \"T3\"): 2.8, (\"P2\", \"T4\"): 1.8, (\"P2\", \"T5\"): 3.2,\n",
        "        (\"P3\", \"T1\"): 3.0, (\"P3\", \"T2\"): 2.1, (\"P3\", \"T3\"): 1.4, (\"P3\", \"T4\"): 3.5, (\"P3\", \"T5\"): 1.4,\n",
        "        (\"P4\", \"T1\"): 2.9, (\"P4\", \"T2\"): 1.9, (\"P4\", \"T3\"): 1.7, (\"P4\", \"T4\"): 3.4, (\"P4\", \"T5\"): 0.8,\n",
        "        (\"P5\", \"T1\"): 1.5, (\"P5\", \"T2\"): 1.7, (\"P5\", \"T3\"): 1.6, (\"P5\", \"T4\"): 2.0, (\"P5\", \"T5\"): 1.4,\n",
        "        (\"P6\", \"T1\"): 0.5, (\"P6\", \"T2\"): 2.1, (\"P6\", \"T3\"): 1.0, (\"P6\", \"T4\"): 3.4, (\"P6\", \"T5\"): 2.2,\n",
        "        (\"P7\", \"T1\"): 2.1, (\"P7\", \"T2\"): 0.6, (\"P7\", \"T3\"): 0.6, (\"P7\", \"T4\"): 1.2, (\"P7\", \"T5\"): 2.0,\n",
        "        (\"P8\", \"T1\"): 0.9, (\"P8\", \"T2\"): 2.1, (\"P8\", \"T3\"): 3.4, (\"P8\", \"T4\"): 3.4, (\"P8\", \"T5\"): 3.1,\n",
        "        (\"P9\", \"T1\"): 2.0, (\"P9\", \"T2\"): 2.3, (\"P9\", \"T3\"): 2.2, (\"P9\", \"T4\"): 1.5, (\"P9\", \"T5\"): 2.2,\n",
        "        (\"P10\", \"T1\"): 3.4, (\"P10\", \"T2\"): 3.1, (\"P10\", \"T3\"): 2.9, (\"P10\", \"T4\"): 1.3, (\"P10\", \"T5\"): 2.8,\n",
        "    },\n",
        "    \"Costo_Transporte_final\": {\n",
        "        # Transporte Plantas Intermedias → Plantas de Fabricación\n",
        "        (\"T1\", \"F1\"): 1.6, (\"T1\", \"F2\"): 1.6, (\"T1\", \"F3\"): 2.9,\n",
        "        (\"T2\", \"F1\"): 1.0, (\"T2\", \"F2\"): 2.3, (\"T2\", \"F3\"): 1.5,\n",
        "        (\"T3\", \"F1\"): 2.3, (\"T3\", \"F2\"): 2.1, (\"T3\", \"F3\"): 3.4,\n",
        "        (\"T4\", \"F1\"): 1.9, (\"T4\", \"F2\"): 3.1, (\"T4\", \"F3\"): 2.3,\n",
        "        (\"T5\", \"F1\"): 0.6, (\"T5\", \"F2\"): 1.6, (\"T5\", \"F3\"): 0.8\n",
        "    },\n",
        "\n",
        "    \"Demanda\": {\n",
        "        \"F1\": 1000, \"F2\": 750, \"F3\": 900\n",
        "    },\n",
        "    # factor de conversión de kilos a litros\n",
        "    \"factor_conv\":0.5\n",
        "}\n"
      ],
      "metadata": {
        "id": "wMIFyOyO4l_-"
      },
      "execution_count": null,
      "outputs": []
    },
    {
      "cell_type": "markdown",
      "source": [
        "\n",
        "# <font color='FD6E72'> **Verbalización del problema** </font>\n",
        "\n",
        "\n",
        "\n",
        "El problema puede verbalizarse de la siguiente manera:\n",
        "\n",
        "\n",
        "\n",
        "\n",
        "\n",
        "\n",
        "\n",
        "\n",
        "\n",
        "\n",
        "\n",
        "\n",
        "\n",
        "\n",
        "\n",
        "\n",
        "\n",
        "\n"
      ],
      "metadata": {
        "id": "QDrLogZtVe9D"
      }
    },
    {
      "cell_type": "markdown",
      "source": [
        "## <font color='ff6d33'>**Conjuntos** </font>\n",
        "\n",
        "- **Proveedores ($P$)**   \n",
        "- **Plantas intermedias ($T$)**  \n",
        "- **Plantas de producción final ($F$):**"
      ],
      "metadata": {
        "id": "mLEkbe6xUde0"
      }
    },
    {
      "cell_type": "markdown",
      "source": [
        "## <font color='ff6d33'>**Parámetros** </font>\n",
        "\n",
        "* Capacidad máxima de suministro del proveedor $p$ ($kg$ de tomates).  \n",
        "* Costo por $kg$ de tomate del proveedor $p$ (\\$/kg).   \n",
        "* Costo fijo de apertura de la planta intermedia $i$ (\\$).  \n",
        "* Costo operativo por $kg$ de tomate procesado en la planta $i$ (\\$/kg).  \n",
        "* Capacidad máxima de procesamiento de la planta intermedia $i$ ($kg$ de tomates).  \n",
        "* Demanda de pasta de tomate en la planta de producción $j$ (barriles).  \n",
        "* Costo de transporte por $kg$ de tomate desde el proveedor $p$ a la planta intermedia $i$ (\\$/kg).  \n",
        "* Costo de transporte por barril de pasta de tomate desde la planta intermedia $i$ a la planta de producción $j$ (\\$/barril).  \n",
        "* Relación de conversión: cada 100 kg de tomate producen 50 litros de pasta de tomate (= 1 barril)."
      ],
      "metadata": {
        "id": "e4Yd2aFFUcKx"
      }
    },
    {
      "cell_type": "markdown",
      "source": [
        "## <font color='ff6d33'>**Variables de decisión** </font>\n",
        "\n",
        "* **Ubicación y apertura de plantas intermedias:**\n",
        "\n",
        "> ¿Cuáles de las posibles ubicaciones de plantas intermedias de procesamiento deben abrirse? (Decisión binaria: abrir/no abrir cada planta)\n",
        "\n",
        "* **Cantidad de tomates comprados a cada proveedor:**\n",
        "\n",
        "> ¿Cuántos kg de tomates se deben comprar a cada proveedor? (Variable continua)\n",
        "\n",
        "* **Asignación de tomates a plantas intermedias:**\n",
        "\n",
        "> ¿Cómo distribuir los tomates desde los proveedores hacia las plantas intermedias de procesamiento? (Variable continua de flujo de transporte)\n",
        "\n",
        "* **Cantidad de pasta de tomate producida en cada planta intermedia:**\n",
        "\n",
        "> ¿Cuántos barriles de pasta de tomate producir en cada planta intermedia? (Basado en la conversión 100 kg de tomate = 50 litros de pasta)\n",
        "\n",
        "* **Distribución de barriles de pasta de tomate a las plantas de producción:**\n",
        "\n",
        "> ¿Cómo distribuir los barriles de pasta de tomate desde cada planta intermedia a cada planta de producción final? (Variable continua de flujo de transporte)"
      ],
      "metadata": {
        "id": "tPMbFzLHUZgi"
      }
    },
    {
      "cell_type": "markdown",
      "source": [
        "## <font color='ff6d33'>**Función objetivo** </font>\n",
        "\n",
        "Minimizar el costo total de adquisición y transporte de materia prima, incluyendo:  \n",
        "- Costo de compra de tomates a los proveedores.  \n",
        "- Costo de transporte de tomates desde proveedores a plantas intermedias.  \n",
        "- Costo de apertura y operación de plantas intermedias.  \n",
        "- Costo de transporte de pasta de tomate desde plantas intermedias a plantas de producción final.  "
      ],
      "metadata": {
        "id": "13dZVzv5UWbt"
      }
    },
    {
      "cell_type": "markdown",
      "source": [
        "## <font color='ff6d33'>**Restricciones** </font>\n",
        "\n",
        "* **Balance de oferta y demanda:**  \n",
        "   - La cantidad total de tomates comprados a los proveedores no puede exceder su capacidad de suministro.  \n",
        "   - La cantidad de pasta de tomate enviada a las plantas de producción debe satisfacer la demanda establecida.  \n",
        "\n",
        "* **Conversión de materia prima:**  \n",
        "   - La conversión de tomates a pasta de tomate sigue la relación: 100 kg de tomates = 50 litros de pasta de tomate (1 barril).  \n",
        "\n",
        "* **Capacidad de plantas intermedias:**  \n",
        "   - Cada planta intermedia tiene una capacidad máxima de procesamiento.  \n",
        "   - Solo se pueden usar plantas intermedias si están abiertas (decisión binaria).  \n",
        "\n",
        "* **Capacidad de transporte:**  \n",
        "   - Límite en la cantidad de tomates transportados desde los proveedores a las plantas intermedias.  \n",
        "   - Límite en la cantidad de barriles transportados desde las plantas intermedias a las plantas de producción.  "
      ],
      "metadata": {
        "id": "cK__z_yKUUQW"
      }
    },
    {
      "cell_type": "markdown",
      "source": [
        "# <font color='FD6E72'> **Formulación matemática** </font>"
      ],
      "metadata": {
        "id": "DrTod4dLU2N-"
      }
    },
    {
      "cell_type": "markdown",
      "source": [
        "## <font color='ff6d33'>**Conjuntos** </font>\n",
        "\n",
        "- $ p \\in P $: Conjunto de proveedores de tomates.  \n",
        "- $ i \\in I $: Conjunto de posibles plantas intermedias de procesamiento.  \n",
        "- $ j \\in J $: Conjunto de plantas de producción final.  \n",
        "\n",
        "\n",
        "\n",
        "\n",
        "\n",
        "\n",
        "\n",
        "\n",
        "\n",
        "\n",
        "\n"
      ],
      "metadata": {
        "id": "nxO5XlRTA6A7"
      }
    },
    {
      "cell_type": "markdown",
      "source": [
        "## <font color='ff6d33'>**Parámetros** </font>\n",
        "\n",
        "- $ s_p $: Capacidad máxima de suministro del proveedor $ p $ (kg de tomates), $ \\forall p \\in P $.  \n",
        "- $ c_p $: Costo por kg de tomate del proveedor $ p $, $ \\forall p \\in P $.  \n",
        "- $ f_i $: Costo fijo de apertura de la planta intermedia $ i $, $ \\forall i \\in I $.  \n",
        "- $ c^{op}_i $: Costo operativo por kg de tomate procesado en la planta $ i $, $ \\forall i \\in I $.  \n",
        "- $ c^{cap}_i $: Capacidad máxima de procesamiento de la planta intermedia $ i $ (kg de tomates), $ \\forall i \\in I $.  \n",
        "- $ d_j $: Demanda de pasta de tomate en la planta de producción $ j $ (barriles), $ \\forall j \\in J $.  \n",
        "- $ t_{pi} $: Costo de transporte por kg de tomate desde el proveedor $ p $ a la planta intermedia $ i $, $ \\forall p \\in P, \\forall i \\in I $.  \n",
        "- $ t_{ij} $: Costo de transporte por barril de pasta de tomate desde la planta intermedia $ i $ a la planta de producción $ j $, $ \\forall i \\in I, \\forall j \\in J $.\n",
        "- $ r $: Relación de conversión de tomates a pasta de tomate ($ r = 0.5 $, es decir, 100 kg de tomates → 50 litros de pasta de tomate = 1 barril)."
      ],
      "metadata": {
        "id": "ET1cwN8dVmzB"
      }
    },
    {
      "cell_type": "markdown",
      "source": [
        "## <font color='ff6d33'>**Variables de Decisión** </font>\n",
        "\n",
        "- $ x_{pi} $: Cantidad de tomates comprados al proveedor $ p $ y enviados a la planta intermedia $ i $ (kg), $ \\forall p \\in P, \\forall i \\in I $.  \n",
        "- $ z_{ij} $: Cantidad de barriles de pasta de tomate enviados desde la planta intermedia $ i $ a la planta de producción $ j $, $ \\forall i \\in I, \\forall j \\in J $.  \n",
        "- $ w_i $: Cantidad de tomates procesados en la planta intermedia $ i $ (kg), $ \\forall i \\in I $.  \n",
        "- $ y_i $: Variable binaria que indica si la planta intermedia $ i $ está abierta ($ y_i = 1 $ si se abre, 0 en caso contrario), $ \\forall i \\in I $.  "
      ],
      "metadata": {
        "id": "RqDHzwtLVkks"
      }
    },
    {
      "cell_type": "markdown",
      "source": [
        "## <font color='ff6d33'>**Función Objetivo** </font>\n",
        "\n",
        "Minimizar el costo total de operación y transporte:  \n",
        "\n",
        "$$\n",
        "\\min \\sum_{p \\in P} \\sum_{i \\in I} c_p x_{pi} + \\sum_{p \\in P} \\sum_{i \\in I} t_{pi} x_{pi} + \\sum_{i \\in I} c^{op}_i w_i + \\sum_{i \\in I} \\sum_{j \\in J} t_{ij} z_{ij} + \\sum_{i \\in I} f_i y_i\n",
        "$$\n"
      ],
      "metadata": {
        "id": "-2giRaccViVx"
      }
    },
    {
      "cell_type": "markdown",
      "source": [
        "## <font color='ff6d33'>**Restricciones** </font>\n",
        "\n",
        "### **Restricción de capacidad de suministro de los proveedores**  \n",
        "Cada proveedor no puede vender más tomates de los que tiene disponibles:  \n",
        "\n",
        "$$\n",
        "\\sum_{i \\in I} x_{pi} \\leq s_p, \\quad \\forall p \\in P\n",
        "$$\n",
        "\n",
        "### **Restricción de balance de procesamiento en plantas intermedias**  \n",
        "El total de tomates procesados en cada planta intermedia debe coincidir con los tomates recibidos:  \n",
        "\n",
        "$$\n",
        "w_i = \\sum_{p \\in P} x_{pi}, \\quad \\forall i \\in I\n",
        "$$\n",
        "\n",
        "### **Restricción de conversión de tomate a pasta de tomate**  \n",
        "La cantidad de pasta de tomate producida en cada planta intermedia sigue la relación de conversión:  \n",
        "\n",
        "$$\n",
        "\\sum_{j \\in J} z_{ij} = r \\cdot w_i, \\quad \\forall i \\in I\n",
        "$$\n",
        "\n",
        "### **Restricción de capacidad de las plantas intermedias**  \n",
        "Cada planta intermedia solo puede procesar tomates si está abierta, y debe respetar su capacidad máxima:  \n",
        "\n",
        "$$\n",
        "w_i \\leq c^{cap}_i \\cdot y_i, \\quad \\forall i \\in I\n",
        "$$\n",
        "\n",
        "### **Restricción de demanda en las plantas de producción**  \n",
        "Cada planta de producción debe recibir la cantidad exacta de pasta de tomate que requiere:  \n",
        "\n",
        "$$\n",
        "\\sum_{i \\in I} z_{ij} = d_j, \\quad \\forall j \\in J\n",
        "$$\n",
        "\n",
        "### **Restricción de variables enteras y binarias**  \n",
        "$$\n",
        "x_{pi} \\geq 0, \\quad w_i \\geq 0, \\quad z_{ij} \\geq 0, \\quad \\forall p \\in P, \\forall i \\in I, \\forall j \\in J\n",
        "$$\n",
        "\n",
        "$$\n",
        "y_i \\in \\{0,1\\}, \\quad \\forall i \\in I\n",
        "$$"
      ],
      "metadata": {
        "id": "wfQRe1tVVgT5"
      }
    },
    {
      "cell_type": "markdown",
      "source": [
        "# <font color='FD6E72'> **Implementación** </font>"
      ],
      "metadata": {
        "id": "EcQPFNJCVZcK"
      }
    },
    {
      "cell_type": "markdown",
      "source": [
        "Instalamos las librerias necesarias"
      ],
      "metadata": {
        "id": "IGKFm3EBVy7l"
      }
    },
    {
      "cell_type": "code",
      "source": [
        "!pip install pyomo\n",
        "!pip install highspy\n",
        "from pyomo.environ import *\n",
        "import pandas as pd"
      ],
      "metadata": {
        "id": "93bOwy6WD7lz"
      },
      "execution_count": null,
      "outputs": []
    },
    {
      "cell_type": "markdown",
      "source": [
        "Definimos la función `cear_modelo() `que recibe el diccionario `data` y retorna el `modelo`"
      ],
      "metadata": {
        "id": "z_nd3Q2cV3fT"
      }
    },
    {
      "cell_type": "code",
      "source": [
        "def crear_modelo(data):\n",
        "    model = ConcreteModel()\n",
        "\n",
        "    # Conjuntos\n",
        "    model.P = Set(initialize=data[\"Costo_abastecimiento\"].keys())  # Proveedores\n",
        "    model.I = Set(initialize=data[\"Costo_Fijo\"].keys())  # Plantas intermedias\n",
        "    model.J = Set(initialize=data[\"Demanda\"].keys())  # Plantas de producción\n",
        "\n",
        "    # Parámetros\n",
        "    model.c_p = Param(model.P, initialize=data[\"Costo_abastecimiento\"], within=NonNegativeReals)\n",
        "    model.s_p = Param(model.P, initialize=data[\"Cantidad_abastecimiento\"], within=NonNegativeReals)\n",
        "    model.f_i = Param(model.I, initialize=data[\"Costo_Fijo\"], within=NonNegativeReals)\n",
        "    model.c_op = Param(model.I, initialize=data[\"Costo_Variable\"], within=NonNegativeReals)\n",
        "    model.c_cap = Param(model.I, initialize=data[\"Capacidad_intermedias\"], within=NonNegativeReals)\n",
        "    model.d_j = Param(model.J, initialize=data[\"Demanda\"], within=NonNegativeReals)\n",
        "    model.t_pi = Param(model.P, model.I, initialize=data[\"Costo_Transporte_abast\"], within=NonNegativeReals)\n",
        "    model.t_ij = Param(model.I, model.J, initialize=data[\"Costo_Transporte_final\"], within=NonNegativeReals)\n",
        "    model.r = Param(initialize=data[\"factor_conv\"], within=NonNegativeReals)\n",
        "\n",
        "    # Variables\n",
        "    model.x = Var(model.P, model.I, within=NonNegativeReals)\n",
        "    model.z = Var(model.I, model.J, within=NonNegativeReals)\n",
        "    model.w = Var(model.I, within=NonNegativeReals)\n",
        "    model.y = Var(model.I, within=Binary)\n",
        "\n",
        "    # Función Objetivo\n",
        "    def objective_rule(model):\n",
        "        return (\n",
        "            sum(model.c_p[p] * model.x[p, i] for p in model.P for i in model.I) +\n",
        "            sum(model.t_pi[p, i] * model.x[p, i] for p in model.P for i in model.I) +\n",
        "            sum(model.c_op[i] * model.w[i] for i in model.I) +\n",
        "            sum(model.t_ij[i, j] * model.z[i, j] for i in model.I for j in model.J) +\n",
        "            sum(model.f_i[i] * model.y[i] for i in model.I)\n",
        "        )\n",
        "    model.OBJ = Objective(rule=objective_rule, sense=minimize)\n",
        "\n",
        "    # Restricciones\n",
        "    def supply_constraint(model, p):\n",
        "        return sum(model.x[p, i] for i in model.I) <= model.s_p[p]\n",
        "    model.SupplyConstraint = Constraint(model.P, rule=supply_constraint)\n",
        "\n",
        "    def processing_balance(model, i):\n",
        "        return model.w[i] == sum(model.x[p, i] for p in model.P)\n",
        "    model.ProcessingBalance = Constraint(model.I, rule=processing_balance)\n",
        "\n",
        "    def conversion_constraint(model, i):\n",
        "        return sum(model.z[i, j] for j in model.J) == model.r * model.w[i]\n",
        "    model.ConversionConstraint = Constraint(model.I, rule=conversion_constraint)\n",
        "\n",
        "    def capacity_constraint(model, i):\n",
        "        return model.w[i] <= model.c_cap[i] * model.y[i]\n",
        "    model.CapacityConstraint = Constraint(model.I, rule=capacity_constraint)\n",
        "\n",
        "    def demand_constraint(model, j):\n",
        "        return sum(model.z[i, j] for i in model.I) == model.d_j[j]\n",
        "    model.DemandConstraint = Constraint(model.J, rule=demand_constraint)\n",
        "\n",
        "    return model\n"
      ],
      "metadata": {
        "id": "x9HbpZUiDtuj"
      },
      "execution_count": null,
      "outputs": []
    },
    {
      "cell_type": "markdown",
      "source": [
        "# <font color='FD6E72'> **Resolver y obtener solución** </font>"
      ],
      "metadata": {
        "id": "EgRQYq7NWI9u"
      }
    },
    {
      "cell_type": "markdown",
      "source": [
        "Instanciamos el modelo con los datos suministrados y lo resolvemos"
      ],
      "metadata": {
        "id": "Nq5itNdyWLx0"
      }
    },
    {
      "cell_type": "code",
      "source": [
        "modelo = crear_modelo(data)\n",
        "# Solve the model using a solver\n",
        "solver = SolverFactory('appsi_highs')\n",
        "resultados = solver.solve(modelo, tee=True)"
      ],
      "metadata": {
        "id": "klfs9WkfED6h"
      },
      "execution_count": null,
      "outputs": []
    },
    {
      "cell_type": "markdown",
      "source": [
        "Definimos una función que extrae los resultados de las variables de decisión en DataFrames"
      ],
      "metadata": {
        "id": "oQhhsDmgWYEc"
      }
    },
    {
      "cell_type": "code",
      "source": [
        "def extraer_resultados(model):\n",
        "    transporte = []\n",
        "    plantas_abiertas = []\n",
        "\n",
        "    # Extraer cantidades enviadas de proveedores a plantas intermedias\n",
        "    for p in model.P:\n",
        "        for i in model.I:\n",
        "            if model.x[p, i].value > 0:\n",
        "                transporte.append({\"origen\": p, \"destino\": i, \"cantidad\": model.x[p, i].value, \"tipo\": \"kg\"})\n",
        "\n",
        "    # Extraer cantidades enviadas de plantas intermedias a plantas de producción\n",
        "    for i in model.I:\n",
        "        for j in model.J:\n",
        "            if model.z[i, j].value > 0:\n",
        "                transporte.append({\"origen\": i, \"destino\": j, \"cantidad\": model.z[i, j].value, \"tipo\": \"barriles\"})\n",
        "\n",
        "\n",
        "    for t in model.I:\n",
        "        if model.y[t].value > 0.5:\n",
        "            plantas_abiertas.append([t, 1])\n",
        "\n",
        "    df_transporte = pd.DataFrame(transporte, columns=['origen', 'destino', 'cantidad', 'tipo'])\n",
        "    df_plantas = pd.DataFrame(plantas_abiertas, columns=['planta', 'abierta'])\n",
        "\n",
        "\n",
        "    return df_transporte, df_plantas"
      ],
      "metadata": {
        "id": "3AJXpBjtE_8c"
      },
      "execution_count": null,
      "outputs": []
    },
    {
      "cell_type": "code",
      "source": [
        "df_transporte, df_plantas = extraer_resultados(modelo)"
      ],
      "metadata": {
        "id": "BTDhUZvaXBjF"
      },
      "execution_count": null,
      "outputs": []
    },
    {
      "cell_type": "markdown",
      "source": [
        "Estas son las plantas intermedias que se decide abrir"
      ],
      "metadata": {
        "id": "AeDbxTV-Wn0E"
      }
    },
    {
      "cell_type": "code",
      "source": [
        "df_plantas"
      ],
      "metadata": {
        "id": "j4iiTa8_HkA0"
      },
      "execution_count": null,
      "outputs": []
    },
    {
      "cell_type": "markdown",
      "source": [
        "Estas son las cantidades que se transportan entre las distintas localizaciones"
      ],
      "metadata": {
        "id": "qvaC-Yd8WgX8"
      }
    },
    {
      "cell_type": "code",
      "source": [
        "df_transporte"
      ],
      "metadata": {
        "id": "FWrLDe6dFCAb"
      },
      "execution_count": null,
      "outputs": []
    }
  ]
}