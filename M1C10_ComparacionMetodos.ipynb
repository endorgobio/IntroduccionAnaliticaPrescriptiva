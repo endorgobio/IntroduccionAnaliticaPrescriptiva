{
  "nbformat": 4,
  "nbformat_minor": 0,
  "metadata": {
    "colab": {
      "provenance": [],
      "authorship_tag": "ABX9TyMgsK9vsYEcHkXMbF0bORPk",
      "include_colab_link": true
    },
    "kernelspec": {
      "name": "python3",
      "display_name": "Python 3"
    },
    "language_info": {
      "name": "python"
    }
  },
  "cells": [
    {
      "cell_type": "markdown",
      "metadata": {
        "id": "view-in-github",
        "colab_type": "text"
      },
      "source": [
        "<a href=\"https://colab.research.google.com/github/endorgobio/IntroduccionAnaliticaPrescriptiva/blob/main/M1C10_ComparacionMetodos.ipynb\" target=\"_parent\"><img src=\"https://colab.research.google.com/assets/colab-badge.svg\" alt=\"Open In Colab\"/></a>"
      ]
    },
    {
      "cell_type": "markdown",
      "source": [
        "<p style=\"text-align: center;\">\n",
        "    <img alt=\"banner\" height=\"230px\" width=\"100%\" src=\"https://github.com/endorgobio/IntroduccionAnaliticaPrescriptiva/blob/6cc6029c276aacdf228dcec4796b7b3184cfb8b7/src/header.png?raw=true\" hspace=\"10px\" vspace=\"0px\">\n",
        "</p>\n"
      ],
      "metadata": {
        "id": "de0mGKwY-Gn3"
      }
    },
    {
      "cell_type": "markdown",
      "source": [
        "\n",
        "En esta sesión, presentamos una solución al problema de programación de pedidos utilizando un modelo de optimización matemática. De momento, no ahondaremos en la estructura del modelo y sus principales componentes. Sin embargo, en este notebook encontrarás los recursos necesarios para experimentar con el modelo y explorar en detalle su implementación. ¡Una excelente oportunidad para aplicar teoría y práctica en un enfoque matemático riguroso!"
      ],
      "metadata": {
        "id": "qHDn7PhQBdHc"
      }
    },
    {
      "cell_type": "markdown",
      "source": [
        "# <font color='FD6E72'> **Nuestro primer modelo** </font>\n",
        "\n",
        "Una compañía de alimentos tiene una única línea de producción que procesa un único producto. El plan de demanda semanal contiene las órdenes de los clientes (en miles de unidades) y la utilidad (en miles de dolares) que cada una de ellas genera.\n",
        "\n",
        "Las órdenes no pueden fraccionarse, por lo que cada una de ellas se produce completa o no se produce. Dado que la usualmente la capacidad de la línea no es suficiente para satisfacer todas las ordenes, debe decidirse qué producir\n",
        "\n",
        "|        | Orden 1 | Orden 2 | Orden 3 | Orden 4 | Orden 5 | Orden 6 | Orden 7 | Orden 8 | Orden 9 | Orden 10 |\n",
        "|--------|---------|---------|---------|---------|---------|---------|---------|---------|---------|----------|\n",
        "| Cantidad |   16    |   29    |   24    |   20    |   17    |   30    |   32    |   28    |   20    |    20    |\n",
        "| Utilidad  |   73    |   85    |   89    |   73    |   52    |   71    |   102    |   73    |   93    |    79    |\n",
        "\n",
        "\n",
        "> **¿Cuáles de las ordenes deben producirse?**\n",
        "\n",
        "\n",
        "\n"
      ],
      "metadata": {
        "id": "TjmjdhCMvRxc"
      }
    },
    {
      "cell_type": "markdown",
      "source": [
        "## <font color='#ff6d33'> **Una primera solución** </font>\n",
        "\n",
        "Lo primero que podemos hacer es pensar en una solución basda en el sentido en nuestra intuición.\n",
        "\n",
        "\n",
        "<font color='85a900'>**Pregunta:** </font> ¿Cómo construiria una solución para el problema planteado?\n",
        "\n",
        "\n",
        "\n",
        "\n"
      ],
      "metadata": {
        "id": "42o7Y5Qs88dy"
      }
    },
    {
      "cell_type": "markdown",
      "source": [
        "Este tipo de soluciones se denominan usualmente **heurísticas**. Proveen soluciones rápidas y en algunos casos de calidad aceptable para el problema planteado. Las heuristicas tienen entre otras las siguientes características:\n",
        "\n",
        "\n",
        "* Encuentran una solución de forma rápida\n",
        "* Depende del conocieminto del problema que se resuelve\n",
        "* Por lo general, no tienen garantia de encontrar la mejor solución\n",
        "\n"
      ],
      "metadata": {
        "id": "rHF00ckWgAHZ"
      }
    },
    {
      "cell_type": "markdown",
      "source": [
        "El problema descrito es un caso particular del problema de la mochila (*knapsack problem*) que ha recibido mucha atención en la literatura."
      ],
      "metadata": {
        "id": "aKHGVFgpXkP1"
      }
    },
    {
      "cell_type": "markdown",
      "source": [
        "### <font color='85a900'>**Heurística voraz (`greedy`)** </font>"
      ],
      "metadata": {
        "id": "7-wkpiqIggxZ"
      }
    },
    {
      "cell_type": "markdown",
      "source": [
        "1. **Calcular el Ratio Utilidad/Cantidad:**\n",
        "\n",
        "  Calcula el ratio de valor a peso para cada pedido. Este ratio indica cuánta utilidad proporciona un pedido por cada unidad demandada.\n",
        "\n",
        "\n",
        "2. **Ordenar los pedidos por Ratio:**\n",
        "   \n",
        "   Ordena los pedidos en orden descendente basado en su ratio Utilidad/Cantidad. El objetivo es priorizar los pedidos que ofrecen el mayor utilidad por la menor cantidad.\n",
        "\n",
        "\n",
        "3. **Seleccionar pedidos:**\n",
        "   \n",
        "   Itera a través de los pedidos en el orden de sus ratios ordenados Para cada pedido, verifica si agregar la cantidad del pedido a la producción total actual excedería la capacidad de la línea.\n",
        "   * Si no excede la capacidad, agrega el pedido a la lista de pedidos seleccionados.\n",
        "   * Actualiza el utilidad total y la producción total para incluir el pedido recién seleccionado.\n",
        "\n",
        "\n",
        "4. **Devolver Resultados:**\n",
        "  \n",
        "  Después de procesar todos los pedidos o copar la capacidad de producción máxima, devuelve la lista de pedidos seleccionados, la utilidad total y la cantidad totalproducida."
      ],
      "metadata": {
        "id": "ILn03Z3sfpNL"
      }
    },
    {
      "cell_type": "markdown",
      "source": [
        "Aplicando esta heuristica el problema propuesto obtendriamos primero la tabla con las razones de utilidad sobre la cantidad\n",
        "\n",
        "\n",
        "\n",
        "|            | Orden 1 | Orden 2 | Orden 3 | Orden 4 | Orden 5 | Orden 6 | Orden 7 | Orden 8 | Orden 9 | Orden 10 |\n",
        "|------------|---------|---------|---------|---------|---------|---------|---------|---------|---------|----------|\n",
        "| Cantidad   |   16    |   29    |   24    |   20    |   17    |   30    |   32    |   28    |   20    |    20    |\n",
        "| Utilidad   |   73    |   85    |   89    |   73    |   52    |   71    |   102    |   73    |   93    |    79    |\n",
        "| Razón (U/C)|  4.56   |  2.93   |  3.71   |  3.65   |  3.06   |  2.37   |  3.19   |  2.61   |  4.65   |   3.95   |\n",
        "\n",
        "Con esto obtenemos el orden en el cual debe evaluarse la producción de los items\n",
        "\n",
        "\n",
        "\n",
        "> ```python\n",
        "[9, 1, 10, 3, 4, 7, 5, 8, 2, 6]\n",
        "```\n",
        "\n",
        "\n",
        "\n"
      ],
      "metadata": {
        "id": "u3vm7FeXgsMh"
      }
    },
    {
      "cell_type": "markdown",
      "source": [
        "Siguiendo los pasos para decidir cuando producir o no un pedido tendriamos:\n",
        "* se producen los pedidos `[9, 1, 10, 3, 4]`\n",
        "* La utilidad total es: `407`\n",
        "* La capacidad usada es: `100`\n",
        "\n"
      ],
      "metadata": {
        "id": "5qeCGx5Akt4g"
      }
    },
    {
      "cell_type": "markdown",
      "source": [
        "### <font color='85a900'>**Implementación de la heurística** </font>"
      ],
      "metadata": {
        "id": "oATIGRMWmKs2"
      }
    },
    {
      "cell_type": "markdown",
      "source": [
        "La siguiente función implementa el algoritmo heurístico propuesto para dar solución al problema"
      ],
      "metadata": {
        "id": "lCyNj2vymElY"
      }
    },
    {
      "cell_type": "code",
      "source": [
        "import numpy as np\n",
        "\n",
        "def knapsack_greedy(weights, values, capacity):\n",
        "    \"\"\"\n",
        "    Solve the knapsack problem using a greedy approach based on value-to-weight ratio.\n",
        "\n",
        "    Parameters:\n",
        "        weights (np.ndarray): Array of item weights.\n",
        "        values (np.ndarray): Array of item values.\n",
        "        capacity (int): Maximum capacity of the knapsack.\n",
        "\n",
        "    Returns:\n",
        "        selected_items (list): List of indices of selected items.\n",
        "        total_value (int): Total value of selected items.\n",
        "        total_weight (int): Total weight of selected items.\n",
        "    \"\"\"\n",
        "    # Calculate value-to-weight ratio for each item\n",
        "    ratios = values / weights\n",
        "\n",
        "    # Get indices that would sort the items based on ratio in ascending order\n",
        "    sorted_indices = np.argsort(ratios)[::-1]\n",
        "\n",
        "    total_value = 0\n",
        "    total_weight = 0\n",
        "    selected_items = []\n",
        "\n",
        "    # Select items based on sorted ratios\n",
        "    for i in sorted_indices:\n",
        "        if total_weight + weights[i] <= capacity:\n",
        "            selected_items.append(i)\n",
        "            total_value += values[i]\n",
        "            total_weight += weights[i]\n",
        "\n",
        "    selected_items = [item+1 for item in selected_items]\n",
        "    return selected_items, total_value, total_weight\n",
        "\n",
        "\n"
      ],
      "metadata": {
        "id": "wf4Kt3wD1rIl"
      },
      "execution_count": 1,
      "outputs": []
    },
    {
      "cell_type": "markdown",
      "source": [
        "Empleemos la función para resolver la instancia del problema que se presenta en el caso de estudio"
      ],
      "metadata": {
        "id": "KKEtIB4vW012"
      }
    },
    {
      "cell_type": "code",
      "source": [
        "# Example usage\n",
        "weights = np.array([16, 29, 24, 20, 17, 30, 32, 28, 20, 20])\n",
        "values = np.array([73, 85, 89, 73, 52, 71, 102, 73, 93, 79])\n",
        "capacity = 110\n",
        "\n",
        "selected_items, total_value, total_weight = knapsack_greedy(weights, values, capacity)\n",
        "\n",
        "print(\"Items seleccionados:\", selected_items)\n",
        "print(\"Utilidad total:\", total_value)\n",
        "print(\"Capacidad usada:\", total_weight)"
      ],
      "metadata": {
        "id": "5ySNGZbHWyPy",
        "colab": {
          "base_uri": "https://localhost:8080/"
        },
        "outputId": "ca454432-5b3c-4a84-ff8c-be6fb129b0d4"
      },
      "execution_count": 2,
      "outputs": [
        {
          "output_type": "stream",
          "name": "stdout",
          "text": [
            "Items seleccionados: [9, 1, 10, 3, 4]\n",
            "Utilidad total: 407\n",
            "Capacidad usada: 100\n"
          ]
        }
      ]
    },
    {
      "cell_type": "markdown",
      "source": [
        "## <font color='#ff6d33'> **Modelo matemático** </font>"
      ],
      "metadata": {
        "id": "D6GqUDY0m3Qv"
      }
    },
    {
      "cell_type": "markdown",
      "source": [
        "### <font color='85a900'> **Formulación** </font>\n",
        "\n",
        "Es posible modelar este problema mediante expresiones mátematicas:\n",
        "\n",
        "Primero consideremos las decisiones, Para cada pedido $i$ debe decidirse si se produce o no:\n",
        "\n",
        "> $x_i =\n",
        "\\begin{cases}\n",
        "1 & \\text{se produce el pedido } i , \\\\\n",
        "0 & \\text{no se produce el pedido } i\n",
        "\\end{cases}$\n",
        "\n",
        "Nuestro objetivo es máximizar la utilidad\n",
        "> $\\text{Maximizar} \\quad  Z = 73x_1 + 85x_2 + 89x_3 + 73x_4 + 52x_5 + 71x_6 + 51x_7 + 73x_8 + 93x_9 + 79x_{10}$\n",
        "\n",
        "No debe sobrepasarse la capacidad de la linea\n",
        "> $16x_1 + 29x_2 + 24x_3 + 20x_4 + 17x_5 + 30x_6 + 32x_7 + 28x_8 + 20x_9 + 20x_{10} \\leq 110$\n",
        "\n"
      ],
      "metadata": {
        "id": "rYWA7UxWnKmw"
      }
    },
    {
      "cell_type": "markdown",
      "source": [
        "En una forma más compacta (que de momento no detallaremos) podria escribirse como:"
      ],
      "metadata": {
        "id": "oFdOaHNyoOIS"
      }
    },
    {
      "cell_type": "markdown",
      "source": [
        "\n",
        "\n",
        "> $x_i =\n",
        "\\begin{cases}\n",
        "1 & \\text{se produce el pedido } i , \\\\\n",
        "0 & \\text{no se produce el pedido } i\n",
        "\\end{cases}$"
      ],
      "metadata": {
        "id": "QHjEKHbW74Lj"
      }
    },
    {
      "cell_type": "markdown",
      "source": [
        "\\begin{align}\n",
        "    \\text{Maximizar} \\quad & Z = \\sum_{i \\in I} v_i x_i \\\\\n",
        "    \\text{Subjeto a}\\\\\n",
        "    & \\sum_{i \\in I} w_i x_i \\leq C \\\\\n",
        "    & x_i \\in \\{0, 1\\} \\quad \\forall i \\in I\n",
        "\\end{align}"
      ],
      "metadata": {
        "id": "dsg3SZOZ8fD5"
      }
    },
    {
      "cell_type": "markdown",
      "source": [
        "### <font color='85a900'> **Implementación** </font>"
      ],
      "metadata": {
        "id": "WUgX0ClmoYPF"
      }
    },
    {
      "cell_type": "markdown",
      "source": [
        "El modelo se implementa en un **lenguaje de modelación** y se resuelve haciendo uso de un **optimizador**. En este caso usaremos `pyomo` y `highspy`, respectivamente"
      ],
      "metadata": {
        "id": "MA3Ri8oyokOG"
      }
    },
    {
      "cell_type": "code",
      "source": [
        "!pip install pyomo\n",
        "!pip install highspy\n",
        "import numpy as np"
      ],
      "metadata": {
        "colab": {
          "base_uri": "https://localhost:8080/"
        },
        "id": "z6udApy-5MOZ",
        "outputId": "4ba4143c-488a-485b-8b08-c8d18771d5bf"
      },
      "execution_count": 3,
      "outputs": [
        {
          "output_type": "stream",
          "name": "stdout",
          "text": [
            "Requirement already satisfied: pyomo in /usr/local/lib/python3.10/dist-packages (6.8.2)\n",
            "Requirement already satisfied: ply in /usr/local/lib/python3.10/dist-packages (from pyomo) (3.11)\n",
            "Collecting highspy\n",
            "  Downloading highspy-1.9.0-cp310-cp310-manylinux_2_17_x86_64.manylinux2014_x86_64.whl.metadata (10 kB)\n",
            "Requirement already satisfied: numpy in /usr/local/lib/python3.10/dist-packages (from highspy) (1.26.4)\n",
            "Downloading highspy-1.9.0-cp310-cp310-manylinux_2_17_x86_64.manylinux2014_x86_64.whl (2.2 MB)\n",
            "\u001b[2K   \u001b[90m━━━━━━━━━━━━━━━━━━━━━━━━━━━━━━━━━━━━━━━━\u001b[0m \u001b[32m2.2/2.2 MB\u001b[0m \u001b[31m9.7 MB/s\u001b[0m eta \u001b[36m0:00:00\u001b[0m\n",
            "\u001b[?25hInstalling collected packages: highspy\n",
            "Successfully installed highspy-1.9.0\n"
          ]
        }
      ]
    },
    {
      "cell_type": "markdown",
      "source": [
        "La siguiente función crea el modelo matemático descrito anteriormente"
      ],
      "metadata": {
        "id": "q-tqjN2Cbkft"
      }
    },
    {
      "cell_type": "code",
      "source": [
        "from pyomo.environ import ConcreteModel, Var, Objective, Constraint, SolverFactory, Binary, sum_product\n",
        "\n",
        "def create_knapsack_model(weights, values, capacity):\n",
        "    \"\"\"\n",
        "    Create and solve a knapsack problem model using Pyomo.\n",
        "\n",
        "    Parameters:\n",
        "        weights (list): List of item weights.\n",
        "        values (list): List of item values.\n",
        "        capacity (int): Maximum capacity of the knapsack.\n",
        "\n",
        "    Returns:\n",
        "        model (ConcreteModel): The Pyomo model.\n",
        "        results (SolverResults): The results from the solver.\n",
        "    \"\"\"\n",
        "    # Create a concrete model\n",
        "    model = ConcreteModel()\n",
        "\n",
        "    # Number of items\n",
        "    n = len(weights)\n",
        "\n",
        "    # Define sets\n",
        "    model.I = range(n)\n",
        "\n",
        "    # Define variables\n",
        "    model.x = Var(model.I, domain=Binary)\n",
        "\n",
        "    # Objective: Maximize the total value\n",
        "    model.obj = Objective(\n",
        "        expr=sum(model.x[i] * values[i] for i in model.I),\n",
        "        sense='maximize'\n",
        "    )\n",
        "\n",
        "    # Constraint: Total weight should not exceed the capacity\n",
        "    model.capacity_constraint = Constraint(\n",
        "        expr=sum(model.x[i] * weights[i] for i in model.I) <= capacity\n",
        "    )\n",
        "\n",
        "    # Create a solver\n",
        "    solver = SolverFactory('appsi_highs')\n",
        "    results = solver.solve(model, tee=False)\n",
        "\n",
        "    return model, results\n",
        "\n",
        "\n"
      ],
      "metadata": {
        "id": "0pNeYeTK5JnI"
      },
      "execution_count": 4,
      "outputs": []
    },
    {
      "cell_type": "markdown",
      "source": [
        "Resolvamos la instancia con los datos que venomos considerando"
      ],
      "metadata": {
        "id": "Z102sPkUox_W"
      }
    },
    {
      "cell_type": "code",
      "source": [
        "# Example usage\n",
        "\n",
        "weights = np.array([16, 29, 24, 20, 17, 30, 32, 28, 20, 20])\n",
        "values = np.array([73, 85, 89, 73, 52, 71, 102, 73, 93, 79])\n",
        "capacity = 110\n",
        "\n",
        "model, results = create_knapsack_model(weights, values, capacity)\n",
        "\n",
        "# Display results\n",
        "selected_items = [(i) for i in model.I if model.x[i].value == 1]\n",
        "capacidad_utilizada = sum(weights[i] for i in selected_items)\n",
        "\n",
        "print(\"Utilidad total:\", model.obj())\n",
        "print(\"Items seleccionados:\", selected_items)\n",
        "print(\"Capacidad utilizada:\", capacidad_utilizada)"
      ],
      "metadata": {
        "colab": {
          "base_uri": "https://localhost:8080/"
        },
        "id": "Wqe8dobpoxIA",
        "outputId": "f43af35b-ada6-47dd-bbec-71002560cd16"
      },
      "execution_count": 5,
      "outputs": [
        {
          "output_type": "stream",
          "name": "stdout",
          "text": [
            "Utilidad total: 420.0\n",
            "Items seleccionados: [0, 3, 6, 8, 9]\n",
            "Capacidad utilizada: 108\n"
          ]
        }
      ]
    },
    {
      "cell_type": "markdown",
      "source": [
        "## <font color='#ff6d33'> **Análisis de la solución** </font>"
      ],
      "metadata": {
        "id": "gRiUUUz--srY"
      }
    },
    {
      "cell_type": "markdown",
      "source": [
        "Ahora creamos una función que genere instancias aleatorias de este mismo problema"
      ],
      "metadata": {
        "id": "z4t4TYjHmckt"
      }
    },
    {
      "cell_type": "code",
      "source": [
        "import numpy as np\n",
        "\n",
        "import numpy as np\n",
        "np.random.seed(42)\n",
        "\n",
        "def generate_knapsack_instance(n_items, min_weight, max_weight, min_value, max_value, capacity_ratio):\n",
        "    \"\"\"\n",
        "    Generate a random instance for the knapsack problem.\n",
        "\n",
        "    Parameters:\n",
        "        n_items (int): Number of items.\n",
        "        min_weight (int): Minimum possible weight of an item.\n",
        "        max_weight (int): Maximum possible weight of an item.\n",
        "        min_value (int): Minimum possible value of an item.\n",
        "        max_value (int): Maximum possible value of an item.\n",
        "        capacity_ratio (float): Ratio of total weight sum to knapsack capacity (0 < capacity_ratio <= 1).\n",
        "\n",
        "    Returns:\n",
        "        weights (np.ndarray): Array of item weights.\n",
        "        values (np.ndarray): Array of item values.\n",
        "        capacity (int): Knapsack capacity.\n",
        "    \"\"\"\n",
        "    # Generate random weights and values for the items within the given range\n",
        "    weights = np.random.randint(min_weight, max_weight + 1, size=n_items)\n",
        "    values = np.random.randint(min_value, max_value + 1, size=n_items)\n",
        "\n",
        "    # Define the knapsack capacity as a fraction of the sum of the weights\n",
        "    capacity = int(np.sum(weights) * capacity_ratio)\n",
        "\n",
        "    return weights, values, capacity\n",
        "\n",
        "# Example usage\n",
        "n_items = 10\n",
        "min_weight = 10\n",
        "max_weight = 30\n",
        "min_value = 50\n",
        "max_value = 100\n",
        "capacity_ratio = 0.5\n",
        "\n",
        "weights, values, capacity = generate_knapsack_instance(n_items, min_weight, max_weight, min_value, max_value, capacity_ratio)\n",
        "\n",
        "print(\"Weights:\", weights)\n",
        "print(\"Values:\", values)\n",
        "print(\"Capacity:\", capacity)\n",
        "\n"
      ],
      "metadata": {
        "colab": {
          "base_uri": "https://localhost:8080/"
        },
        "id": "kQCAX_0_w2Xu",
        "outputId": "2ff48660-5129-4880-ebfe-d30addd3869f"
      },
      "execution_count": 6,
      "outputs": [
        {
          "output_type": "stream",
          "name": "stdout",
          "text": [
            "Weights: [16 29 24 20 17 30 16 28 20 20]\n",
            "Values: [73 85 89 73 52 71 51 73 93 79]\n",
            "Capacity: 110\n"
          ]
        }
      ]
    },
    {
      "cell_type": "markdown",
      "source": [
        "Generemos `200` replicas del problema y comparemos que tan buena es la solución que provee el heuristico respecto al modelo exacto. Para ello calculamos la diferencis porcentual entre las soluciones de cada método, denominada `gap`:\n",
        "\n",
        "> $gap = 100*\\dfrac{opt-heur}{opt}$"
      ],
      "metadata": {
        "id": "jUKBBwnxpLsj"
      }
    },
    {
      "cell_type": "code",
      "source": [
        "import numpy as np\n",
        "import pandas as pd\n",
        "np.random.seed(42)\n",
        "\n",
        "min_weight = 10\n",
        "max_weight = 100\n",
        "min_value = 50\n",
        "max_value = 200\n",
        "\n",
        "n_replicas = 200\n",
        "\n",
        "data  = []\n",
        "\n",
        "for n_iter in range(n_replicas):\n",
        "  n_items = np.random.choice([10, 50, 100, 250, 500])\n",
        "  capacity_ratio = np.random.uniform(0.2, 0.7)\n",
        "  weights, values, capacity = generate_knapsack_instance(n_items, min_weight, max_weight, min_value, max_value, capacity_ratio)\n",
        "  selected_items, total_value, total_weight = knapsack_greedy(weights, values, capacity)\n",
        "  model, results = create_knapsack_model(weights, values, capacity)# Display results\n",
        "  optimal_value = model.obj()\n",
        "\n",
        "  data.append([n_items, total_value, optimal_value])\n",
        "\n",
        "df = pd.DataFrame(data, columns=['n_items', 'total_value', 'optimal_value'])\n",
        "df['gap'] = ( df['optimal_value']-df['total_value']) / df['optimal_value'] * 100\n",
        "df['name']='gap'\n",
        "df"
      ],
      "metadata": {
        "id": "X7iInFbV-ylK",
        "colab": {
          "base_uri": "https://localhost:8080/",
          "height": 423
        },
        "outputId": "35f46e1e-9dc3-4b10-9f36-4caea37f0988"
      },
      "execution_count": 7,
      "outputs": [
        {
          "output_type": "execute_result",
          "data": {
            "text/plain": [
              "     n_items  total_value  optimal_value       gap name\n",
              "0        250        27093        27140.0  0.173176  gap\n",
              "1         10          863          920.0  6.195652  gap\n",
              "2         50         4946         4946.0  0.000000  gap\n",
              "3         50         3635         3668.0  0.899673  gap\n",
              "4         50         4658         4692.0  0.724638  gap\n",
              "..       ...          ...            ...       ...  ...\n",
              "195      250        21354        21357.0  0.014047  gap\n",
              "196      250        19048        19048.0  0.000000  gap\n",
              "197      500        30596        30597.0  0.003268  gap\n",
              "198       10          467          471.0  0.849257  gap\n",
              "199       10          752          752.0  0.000000  gap\n",
              "\n",
              "[200 rows x 5 columns]"
            ],
            "text/html": [
              "\n",
              "  <div id=\"df-141d6e0d-7379-41dc-a776-9613fad38b15\" class=\"colab-df-container\">\n",
              "    <div>\n",
              "<style scoped>\n",
              "    .dataframe tbody tr th:only-of-type {\n",
              "        vertical-align: middle;\n",
              "    }\n",
              "\n",
              "    .dataframe tbody tr th {\n",
              "        vertical-align: top;\n",
              "    }\n",
              "\n",
              "    .dataframe thead th {\n",
              "        text-align: right;\n",
              "    }\n",
              "</style>\n",
              "<table border=\"1\" class=\"dataframe\">\n",
              "  <thead>\n",
              "    <tr style=\"text-align: right;\">\n",
              "      <th></th>\n",
              "      <th>n_items</th>\n",
              "      <th>total_value</th>\n",
              "      <th>optimal_value</th>\n",
              "      <th>gap</th>\n",
              "      <th>name</th>\n",
              "    </tr>\n",
              "  </thead>\n",
              "  <tbody>\n",
              "    <tr>\n",
              "      <th>0</th>\n",
              "      <td>250</td>\n",
              "      <td>27093</td>\n",
              "      <td>27140.0</td>\n",
              "      <td>0.173176</td>\n",
              "      <td>gap</td>\n",
              "    </tr>\n",
              "    <tr>\n",
              "      <th>1</th>\n",
              "      <td>10</td>\n",
              "      <td>863</td>\n",
              "      <td>920.0</td>\n",
              "      <td>6.195652</td>\n",
              "      <td>gap</td>\n",
              "    </tr>\n",
              "    <tr>\n",
              "      <th>2</th>\n",
              "      <td>50</td>\n",
              "      <td>4946</td>\n",
              "      <td>4946.0</td>\n",
              "      <td>0.000000</td>\n",
              "      <td>gap</td>\n",
              "    </tr>\n",
              "    <tr>\n",
              "      <th>3</th>\n",
              "      <td>50</td>\n",
              "      <td>3635</td>\n",
              "      <td>3668.0</td>\n",
              "      <td>0.899673</td>\n",
              "      <td>gap</td>\n",
              "    </tr>\n",
              "    <tr>\n",
              "      <th>4</th>\n",
              "      <td>50</td>\n",
              "      <td>4658</td>\n",
              "      <td>4692.0</td>\n",
              "      <td>0.724638</td>\n",
              "      <td>gap</td>\n",
              "    </tr>\n",
              "    <tr>\n",
              "      <th>...</th>\n",
              "      <td>...</td>\n",
              "      <td>...</td>\n",
              "      <td>...</td>\n",
              "      <td>...</td>\n",
              "      <td>...</td>\n",
              "    </tr>\n",
              "    <tr>\n",
              "      <th>195</th>\n",
              "      <td>250</td>\n",
              "      <td>21354</td>\n",
              "      <td>21357.0</td>\n",
              "      <td>0.014047</td>\n",
              "      <td>gap</td>\n",
              "    </tr>\n",
              "    <tr>\n",
              "      <th>196</th>\n",
              "      <td>250</td>\n",
              "      <td>19048</td>\n",
              "      <td>19048.0</td>\n",
              "      <td>0.000000</td>\n",
              "      <td>gap</td>\n",
              "    </tr>\n",
              "    <tr>\n",
              "      <th>197</th>\n",
              "      <td>500</td>\n",
              "      <td>30596</td>\n",
              "      <td>30597.0</td>\n",
              "      <td>0.003268</td>\n",
              "      <td>gap</td>\n",
              "    </tr>\n",
              "    <tr>\n",
              "      <th>198</th>\n",
              "      <td>10</td>\n",
              "      <td>467</td>\n",
              "      <td>471.0</td>\n",
              "      <td>0.849257</td>\n",
              "      <td>gap</td>\n",
              "    </tr>\n",
              "    <tr>\n",
              "      <th>199</th>\n",
              "      <td>10</td>\n",
              "      <td>752</td>\n",
              "      <td>752.0</td>\n",
              "      <td>0.000000</td>\n",
              "      <td>gap</td>\n",
              "    </tr>\n",
              "  </tbody>\n",
              "</table>\n",
              "<p>200 rows × 5 columns</p>\n",
              "</div>\n",
              "    <div class=\"colab-df-buttons\">\n",
              "\n",
              "  <div class=\"colab-df-container\">\n",
              "    <button class=\"colab-df-convert\" onclick=\"convertToInteractive('df-141d6e0d-7379-41dc-a776-9613fad38b15')\"\n",
              "            title=\"Convert this dataframe to an interactive table.\"\n",
              "            style=\"display:none;\">\n",
              "\n",
              "  <svg xmlns=\"http://www.w3.org/2000/svg\" height=\"24px\" viewBox=\"0 -960 960 960\">\n",
              "    <path d=\"M120-120v-720h720v720H120Zm60-500h600v-160H180v160Zm220 220h160v-160H400v160Zm0 220h160v-160H400v160ZM180-400h160v-160H180v160Zm440 0h160v-160H620v160ZM180-180h160v-160H180v160Zm440 0h160v-160H620v160Z\"/>\n",
              "  </svg>\n",
              "    </button>\n",
              "\n",
              "  <style>\n",
              "    .colab-df-container {\n",
              "      display:flex;\n",
              "      gap: 12px;\n",
              "    }\n",
              "\n",
              "    .colab-df-convert {\n",
              "      background-color: #E8F0FE;\n",
              "      border: none;\n",
              "      border-radius: 50%;\n",
              "      cursor: pointer;\n",
              "      display: none;\n",
              "      fill: #1967D2;\n",
              "      height: 32px;\n",
              "      padding: 0 0 0 0;\n",
              "      width: 32px;\n",
              "    }\n",
              "\n",
              "    .colab-df-convert:hover {\n",
              "      background-color: #E2EBFA;\n",
              "      box-shadow: 0px 1px 2px rgba(60, 64, 67, 0.3), 0px 1px 3px 1px rgba(60, 64, 67, 0.15);\n",
              "      fill: #174EA6;\n",
              "    }\n",
              "\n",
              "    .colab-df-buttons div {\n",
              "      margin-bottom: 4px;\n",
              "    }\n",
              "\n",
              "    [theme=dark] .colab-df-convert {\n",
              "      background-color: #3B4455;\n",
              "      fill: #D2E3FC;\n",
              "    }\n",
              "\n",
              "    [theme=dark] .colab-df-convert:hover {\n",
              "      background-color: #434B5C;\n",
              "      box-shadow: 0px 1px 3px 1px rgba(0, 0, 0, 0.15);\n",
              "      filter: drop-shadow(0px 1px 2px rgba(0, 0, 0, 0.3));\n",
              "      fill: #FFFFFF;\n",
              "    }\n",
              "  </style>\n",
              "\n",
              "    <script>\n",
              "      const buttonEl =\n",
              "        document.querySelector('#df-141d6e0d-7379-41dc-a776-9613fad38b15 button.colab-df-convert');\n",
              "      buttonEl.style.display =\n",
              "        google.colab.kernel.accessAllowed ? 'block' : 'none';\n",
              "\n",
              "      async function convertToInteractive(key) {\n",
              "        const element = document.querySelector('#df-141d6e0d-7379-41dc-a776-9613fad38b15');\n",
              "        const dataTable =\n",
              "          await google.colab.kernel.invokeFunction('convertToInteractive',\n",
              "                                                    [key], {});\n",
              "        if (!dataTable) return;\n",
              "\n",
              "        const docLinkHtml = 'Like what you see? Visit the ' +\n",
              "          '<a target=\"_blank\" href=https://colab.research.google.com/notebooks/data_table.ipynb>data table notebook</a>'\n",
              "          + ' to learn more about interactive tables.';\n",
              "        element.innerHTML = '';\n",
              "        dataTable['output_type'] = 'display_data';\n",
              "        await google.colab.output.renderOutput(dataTable, element);\n",
              "        const docLink = document.createElement('div');\n",
              "        docLink.innerHTML = docLinkHtml;\n",
              "        element.appendChild(docLink);\n",
              "      }\n",
              "    </script>\n",
              "  </div>\n",
              "\n",
              "\n",
              "<div id=\"df-32c4a0f0-48e3-441c-81c4-6533858d3906\">\n",
              "  <button class=\"colab-df-quickchart\" onclick=\"quickchart('df-32c4a0f0-48e3-441c-81c4-6533858d3906')\"\n",
              "            title=\"Suggest charts\"\n",
              "            style=\"display:none;\">\n",
              "\n",
              "<svg xmlns=\"http://www.w3.org/2000/svg\" height=\"24px\"viewBox=\"0 0 24 24\"\n",
              "     width=\"24px\">\n",
              "    <g>\n",
              "        <path d=\"M19 3H5c-1.1 0-2 .9-2 2v14c0 1.1.9 2 2 2h14c1.1 0 2-.9 2-2V5c0-1.1-.9-2-2-2zM9 17H7v-7h2v7zm4 0h-2V7h2v10zm4 0h-2v-4h2v4z\"/>\n",
              "    </g>\n",
              "</svg>\n",
              "  </button>\n",
              "\n",
              "<style>\n",
              "  .colab-df-quickchart {\n",
              "      --bg-color: #E8F0FE;\n",
              "      --fill-color: #1967D2;\n",
              "      --hover-bg-color: #E2EBFA;\n",
              "      --hover-fill-color: #174EA6;\n",
              "      --disabled-fill-color: #AAA;\n",
              "      --disabled-bg-color: #DDD;\n",
              "  }\n",
              "\n",
              "  [theme=dark] .colab-df-quickchart {\n",
              "      --bg-color: #3B4455;\n",
              "      --fill-color: #D2E3FC;\n",
              "      --hover-bg-color: #434B5C;\n",
              "      --hover-fill-color: #FFFFFF;\n",
              "      --disabled-bg-color: #3B4455;\n",
              "      --disabled-fill-color: #666;\n",
              "  }\n",
              "\n",
              "  .colab-df-quickchart {\n",
              "    background-color: var(--bg-color);\n",
              "    border: none;\n",
              "    border-radius: 50%;\n",
              "    cursor: pointer;\n",
              "    display: none;\n",
              "    fill: var(--fill-color);\n",
              "    height: 32px;\n",
              "    padding: 0;\n",
              "    width: 32px;\n",
              "  }\n",
              "\n",
              "  .colab-df-quickchart:hover {\n",
              "    background-color: var(--hover-bg-color);\n",
              "    box-shadow: 0 1px 2px rgba(60, 64, 67, 0.3), 0 1px 3px 1px rgba(60, 64, 67, 0.15);\n",
              "    fill: var(--button-hover-fill-color);\n",
              "  }\n",
              "\n",
              "  .colab-df-quickchart-complete:disabled,\n",
              "  .colab-df-quickchart-complete:disabled:hover {\n",
              "    background-color: var(--disabled-bg-color);\n",
              "    fill: var(--disabled-fill-color);\n",
              "    box-shadow: none;\n",
              "  }\n",
              "\n",
              "  .colab-df-spinner {\n",
              "    border: 2px solid var(--fill-color);\n",
              "    border-color: transparent;\n",
              "    border-bottom-color: var(--fill-color);\n",
              "    animation:\n",
              "      spin 1s steps(1) infinite;\n",
              "  }\n",
              "\n",
              "  @keyframes spin {\n",
              "    0% {\n",
              "      border-color: transparent;\n",
              "      border-bottom-color: var(--fill-color);\n",
              "      border-left-color: var(--fill-color);\n",
              "    }\n",
              "    20% {\n",
              "      border-color: transparent;\n",
              "      border-left-color: var(--fill-color);\n",
              "      border-top-color: var(--fill-color);\n",
              "    }\n",
              "    30% {\n",
              "      border-color: transparent;\n",
              "      border-left-color: var(--fill-color);\n",
              "      border-top-color: var(--fill-color);\n",
              "      border-right-color: var(--fill-color);\n",
              "    }\n",
              "    40% {\n",
              "      border-color: transparent;\n",
              "      border-right-color: var(--fill-color);\n",
              "      border-top-color: var(--fill-color);\n",
              "    }\n",
              "    60% {\n",
              "      border-color: transparent;\n",
              "      border-right-color: var(--fill-color);\n",
              "    }\n",
              "    80% {\n",
              "      border-color: transparent;\n",
              "      border-right-color: var(--fill-color);\n",
              "      border-bottom-color: var(--fill-color);\n",
              "    }\n",
              "    90% {\n",
              "      border-color: transparent;\n",
              "      border-bottom-color: var(--fill-color);\n",
              "    }\n",
              "  }\n",
              "</style>\n",
              "\n",
              "  <script>\n",
              "    async function quickchart(key) {\n",
              "      const quickchartButtonEl =\n",
              "        document.querySelector('#' + key + ' button');\n",
              "      quickchartButtonEl.disabled = true;  // To prevent multiple clicks.\n",
              "      quickchartButtonEl.classList.add('colab-df-spinner');\n",
              "      try {\n",
              "        const charts = await google.colab.kernel.invokeFunction(\n",
              "            'suggestCharts', [key], {});\n",
              "      } catch (error) {\n",
              "        console.error('Error during call to suggestCharts:', error);\n",
              "      }\n",
              "      quickchartButtonEl.classList.remove('colab-df-spinner');\n",
              "      quickchartButtonEl.classList.add('colab-df-quickchart-complete');\n",
              "    }\n",
              "    (() => {\n",
              "      let quickchartButtonEl =\n",
              "        document.querySelector('#df-32c4a0f0-48e3-441c-81c4-6533858d3906 button');\n",
              "      quickchartButtonEl.style.display =\n",
              "        google.colab.kernel.accessAllowed ? 'block' : 'none';\n",
              "    })();\n",
              "  </script>\n",
              "</div>\n",
              "\n",
              "  <div id=\"id_6f06df4f-848d-482f-a3c8-27c3a0591dd0\">\n",
              "    <style>\n",
              "      .colab-df-generate {\n",
              "        background-color: #E8F0FE;\n",
              "        border: none;\n",
              "        border-radius: 50%;\n",
              "        cursor: pointer;\n",
              "        display: none;\n",
              "        fill: #1967D2;\n",
              "        height: 32px;\n",
              "        padding: 0 0 0 0;\n",
              "        width: 32px;\n",
              "      }\n",
              "\n",
              "      .colab-df-generate:hover {\n",
              "        background-color: #E2EBFA;\n",
              "        box-shadow: 0px 1px 2px rgba(60, 64, 67, 0.3), 0px 1px 3px 1px rgba(60, 64, 67, 0.15);\n",
              "        fill: #174EA6;\n",
              "      }\n",
              "\n",
              "      [theme=dark] .colab-df-generate {\n",
              "        background-color: #3B4455;\n",
              "        fill: #D2E3FC;\n",
              "      }\n",
              "\n",
              "      [theme=dark] .colab-df-generate:hover {\n",
              "        background-color: #434B5C;\n",
              "        box-shadow: 0px 1px 3px 1px rgba(0, 0, 0, 0.15);\n",
              "        filter: drop-shadow(0px 1px 2px rgba(0, 0, 0, 0.3));\n",
              "        fill: #FFFFFF;\n",
              "      }\n",
              "    </style>\n",
              "    <button class=\"colab-df-generate\" onclick=\"generateWithVariable('df')\"\n",
              "            title=\"Generate code using this dataframe.\"\n",
              "            style=\"display:none;\">\n",
              "\n",
              "  <svg xmlns=\"http://www.w3.org/2000/svg\" height=\"24px\"viewBox=\"0 0 24 24\"\n",
              "       width=\"24px\">\n",
              "    <path d=\"M7,19H8.4L18.45,9,17,7.55,7,17.6ZM5,21V16.75L18.45,3.32a2,2,0,0,1,2.83,0l1.4,1.43a1.91,1.91,0,0,1,.58,1.4,1.91,1.91,0,0,1-.58,1.4L9.25,21ZM18.45,9,17,7.55Zm-12,3A5.31,5.31,0,0,0,4.9,8.1,5.31,5.31,0,0,0,1,6.5,5.31,5.31,0,0,0,4.9,4.9,5.31,5.31,0,0,0,6.5,1,5.31,5.31,0,0,0,8.1,4.9,5.31,5.31,0,0,0,12,6.5,5.46,5.46,0,0,0,6.5,12Z\"/>\n",
              "  </svg>\n",
              "    </button>\n",
              "    <script>\n",
              "      (() => {\n",
              "      const buttonEl =\n",
              "        document.querySelector('#id_6f06df4f-848d-482f-a3c8-27c3a0591dd0 button.colab-df-generate');\n",
              "      buttonEl.style.display =\n",
              "        google.colab.kernel.accessAllowed ? 'block' : 'none';\n",
              "\n",
              "      buttonEl.onclick = () => {\n",
              "        google.colab.notebook.generateWithVariable('df');\n",
              "      }\n",
              "      })();\n",
              "    </script>\n",
              "  </div>\n",
              "\n",
              "    </div>\n",
              "  </div>\n"
            ],
            "application/vnd.google.colaboratory.intrinsic+json": {
              "type": "dataframe",
              "variable_name": "df",
              "summary": "{\n  \"name\": \"df\",\n  \"rows\": 200,\n  \"fields\": [\n    {\n      \"column\": \"n_items\",\n      \"properties\": {\n        \"dtype\": \"number\",\n        \"std\": 188,\n        \"min\": 10,\n        \"max\": 500,\n        \"num_unique_values\": 5,\n        \"samples\": [\n          10,\n          100,\n          50\n        ],\n        \"semantic_type\": \"\",\n        \"description\": \"\"\n      }\n    },\n    {\n      \"column\": \"total_value\",\n      \"properties\": {\n        \"dtype\": \"number\",\n        \"std\": 16558,\n        \"min\": 352,\n        \"max\": 54341,\n        \"num_unique_values\": 200,\n        \"samples\": [\n          4148,\n          24281,\n          16810\n        ],\n        \"semantic_type\": \"\",\n        \"description\": \"\"\n      }\n    },\n    {\n      \"column\": \"optimal_value\",\n      \"properties\": {\n        \"dtype\": \"number\",\n        \"std\": 16559.05627785111,\n        \"min\": 352.0,\n        \"max\": 54342.0,\n        \"num_unique_values\": 198,\n        \"samples\": [\n          830.0,\n          4468.0,\n          657.0\n        ],\n        \"semantic_type\": \"\",\n        \"description\": \"\"\n      }\n    },\n    {\n      \"column\": \"gap\",\n      \"properties\": {\n        \"dtype\": \"number\",\n        \"std\": 1.8088047100522007,\n        \"min\": 0.0,\n        \"max\": 15.520282186948853,\n        \"num_unique_values\": 151,\n        \"samples\": [\n          0.1271842512718425,\n          0.06387855559313117,\n          0.11703803736214269\n        ],\n        \"semantic_type\": \"\",\n        \"description\": \"\"\n      }\n    },\n    {\n      \"column\": \"name\",\n      \"properties\": {\n        \"dtype\": \"category\",\n        \"num_unique_values\": 1,\n        \"samples\": [\n          \"gap\"\n        ],\n        \"semantic_type\": \"\",\n        \"description\": \"\"\n      }\n    }\n  ]\n}"
            }
          },
          "metadata": {},
          "execution_count": 7
        }
      ]
    },
    {
      "cell_type": "markdown",
      "source": [
        "veamos gráficamente las diferencias"
      ],
      "metadata": {
        "id": "vFqEs6Wxptrj"
      }
    },
    {
      "cell_type": "code",
      "source": [
        "import plotly.express as px\n",
        "import plotly.graph_objects as go\n",
        "\n",
        "fig = go.Figure()\n",
        "\n",
        "legend_order = df['n_items'].unique().tolist()\n",
        "legend_order = sorted(legend_order)\n",
        "\n",
        "# Create a strip plot\n",
        "strip = px.strip(df,\n",
        "         x='name',\n",
        "         y='gap',\n",
        "         color='n_items',\n",
        "         category_orders={'n_items': legend_order},\n",
        "         stripmode='overlay')\n",
        "\n",
        "fig.add_trace(go.Box(x=df['name'],\n",
        "                     y=df['gap'],\n",
        "                     fillcolor='rgba(128, 128, 128, 0.2)',  # Grey color with transparency\n",
        "                      line=dict(color='rgba(128, 128, 128, 0.8)'),  # Grey color with different opacity for the border\n",
        "                     showlegend=False))\n",
        "for i in range(len(strip.data)):\n",
        "  fig.add_trace(strip.data[i])\n",
        "\n",
        "fig.update_layout(autosize=False,\n",
        "                  title = \"GAP heurístico vs modelo exacto para cada tamaño de instancia\",\n",
        "                  width=600,\n",
        "                  height=600,\n",
        "                  legend={'traceorder':'normal'})\n",
        "\n",
        "fig.show()"
      ],
      "metadata": {
        "colab": {
          "base_uri": "https://localhost:8080/",
          "height": 617
        },
        "id": "zgZUxFkNCyvL",
        "outputId": "40b5f044-b81d-4395-cd73-900fdfa2728b"
      },
      "execution_count": 14,
      "outputs": [
        {
          "output_type": "display_data",
          "data": {
            "text/html": [
              "<html>\n",
              "<head><meta charset=\"utf-8\" /></head>\n",
              "<body>\n",
              "    <div>            <script src=\"https://cdnjs.cloudflare.com/ajax/libs/mathjax/2.7.5/MathJax.js?config=TeX-AMS-MML_SVG\"></script><script type=\"text/javascript\">if (window.MathJax && window.MathJax.Hub && window.MathJax.Hub.Config) {window.MathJax.Hub.Config({SVG: {font: \"STIX-Web\"}});}</script>                <script type=\"text/javascript\">window.PlotlyConfig = {MathJaxConfig: 'local'};</script>\n",
              "        <script charset=\"utf-8\" src=\"https://cdn.plot.ly/plotly-2.35.2.min.js\"></script>                <div id=\"4da703c6-cf08-45c4-a9f2-b333367a4213\" class=\"plotly-graph-div\" style=\"height:600px; width:600px;\"></div>            <script type=\"text/javascript\">                                    window.PLOTLYENV=window.PLOTLYENV || {};                                    if (document.getElementById(\"4da703c6-cf08-45c4-a9f2-b333367a4213\")) {                    Plotly.newPlot(                        \"4da703c6-cf08-45c4-a9f2-b333367a4213\",                        [{\"fillcolor\":\"rgba(128, 128, 128, 0.2)\",\"line\":{\"color\":\"rgba(128, 128, 128, 0.8)\"},\"showlegend\":false,\"x\":[\"gap\",\"gap\",\"gap\",\"gap\",\"gap\",\"gap\",\"gap\",\"gap\",\"gap\",\"gap\",\"gap\",\"gap\",\"gap\",\"gap\",\"gap\",\"gap\",\"gap\",\"gap\",\"gap\",\"gap\",\"gap\",\"gap\",\"gap\",\"gap\",\"gap\",\"gap\",\"gap\",\"gap\",\"gap\",\"gap\",\"gap\",\"gap\",\"gap\",\"gap\",\"gap\",\"gap\",\"gap\",\"gap\",\"gap\",\"gap\",\"gap\",\"gap\",\"gap\",\"gap\",\"gap\",\"gap\",\"gap\",\"gap\",\"gap\",\"gap\",\"gap\",\"gap\",\"gap\",\"gap\",\"gap\",\"gap\",\"gap\",\"gap\",\"gap\",\"gap\",\"gap\",\"gap\",\"gap\",\"gap\",\"gap\",\"gap\",\"gap\",\"gap\",\"gap\",\"gap\",\"gap\",\"gap\",\"gap\",\"gap\",\"gap\",\"gap\",\"gap\",\"gap\",\"gap\",\"gap\",\"gap\",\"gap\",\"gap\",\"gap\",\"gap\",\"gap\",\"gap\",\"gap\",\"gap\",\"gap\",\"gap\",\"gap\",\"gap\",\"gap\",\"gap\",\"gap\",\"gap\",\"gap\",\"gap\",\"gap\",\"gap\",\"gap\",\"gap\",\"gap\",\"gap\",\"gap\",\"gap\",\"gap\",\"gap\",\"gap\",\"gap\",\"gap\",\"gap\",\"gap\",\"gap\",\"gap\",\"gap\",\"gap\",\"gap\",\"gap\",\"gap\",\"gap\",\"gap\",\"gap\",\"gap\",\"gap\",\"gap\",\"gap\",\"gap\",\"gap\",\"gap\",\"gap\",\"gap\",\"gap\",\"gap\",\"gap\",\"gap\",\"gap\",\"gap\",\"gap\",\"gap\",\"gap\",\"gap\",\"gap\",\"gap\",\"gap\",\"gap\",\"gap\",\"gap\",\"gap\",\"gap\",\"gap\",\"gap\",\"gap\",\"gap\",\"gap\",\"gap\",\"gap\",\"gap\",\"gap\",\"gap\",\"gap\",\"gap\",\"gap\",\"gap\",\"gap\",\"gap\",\"gap\",\"gap\",\"gap\",\"gap\",\"gap\",\"gap\",\"gap\",\"gap\",\"gap\",\"gap\",\"gap\",\"gap\",\"gap\",\"gap\",\"gap\",\"gap\",\"gap\",\"gap\",\"gap\",\"gap\",\"gap\",\"gap\",\"gap\",\"gap\",\"gap\",\"gap\",\"gap\",\"gap\",\"gap\",\"gap\",\"gap\",\"gap\",\"gap\"],\"y\":[0.17317612380250552,6.195652173913044,0.0,0.8996728462377318,0.7246376811594203,0.17049119896783707,2.0408163265306123,0.07026610453783036,0.17311520817103782,0.3984785364970114,0.12244273251364726,0.8459114280975286,1.232207350754196,3.6764705882352944,0.16693224068593976,0.008236214635753409,0.0,0.0,0.2153110047846673,0.07867820613690008,0.06387855559313117,0.09403546480386889,0.06088088340261158,0.13462419798350136,0.0,0.04830917874396135,0.07357327500497117,0.6665079742918353,0.0,0.04822634229986068,0.041624546589760364,0.0435508456122523,0.031189270890813563,0.4004214963119073,0.12622881842175726,0.0,0.0,0.7904608788853162,0.24863252113376427,0.018076644974692697,0.0,0.0,0.5002886280546469,0.6390505534634258,0.0,0.0476500978080955,4.679802955665025,0.5437055625261397,0.044904297715493854,0.0,0.5703422053231939,0.056651205608469354,0.0,0.013227163302558133,0.49794327776586766,0.31945692323054437,0.0,0.02117970983797522,0.0,1.1477230655312847,0.09824389045806213,0.09844365272829551,0.0,0.007676364473785215,0.11476216127596786,0.0,0.21313259568293128,0.0041111659266568,0.0,0.0,0.0,3.5450516986706058,0.0,0.15464642204414453,0.04043126684636119,0.01347060521504859,0.3714020427112349,0.0,0.29708222811671087,0.0,0.0018401972691472525,0.12238540275923454,1.6769638128861428,0.0,0.5153808986954421,0.06463481330482772,0.0,0.0,0.0,0.0,0.16317911307628077,11.944444444444445,0.0,0.010193679918450561,0.7325082091437232,0.4320691310609697,0.0,0.7513661202185792,0.02457002457002457,0.1328609388839681,0.06163512008907269,0.24621878297572986,0.11922334506642444,0.43371676409579485,0.1271842512718425,0.1467889908319313,0.007802543629223126,0.017687636342196805,2.8391167192429023,0.04541784416633024,0.11703803736214269,0.0,4.021739130434782,0.017737135649671863,1.1350737797956867,0.693822739480752,0.09329446064139942,0.07412270484338931,0.0,0.09398496240601503,0.09578544061302681,3.319502074688797,0.04216839244718941,2.059732234809475,0.16484120297446794,0.0,0.07404555282409739,0.054846429996011165,0.2487424686308109,0.1597444089456869,2.883506343713956,0.09712824165506523,0.12529365700861395,0.1230736301369863,0.0,0.0,0.0,0.0,0.0047787441460384215,0.09340207726219832,15.520282186948853,2.2508038585209005,0.05781850770431615,0.004540501271340356,0.0,0.09812579727210284,0.08668849932575612,0.023487042981288658,0.9360034828036962,0.0,0.19964202120335947,0.10127371168153314,0.03466204506065858,0.10164897221594758,0.2188183807439825,0.09006980409817608,0.0,0.08882966910948256,0.6139004604259201,0.23710729104919975,1.7290518715561465,0.0,0.608424336973479,0.12390392680137247,0.0,0.5318625036934895,0.06551141166525781,0.2612671456564337,0.05408328826392645,0.0,0.43125980135912184,0.6488450558006749,0.02872944049414638,0.10061261905828214,0.0,0.0584487696533988,0.09127557617707462,0.0,0.015287403179779861,11.937377690802348,0.0,5.14018691588785,0.0,0.0,0.21933621933621933,0.5853766291142036,0.11445467118126758,0.10424629925637639,0.026561835954101144,0.0,0.8302318923561409,0.12150668286755771,0.0020679529333912363,0.286368843069874,0.5988023952095809,0.014046916701783959,0.0,0.0032682942772167206,0.8492569002123143,0.0],\"type\":\"box\"},{\"alignmentgroup\":\"True\",\"boxpoints\":\"all\",\"fillcolor\":\"rgba(255,255,255,0)\",\"hoveron\":\"points\",\"hovertemplate\":\"n_items=10\\u003cbr\\u003ename=%{x}\\u003cbr\\u003egap=%{y}\\u003cextra\\u003e\\u003c\\u002fextra\\u003e\",\"legendgroup\":\"10\",\"line\":{\"color\":\"rgba(255,255,255,0)\"},\"marker\":{\"color\":\"#636efa\"},\"name\":\"10\",\"offsetgroup\":\"10\",\"orientation\":\"v\",\"pointpos\":0,\"showlegend\":true,\"x\":[\"gap\",\"gap\",\"gap\",\"gap\",\"gap\",\"gap\",\"gap\",\"gap\",\"gap\",\"gap\",\"gap\",\"gap\",\"gap\",\"gap\",\"gap\",\"gap\",\"gap\",\"gap\",\"gap\",\"gap\",\"gap\",\"gap\",\"gap\",\"gap\",\"gap\",\"gap\",\"gap\",\"gap\",\"gap\",\"gap\",\"gap\",\"gap\",\"gap\",\"gap\",\"gap\",\"gap\",\"gap\",\"gap\",\"gap\"],\"x0\":\" \",\"xaxis\":\"x\",\"y\":[6.195652173913044,2.0408163265306123,3.6764705882352944,0.0,0.0,0.0,0.0,0.0,4.679802955665025,0.0,0.0,0.0,0.0,3.5450516986706058,0.0,0.0,0.0,11.944444444444445,0.0,2.8391167192429023,4.021739130434782,1.1350737797956867,3.319502074688797,2.059732234809475,2.883506343713956,0.0,0.0,0.0,0.0,15.520282186948853,2.2508038585209005,0.0,0.0,11.937377690802348,5.14018691588785,0.0,0.0,0.8492569002123143,0.0],\"y0\":\" \",\"yaxis\":\"y\",\"type\":\"box\"},{\"alignmentgroup\":\"True\",\"boxpoints\":\"all\",\"fillcolor\":\"rgba(255,255,255,0)\",\"hoveron\":\"points\",\"hovertemplate\":\"n_items=50\\u003cbr\\u003ename=%{x}\\u003cbr\\u003egap=%{y}\\u003cextra\\u003e\\u003c\\u002fextra\\u003e\",\"legendgroup\":\"50\",\"line\":{\"color\":\"rgba(255,255,255,0)\"},\"marker\":{\"color\":\"#EF553B\"},\"name\":\"50\",\"offsetgroup\":\"50\",\"orientation\":\"v\",\"pointpos\":0,\"showlegend\":true,\"x\":[\"gap\",\"gap\",\"gap\",\"gap\",\"gap\",\"gap\",\"gap\",\"gap\",\"gap\",\"gap\",\"gap\",\"gap\",\"gap\",\"gap\",\"gap\",\"gap\",\"gap\",\"gap\",\"gap\",\"gap\",\"gap\",\"gap\",\"gap\",\"gap\",\"gap\",\"gap\",\"gap\",\"gap\",\"gap\",\"gap\",\"gap\",\"gap\",\"gap\",\"gap\",\"gap\",\"gap\",\"gap\",\"gap\",\"gap\",\"gap\",\"gap\",\"gap\"],\"x0\":\" \",\"xaxis\":\"x\",\"y\":[0.0,0.8996728462377318,0.7246376811594203,0.3984785364970114,1.232207350754196,0.2153110047846673,0.6665079742918353,0.4004214963119073,0.0,0.5002886280546469,0.5437055625261397,0.0,0.49794327776586766,1.1477230655312847,0.3714020427112349,0.0,1.6769638128861428,0.0,0.7325082091437232,0.4320691310609697,0.7513661202185792,0.02457002457002457,0.24621878297572986,0.43371676409579485,0.693822739480752,0.0,0.0,0.1597444089456869,0.0,0.9360034828036962,0.0,0.08882966910948256,0.6139004604259201,0.23710729104919975,1.7290518715561465,0.0,0.2612671456564337,0.05408328826392645,0.0,0.0,0.8302318923561409,0.5988023952095809],\"y0\":\" \",\"yaxis\":\"y\",\"type\":\"box\"},{\"alignmentgroup\":\"True\",\"boxpoints\":\"all\",\"fillcolor\":\"rgba(255,255,255,0)\",\"hoveron\":\"points\",\"hovertemplate\":\"n_items=100\\u003cbr\\u003ename=%{x}\\u003cbr\\u003egap=%{y}\\u003cextra\\u003e\\u003c\\u002fextra\\u003e\",\"legendgroup\":\"100\",\"line\":{\"color\":\"rgba(255,255,255,0)\"},\"marker\":{\"color\":\"#00cc96\"},\"name\":\"100\",\"offsetgroup\":\"100\",\"orientation\":\"v\",\"pointpos\":0,\"showlegend\":true,\"x\":[\"gap\",\"gap\",\"gap\",\"gap\",\"gap\",\"gap\",\"gap\",\"gap\",\"gap\",\"gap\",\"gap\",\"gap\",\"gap\",\"gap\",\"gap\",\"gap\",\"gap\",\"gap\",\"gap\",\"gap\",\"gap\",\"gap\",\"gap\",\"gap\",\"gap\",\"gap\",\"gap\",\"gap\",\"gap\",\"gap\",\"gap\",\"gap\"],\"x0\":\" \",\"xaxis\":\"x\",\"y\":[0.17311520817103782,0.8459114280975286,0.09403546480386889,0.0,0.0,0.7904608788853162,0.24863252113376427,0.0,0.6390505534634258,0.5703422053231939,0.31945692323054437,0.09824389045806213,0.0,0.0,0.29708222811671087,0.12238540275923454,0.5153808986954421,0.0,0.16317911307628077,0.0,0.1328609388839681,0.1467889908319313,0.09398496240601503,0.09812579727210284,0.10164897221594758,0.608424336973479,0.12390392680137247,0.5318625036934895,0.43125980135912184,0.6488450558006749,0.5853766291142036,0.12150668286755771],\"y0\":\" \",\"yaxis\":\"y\",\"type\":\"box\"},{\"alignmentgroup\":\"True\",\"boxpoints\":\"all\",\"fillcolor\":\"rgba(255,255,255,0)\",\"hoveron\":\"points\",\"hovertemplate\":\"n_items=250\\u003cbr\\u003ename=%{x}\\u003cbr\\u003egap=%{y}\\u003cextra\\u003e\\u003c\\u002fextra\\u003e\",\"legendgroup\":\"250\",\"line\":{\"color\":\"rgba(255,255,255,0)\"},\"marker\":{\"color\":\"#ab63fa\"},\"name\":\"250\",\"offsetgroup\":\"250\",\"orientation\":\"v\",\"pointpos\":0,\"showlegend\":true,\"x\":[\"gap\",\"gap\",\"gap\",\"gap\",\"gap\",\"gap\",\"gap\",\"gap\",\"gap\",\"gap\",\"gap\",\"gap\",\"gap\",\"gap\",\"gap\",\"gap\",\"gap\",\"gap\",\"gap\",\"gap\",\"gap\",\"gap\",\"gap\",\"gap\",\"gap\",\"gap\",\"gap\",\"gap\",\"gap\",\"gap\",\"gap\",\"gap\",\"gap\",\"gap\",\"gap\",\"gap\",\"gap\",\"gap\",\"gap\"],\"x0\":\" \",\"xaxis\":\"x\",\"y\":[0.17317612380250552,0.17049119896783707,0.12244273251364726,0.16693224068593976,0.008236214635753409,0.06387855559313117,0.04822634229986068,0.041624546589760364,0.12622881842175726,0.02117970983797522,0.21313259568293128,0.0041111659266568,0.15464642204414453,0.04043126684636119,0.06463481330482772,0.010193679918450561,0.1271842512718425,0.04541784416633024,0.11703803736214269,0.0,0.09329446064139942,0.09578544061302681,0.2487424686308109,0.12529365700861395,0.1230736301369863,0.0047787441460384215,0.09340207726219832,0.004540501271340356,0.08668849932575612,0.023487042981288658,0.19964202120335947,0.2188183807439825,0.0584487696533988,0.015287403179779861,0.21933621933621933,0.11445467118126758,0.286368843069874,0.014046916701783959,0.0],\"y0\":\" \",\"yaxis\":\"y\",\"type\":\"box\"},{\"alignmentgroup\":\"True\",\"boxpoints\":\"all\",\"fillcolor\":\"rgba(255,255,255,0)\",\"hoveron\":\"points\",\"hovertemplate\":\"n_items=500\\u003cbr\\u003ename=%{x}\\u003cbr\\u003egap=%{y}\\u003cextra\\u003e\\u003c\\u002fextra\\u003e\",\"legendgroup\":\"500\",\"line\":{\"color\":\"rgba(255,255,255,0)\"},\"marker\":{\"color\":\"#FFA15A\"},\"name\":\"500\",\"offsetgroup\":\"500\",\"orientation\":\"v\",\"pointpos\":0,\"showlegend\":true,\"x\":[\"gap\",\"gap\",\"gap\",\"gap\",\"gap\",\"gap\",\"gap\",\"gap\",\"gap\",\"gap\",\"gap\",\"gap\",\"gap\",\"gap\",\"gap\",\"gap\",\"gap\",\"gap\",\"gap\",\"gap\",\"gap\",\"gap\",\"gap\",\"gap\",\"gap\",\"gap\",\"gap\",\"gap\",\"gap\",\"gap\",\"gap\",\"gap\",\"gap\",\"gap\",\"gap\",\"gap\",\"gap\",\"gap\",\"gap\",\"gap\",\"gap\",\"gap\",\"gap\",\"gap\",\"gap\",\"gap\",\"gap\",\"gap\"],\"x0\":\" \",\"xaxis\":\"x\",\"y\":[0.07026610453783036,0.07867820613690008,0.06088088340261158,0.13462419798350136,0.04830917874396135,0.07357327500497117,0.0435508456122523,0.031189270890813563,0.018076644974692697,0.0476500978080955,0.044904297715493854,0.0,0.056651205608469354,0.013227163302558133,0.09844365272829551,0.007676364473785215,0.11476216127596786,0.0,0.0,0.01347060521504859,0.0018401972691472525,0.0,0.06163512008907269,0.11922334506642444,0.007802543629223126,0.017687636342196805,0.017737135649671863,0.07412270484338931,0.04216839244718941,0.16484120297446794,0.07404555282409739,0.054846429996011165,0.09712824165506523,0.05781850770431615,0.0,0.10127371168153314,0.03466204506065858,0.09006980409817608,0.0,0.06551141166525781,0.02872944049414638,0.10061261905828214,0.09127557617707462,0.0,0.10424629925637639,0.026561835954101144,0.0020679529333912363,0.0032682942772167206],\"y0\":\" \",\"yaxis\":\"y\",\"type\":\"box\"}],                        {\"template\":{\"data\":{\"histogram2dcontour\":[{\"type\":\"histogram2dcontour\",\"colorbar\":{\"outlinewidth\":0,\"ticks\":\"\"},\"colorscale\":[[0.0,\"#0d0887\"],[0.1111111111111111,\"#46039f\"],[0.2222222222222222,\"#7201a8\"],[0.3333333333333333,\"#9c179e\"],[0.4444444444444444,\"#bd3786\"],[0.5555555555555556,\"#d8576b\"],[0.6666666666666666,\"#ed7953\"],[0.7777777777777778,\"#fb9f3a\"],[0.8888888888888888,\"#fdca26\"],[1.0,\"#f0f921\"]]}],\"choropleth\":[{\"type\":\"choropleth\",\"colorbar\":{\"outlinewidth\":0,\"ticks\":\"\"}}],\"histogram2d\":[{\"type\":\"histogram2d\",\"colorbar\":{\"outlinewidth\":0,\"ticks\":\"\"},\"colorscale\":[[0.0,\"#0d0887\"],[0.1111111111111111,\"#46039f\"],[0.2222222222222222,\"#7201a8\"],[0.3333333333333333,\"#9c179e\"],[0.4444444444444444,\"#bd3786\"],[0.5555555555555556,\"#d8576b\"],[0.6666666666666666,\"#ed7953\"],[0.7777777777777778,\"#fb9f3a\"],[0.8888888888888888,\"#fdca26\"],[1.0,\"#f0f921\"]]}],\"heatmap\":[{\"type\":\"heatmap\",\"colorbar\":{\"outlinewidth\":0,\"ticks\":\"\"},\"colorscale\":[[0.0,\"#0d0887\"],[0.1111111111111111,\"#46039f\"],[0.2222222222222222,\"#7201a8\"],[0.3333333333333333,\"#9c179e\"],[0.4444444444444444,\"#bd3786\"],[0.5555555555555556,\"#d8576b\"],[0.6666666666666666,\"#ed7953\"],[0.7777777777777778,\"#fb9f3a\"],[0.8888888888888888,\"#fdca26\"],[1.0,\"#f0f921\"]]}],\"heatmapgl\":[{\"type\":\"heatmapgl\",\"colorbar\":{\"outlinewidth\":0,\"ticks\":\"\"},\"colorscale\":[[0.0,\"#0d0887\"],[0.1111111111111111,\"#46039f\"],[0.2222222222222222,\"#7201a8\"],[0.3333333333333333,\"#9c179e\"],[0.4444444444444444,\"#bd3786\"],[0.5555555555555556,\"#d8576b\"],[0.6666666666666666,\"#ed7953\"],[0.7777777777777778,\"#fb9f3a\"],[0.8888888888888888,\"#fdca26\"],[1.0,\"#f0f921\"]]}],\"contourcarpet\":[{\"type\":\"contourcarpet\",\"colorbar\":{\"outlinewidth\":0,\"ticks\":\"\"}}],\"contour\":[{\"type\":\"contour\",\"colorbar\":{\"outlinewidth\":0,\"ticks\":\"\"},\"colorscale\":[[0.0,\"#0d0887\"],[0.1111111111111111,\"#46039f\"],[0.2222222222222222,\"#7201a8\"],[0.3333333333333333,\"#9c179e\"],[0.4444444444444444,\"#bd3786\"],[0.5555555555555556,\"#d8576b\"],[0.6666666666666666,\"#ed7953\"],[0.7777777777777778,\"#fb9f3a\"],[0.8888888888888888,\"#fdca26\"],[1.0,\"#f0f921\"]]}],\"surface\":[{\"type\":\"surface\",\"colorbar\":{\"outlinewidth\":0,\"ticks\":\"\"},\"colorscale\":[[0.0,\"#0d0887\"],[0.1111111111111111,\"#46039f\"],[0.2222222222222222,\"#7201a8\"],[0.3333333333333333,\"#9c179e\"],[0.4444444444444444,\"#bd3786\"],[0.5555555555555556,\"#d8576b\"],[0.6666666666666666,\"#ed7953\"],[0.7777777777777778,\"#fb9f3a\"],[0.8888888888888888,\"#fdca26\"],[1.0,\"#f0f921\"]]}],\"mesh3d\":[{\"type\":\"mesh3d\",\"colorbar\":{\"outlinewidth\":0,\"ticks\":\"\"}}],\"scatter\":[{\"fillpattern\":{\"fillmode\":\"overlay\",\"size\":10,\"solidity\":0.2},\"type\":\"scatter\"}],\"parcoords\":[{\"type\":\"parcoords\",\"line\":{\"colorbar\":{\"outlinewidth\":0,\"ticks\":\"\"}}}],\"scatterpolargl\":[{\"type\":\"scatterpolargl\",\"marker\":{\"colorbar\":{\"outlinewidth\":0,\"ticks\":\"\"}}}],\"bar\":[{\"error_x\":{\"color\":\"#2a3f5f\"},\"error_y\":{\"color\":\"#2a3f5f\"},\"marker\":{\"line\":{\"color\":\"#E5ECF6\",\"width\":0.5},\"pattern\":{\"fillmode\":\"overlay\",\"size\":10,\"solidity\":0.2}},\"type\":\"bar\"}],\"scattergeo\":[{\"type\":\"scattergeo\",\"marker\":{\"colorbar\":{\"outlinewidth\":0,\"ticks\":\"\"}}}],\"scatterpolar\":[{\"type\":\"scatterpolar\",\"marker\":{\"colorbar\":{\"outlinewidth\":0,\"ticks\":\"\"}}}],\"histogram\":[{\"marker\":{\"pattern\":{\"fillmode\":\"overlay\",\"size\":10,\"solidity\":0.2}},\"type\":\"histogram\"}],\"scattergl\":[{\"type\":\"scattergl\",\"marker\":{\"colorbar\":{\"outlinewidth\":0,\"ticks\":\"\"}}}],\"scatter3d\":[{\"type\":\"scatter3d\",\"line\":{\"colorbar\":{\"outlinewidth\":0,\"ticks\":\"\"}},\"marker\":{\"colorbar\":{\"outlinewidth\":0,\"ticks\":\"\"}}}],\"scattermapbox\":[{\"type\":\"scattermapbox\",\"marker\":{\"colorbar\":{\"outlinewidth\":0,\"ticks\":\"\"}}}],\"scatterternary\":[{\"type\":\"scatterternary\",\"marker\":{\"colorbar\":{\"outlinewidth\":0,\"ticks\":\"\"}}}],\"scattercarpet\":[{\"type\":\"scattercarpet\",\"marker\":{\"colorbar\":{\"outlinewidth\":0,\"ticks\":\"\"}}}],\"carpet\":[{\"aaxis\":{\"endlinecolor\":\"#2a3f5f\",\"gridcolor\":\"white\",\"linecolor\":\"white\",\"minorgridcolor\":\"white\",\"startlinecolor\":\"#2a3f5f\"},\"baxis\":{\"endlinecolor\":\"#2a3f5f\",\"gridcolor\":\"white\",\"linecolor\":\"white\",\"minorgridcolor\":\"white\",\"startlinecolor\":\"#2a3f5f\"},\"type\":\"carpet\"}],\"table\":[{\"cells\":{\"fill\":{\"color\":\"#EBF0F8\"},\"line\":{\"color\":\"white\"}},\"header\":{\"fill\":{\"color\":\"#C8D4E3\"},\"line\":{\"color\":\"white\"}},\"type\":\"table\"}],\"barpolar\":[{\"marker\":{\"line\":{\"color\":\"#E5ECF6\",\"width\":0.5},\"pattern\":{\"fillmode\":\"overlay\",\"size\":10,\"solidity\":0.2}},\"type\":\"barpolar\"}],\"pie\":[{\"automargin\":true,\"type\":\"pie\"}]},\"layout\":{\"autotypenumbers\":\"strict\",\"colorway\":[\"#636efa\",\"#EF553B\",\"#00cc96\",\"#ab63fa\",\"#FFA15A\",\"#19d3f3\",\"#FF6692\",\"#B6E880\",\"#FF97FF\",\"#FECB52\"],\"font\":{\"color\":\"#2a3f5f\"},\"hovermode\":\"closest\",\"hoverlabel\":{\"align\":\"left\"},\"paper_bgcolor\":\"white\",\"plot_bgcolor\":\"#E5ECF6\",\"polar\":{\"bgcolor\":\"#E5ECF6\",\"angularaxis\":{\"gridcolor\":\"white\",\"linecolor\":\"white\",\"ticks\":\"\"},\"radialaxis\":{\"gridcolor\":\"white\",\"linecolor\":\"white\",\"ticks\":\"\"}},\"ternary\":{\"bgcolor\":\"#E5ECF6\",\"aaxis\":{\"gridcolor\":\"white\",\"linecolor\":\"white\",\"ticks\":\"\"},\"baxis\":{\"gridcolor\":\"white\",\"linecolor\":\"white\",\"ticks\":\"\"},\"caxis\":{\"gridcolor\":\"white\",\"linecolor\":\"white\",\"ticks\":\"\"}},\"coloraxis\":{\"colorbar\":{\"outlinewidth\":0,\"ticks\":\"\"}},\"colorscale\":{\"sequential\":[[0.0,\"#0d0887\"],[0.1111111111111111,\"#46039f\"],[0.2222222222222222,\"#7201a8\"],[0.3333333333333333,\"#9c179e\"],[0.4444444444444444,\"#bd3786\"],[0.5555555555555556,\"#d8576b\"],[0.6666666666666666,\"#ed7953\"],[0.7777777777777778,\"#fb9f3a\"],[0.8888888888888888,\"#fdca26\"],[1.0,\"#f0f921\"]],\"sequentialminus\":[[0.0,\"#0d0887\"],[0.1111111111111111,\"#46039f\"],[0.2222222222222222,\"#7201a8\"],[0.3333333333333333,\"#9c179e\"],[0.4444444444444444,\"#bd3786\"],[0.5555555555555556,\"#d8576b\"],[0.6666666666666666,\"#ed7953\"],[0.7777777777777778,\"#fb9f3a\"],[0.8888888888888888,\"#fdca26\"],[1.0,\"#f0f921\"]],\"diverging\":[[0,\"#8e0152\"],[0.1,\"#c51b7d\"],[0.2,\"#de77ae\"],[0.3,\"#f1b6da\"],[0.4,\"#fde0ef\"],[0.5,\"#f7f7f7\"],[0.6,\"#e6f5d0\"],[0.7,\"#b8e186\"],[0.8,\"#7fbc41\"],[0.9,\"#4d9221\"],[1,\"#276419\"]]},\"xaxis\":{\"gridcolor\":\"white\",\"linecolor\":\"white\",\"ticks\":\"\",\"title\":{\"standoff\":15},\"zerolinecolor\":\"white\",\"automargin\":true,\"zerolinewidth\":2},\"yaxis\":{\"gridcolor\":\"white\",\"linecolor\":\"white\",\"ticks\":\"\",\"title\":{\"standoff\":15},\"zerolinecolor\":\"white\",\"automargin\":true,\"zerolinewidth\":2},\"scene\":{\"xaxis\":{\"backgroundcolor\":\"#E5ECF6\",\"gridcolor\":\"white\",\"linecolor\":\"white\",\"showbackground\":true,\"ticks\":\"\",\"zerolinecolor\":\"white\",\"gridwidth\":2},\"yaxis\":{\"backgroundcolor\":\"#E5ECF6\",\"gridcolor\":\"white\",\"linecolor\":\"white\",\"showbackground\":true,\"ticks\":\"\",\"zerolinecolor\":\"white\",\"gridwidth\":2},\"zaxis\":{\"backgroundcolor\":\"#E5ECF6\",\"gridcolor\":\"white\",\"linecolor\":\"white\",\"showbackground\":true,\"ticks\":\"\",\"zerolinecolor\":\"white\",\"gridwidth\":2}},\"shapedefaults\":{\"line\":{\"color\":\"#2a3f5f\"}},\"annotationdefaults\":{\"arrowcolor\":\"#2a3f5f\",\"arrowhead\":0,\"arrowwidth\":1},\"geo\":{\"bgcolor\":\"white\",\"landcolor\":\"#E5ECF6\",\"subunitcolor\":\"white\",\"showland\":true,\"showlakes\":true,\"lakecolor\":\"white\"},\"title\":{\"x\":0.05},\"mapbox\":{\"style\":\"light\"}}},\"legend\":{\"traceorder\":\"normal\"},\"autosize\":false,\"title\":{\"text\":\"GAP heurístico vs modelo exacto para cada tamaño de instancia\"},\"width\":600,\"height\":600},                        {\"responsive\": true}                    ).then(function(){\n",
              "                            \n",
              "var gd = document.getElementById('4da703c6-cf08-45c4-a9f2-b333367a4213');\n",
              "var x = new MutationObserver(function (mutations, observer) {{\n",
              "        var display = window.getComputedStyle(gd).display;\n",
              "        if (!display || display === 'none') {{\n",
              "            console.log([gd, 'removed!']);\n",
              "            Plotly.purge(gd);\n",
              "            observer.disconnect();\n",
              "        }}\n",
              "}});\n",
              "\n",
              "// Listen for the removal of the full notebook cells\n",
              "var notebookContainer = gd.closest('#notebook-container');\n",
              "if (notebookContainer) {{\n",
              "    x.observe(notebookContainer, {childList: true});\n",
              "}}\n",
              "\n",
              "// Listen for the clearing of the current output cell\n",
              "var outputEl = gd.closest('.output');\n",
              "if (outputEl) {{\n",
              "    x.observe(outputEl, {childList: true});\n",
              "}}\n",
              "\n",
              "                        })                };                            </script>        </div>\n",
              "</body>\n",
              "</html>"
            ]
          },
          "metadata": {}
        }
      ]
    },
    {
      "cell_type": "markdown",
      "source": [
        "## <font color='#ff6d33'> **Conclusiones** </font>\n",
        "\n",
        "---\n",
        "**¿Qué es posible concluir de los resultados obeservados?**\n",
        "\n",
        "\n",
        "---\n",
        "\n",
        "\n",
        "\n"
      ],
      "metadata": {
        "id": "7TLgIXXejClh"
      }
    }
  ]
}