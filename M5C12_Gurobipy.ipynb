{
  "nbformat": 4,
  "nbformat_minor": 0,
  "metadata": {
    "colab": {
      "provenance": [],
      "toc_visible": true,
      "authorship_tag": "ABX9TyOJO2Zp/d0sZeIPL3jUb3rG",
      "include_colab_link": true
    },
    "kernelspec": {
      "name": "python3",
      "display_name": "Python 3"
    },
    "language_info": {
      "name": "python"
    }
  },
  "cells": [
    {
      "cell_type": "markdown",
      "metadata": {
        "id": "view-in-github",
        "colab_type": "text"
      },
      "source": [
        "<a href=\"https://colab.research.google.com/github/endorgobio/IntroduccionAnaliticaPrescriptiva/blob/main/M5C12_Gurobipy.ipynb\" target=\"_parent\"><img src=\"https://colab.research.google.com/assets/colab-badge.svg\" alt=\"Open In Colab\"/></a>"
      ]
    },
    {
      "cell_type": "markdown",
      "source": [
        "<p style=\"text-align: center;\">\n",
        "    <img alt=\"banner\" height=\"230px\" width=\"100%\" src=\"https://github.com/endorgobio/IntroduccionAnaliticaPrescriptiva/blob/6cc6029c276aacdf228dcec4796b7b3184cfb8b7/src/header.png?raw=true\" hspace=\"10px\" vspace=\"0px\">\n",
        "</p>"
      ],
      "metadata": {
        "id": "de0mGKwY-Gn3"
      }
    },
    {
      "cell_type": "markdown",
      "source": [
        "# <font color='FD6E72'> **Descripción del problema** </font>\n",
        "\n"
      ],
      "metadata": {
        "id": "9j2M5sQZOUCZ"
      }
    },
    {
      "cell_type": "markdown",
      "source": [
        "\n",
        "\n",
        "Una compañia de alimentos tiene **cinco lineas** que procesan un único tipo de producto. El plan de demanda contiene las ordenes de 10 clientes (en miles de productos) y la utilidad (en millones de pesos) que cada una de ellas genera en cada uno de las lineas\n",
        "\n",
        "\n",
        "|          | Orden 1 | Orden 2 | Orden 3 | Orden 4 | Orden 5 | Orden 6 | Orden 7 | Orden 8 | Orden 9 | Orden 10 |\n",
        "|----------|---------|---------|---------|---------|---------|---------|---------|---------|---------|----------|\n",
        "| Cantidad |   16    |   29    |   24    |   20    |   17    |   30    |   32    |   28    |   20    |    20    |\n",
        "| Utilidad 1 |   73    |   85    |   89    |   73    |   52    |   71    |   102   |   73    |   93    |    79    |\n",
        "| Utilidad 2 |   67    |   79    |   88    |   65    |   50    |   72    |   98    |   70    |   90    |    75    |\n",
        "| Utilidad 3 |   70    |   82    |   87    |   68    |   53    |   69    |   99    |   72    |   91    |    77    |\n",
        "| Utilidad 4 |   75    |   84    |   86    |   71    |   51    |   70    |   101   |   74    |   92    |    78    |\n",
        "| Utilidad 5 |   72    |   81    |   85    |   66    |   54    |   73    |   97    |   71    |   89    |    76    |\n",
        "\n",
        "\n",
        "La política de la empresa estipula que a un cliente se le despacha  el total de su demanda o en caso contrarion no se le despacha nada. La capacidad de cada linea es 55 mil unidades de producto, pero alistar cualquiera de las lineas sin importar el número de productos que se produzcan en ella tiene un costo de 200. La decisión que debe tomarse es:\n",
        "\n",
        "\n",
        "> **¿Cuáles de las ordenes deben producirse y en que líneas deben hacerse?**\n"
      ],
      "metadata": {
        "id": "ryECV9Pn44H-"
      }
    },
    {
      "cell_type": "markdown",
      "source": [
        "# <font color='#FD6E72'> **Verbalización del problema** </font>\n",
        "\n",
        "\n",
        "\n",
        "## <font color='ff6d33'>**Conjuntos** </font>\n",
        "* Conjunto de pedidos.\n",
        "* Conjunto de líneas de producción.\n",
        "\n",
        "\n",
        "## <font color='ff6d33'>**Parámetros** </font>\n",
        "- Utilidad asociada a cada pedido.\n",
        "- Demanda asociada a cada pedido.\n",
        "- Capacidad de cada línea de producción.\n",
        "- Costo de alistamiento de la línea.\n",
        "\n",
        "## <font color='ff6d33'>**Decisiones** </font>\n",
        "  * Debe decidirse cuáles lineas activar (alistar)\n",
        "  * Para cada pedido debe decidirse si producirlo o no producirlo y en caso de producirlo en cuál de las lineas debería producirse\n",
        "\n",
        "## <font color='ff6d33'>**Objetivo** </font>\n",
        "\n",
        "  Generar la máxima utilidad entendida como la utilidad generada por los pedidos producidos menos el costo de alistar las líneas que entran en operación\n",
        "\n",
        "## <font color='ff6d33'>**Restricciones** </font>\n",
        "\n",
        "  * La cantidad de unidades de producto requerida por los pedidos a producir en cada línea no debe sobrepasar su capacidad\n",
        "  * Cada orden debe producirse cuando más en una linea\n",
        "  * No pueden producirse pedidos en líneas que no han sido alistadas\n",
        "  * Las ordenes no pueden fraccionarse"
      ],
      "metadata": {
        "id": "cLVE1yb-44IJ"
      }
    },
    {
      "cell_type": "markdown",
      "source": [
        "# <font color='#FD6E72'> **Formulación matemática** </font>"
      ],
      "metadata": {
        "id": "GyM6oBW544IJ"
      }
    },
    {
      "cell_type": "markdown",
      "source": [
        "## <font color='ff6d33'> **Formulación generalizada** </font>\n",
        "\n",
        "Este mismo modelo puede escribirse de manera generalizada de la siguiente frma\n",
        "\n",
        "\n",
        "### **Conjuntos**\n",
        "- $P$: Conjunto de pedidos.\n",
        "- $L$: Conjunto de líneas de producción.\n",
        "\n",
        "### **Parámetros**\n",
        "- $d_i$: Demanda del pedido $i$, $\\forall i \\in P$.\n",
        "- $u_{ij}$: Utilidad del pedido $i$ en la línea $j$, $\\forall i \\in P, \\forall j \\in L$.\n",
        "- $c_j$: Capacidad de la línea $j$, $\\forall j \\in L$.\n",
        "- $s$: Costo de alistamiento de la línea.\n",
        "\n",
        "### **Variable de Decisión**\n",
        "\n",
        "\n",
        "> $y_{j} =\n",
        "\\begin{cases}\n",
        "1, & \\text{si se usa (alista) la línea $j$,} \\\\\n",
        "0, & \\text{si no usa (alista) la línea $j$}\n",
        "\\end{cases} \\quad \\forall j \\in L$\n",
        "\n",
        "\n",
        "> $x_{ij} =  \\begin{cases}\n",
        "1, & \\text{si el pedido $i$ se realiza en la línea $j$,} \\\\\n",
        "0, & \\text{si el pedido $i$ no se realiza en la línea $j$,}\n",
        "\\end{cases} \\quad \\forall i \\in P, \\forall j \\in L$\n",
        "\n",
        "\n",
        "### **Función Objetivo**\n",
        "\n",
        "Maximizar la utilidad total:\n",
        "\n",
        "> $\\text{Maximizar} \\quad \\sum_{i \\in P} \\sum_{j \\in L} u_{ij} x_{ij} - \\sum_{j \\in L} s y_j$\n",
        "\n",
        "### **Restricciones**\n",
        "\n",
        "- Restricción de capacidad por línea:\n",
        "  > $ \\sum_{i \\in P} d_i x_{ij} \\leq c_j, \\quad \\forall j \\in L$\n",
        "\n",
        "- Restricción de asignación de pedidos:\n",
        "  > $\\sum_{j \\in L} x_{ij} \\leq 1, \\quad \\forall i \\in P$\n",
        "\n",
        "- Restricción de alistamiento:\n",
        "  > $  x_{ij} \\leq y_j, \\quad \\forall i \\in P, \\forall j \\in L$\n",
        "\n",
        "- Restricción de variables binarias:\n",
        "  > $x_{ij} \\in \\{0, 1\\}, \\quad \\forall i \\in P, \\forall j \\in L$\n",
        "\n",
        "\n",
        "\n"
      ],
      "metadata": {
        "id": "hT2wLu6oujMR"
      }
    },
    {
      "cell_type": "markdown",
      "source": [
        "# <font color='#FD6E72'> **Instancia de datos** </font>"
      ],
      "metadata": {
        "id": "7CIJFxVl6_ww"
      }
    },
    {
      "cell_type": "markdown",
      "source": [
        "Consideremos una isnatncia particular para tener claridad sobre como se almacenan los datos. Posteriormente veremos que podemos automatizar la creación del modelo en una función que reciba como argumento cualquier instancia de datos"
      ],
      "metadata": {
        "id": "ybEzgptR8caa"
      }
    },
    {
      "cell_type": "code",
      "source": [
        "# dictionary of data\n",
        "data ={\n",
        "  # demads\n",
        "  'demands': {1: 16, 2: 29, 3: 24, 4: 20, 5: 17, 6: 30, 7: 32, 8: 28, 9: 20, 10: 20},\n",
        "  # Utilities\n",
        "  'utilities': {\n",
        "      (1, 1): 73, (1, 2): 67, (1, 3): 70, (1, 4): 75, (1, 5): 72,\n",
        "      (2, 1): 85, (2, 2): 79, (2, 3): 82, (2, 4): 84, (2, 5): 81,\n",
        "      (3, 1): 89, (3, 2): 88, (3, 3): 87, (3, 4): 86, (3, 5): 85,\n",
        "      (4, 1): 73, (4, 2): 65, (4, 3): 68, (4, 4): 71, (4, 5): 66,\n",
        "      (5, 1): 52, (5, 2): 50, (5, 3): 53, (5, 4): 51, (5, 5): 54,\n",
        "      (6, 1): 71, (6, 2): 72, (6, 3): 69, (6, 4): 70, (6, 5): 73,\n",
        "      (7, 1): 102, (7, 2): 98, (7, 3): 99, (7, 4): 101, (7, 5): 97,\n",
        "      (8, 1): 73, (8, 2): 70, (8, 3): 72, (8, 4): 74, (8, 5): 71,\n",
        "      (9, 1): 93, (9, 2): 90, (9, 3): 91, (9, 4): 92, (9, 5): 89,\n",
        "      (10, 1): 79, (10, 2): 75, (10, 3): 77, (10, 4): 78, (10, 5): 76\n",
        "  },\n",
        "  # Capacities of the lines\n",
        "  'capacities': {1: 55, 2: 55, 3: 55, 4: 55, 5: 55},\n",
        "  # Cost of setting up each line\n",
        "  'cost_setup': {1: 150, 2: 150, 3: 150, 4: 150, 5: 150}\n",
        "}"
      ],
      "metadata": {
        "id": "QYUPbbnl8bxc"
      },
      "execution_count": null,
      "outputs": []
    },
    {
      "cell_type": "markdown",
      "source": [
        "# <font color='#FD6E72'> **Implementación** </font>"
      ],
      "metadata": {
        "id": "KlJ0di9944IJ"
      }
    },
    {
      "cell_type": "markdown",
      "source": [
        "*   El modelo se implementa en un **lenguaje de modelación**, (en este caso `pyomo`).\n",
        "*   El modelose resuelve haciendo uso de un **optimizador** (en este caso `highs`).\n",
        "\n"
      ],
      "metadata": {
        "id": "8xdLBb8d44IJ"
      }
    },
    {
      "cell_type": "markdown",
      "source": [
        "## <font color='ff6d33'> **Instalamos las librerias necesarias** </font>"
      ],
      "metadata": {
        "id": "pdWrUaSg4YvH"
      }
    },
    {
      "cell_type": "code",
      "source": [
        "!pip install gurobipy\n",
        "import gurobipy as gp\n",
        "from gurobipy import GRB\n",
        "import pandas as pd"
      ],
      "metadata": {
        "id": "ORYXWHtd44IJ"
      },
      "execution_count": null,
      "outputs": []
    },
    {
      "cell_type": "markdown",
      "source": [
        "## <font color='ff6d33'> **Creamos el modelo** </font>"
      ],
      "metadata": {
        "id": "8pR8KNmg7oPo"
      }
    },
    {
      "cell_type": "markdown",
      "source": [
        "Creamos la función `create_model()` que recibe como argunmento la variable `data` que contiene la información de la instancia y retorna el modelo construido"
      ],
      "metadata": {
        "id": "TmzX3veL_wq2"
      }
    },
    {
      "cell_type": "code",
      "source": [
        "def create_model(data):\n",
        "  # Create model\n",
        "  model = gp.Model(\"Production_Optimization\")\n",
        "\n",
        "  # read ids for orders and lines\n",
        "  Orders = list(data['demands'].keys())\n",
        "  Lines = list(data['capacities'].keys())\n",
        "\n",
        "  # Decision Variables\n",
        "  prod = model.addVars(Orders, Lines, vtype=GRB.BINARY, name=\"prod\")  # Order assignment variables\n",
        "  setup = model.addVars(Lines, vtype=GRB.BINARY, name=\"setup\")  # Line usage variables\n",
        "\n",
        "  # Objective Function: Maximize total utility\n",
        "  model.setObjective(\n",
        "      gp.quicksum(data['utilities'][i, j] * prod[i, j] for i in Orders for j in Lines) - gp.quicksum(data['cost_setup'][j] * setup[j] for j in Lines),\n",
        "      GRB.MAXIMIZE\n",
        "  )\n",
        "\n",
        "  # Constraints\n",
        "  # Capacity constraint per line\n",
        "  for j in Lines:\n",
        "      model.addConstr(gp.quicksum(data['demands'][i] * prod[i, j] for i in Orders) <= data['capacities'][j], name=f\"Capacity_{j}\")\n",
        "\n",
        "  # Each order is assigned to at most one production line\n",
        "  for i in Orders:\n",
        "      model.addConstr(gp.quicksum(prod[i, j] for j in Lines) <= 1, name=f\"Order_Assignment_{i}\")\n",
        "\n",
        "  # Setup constraint: a line must be used if an order is assigned to it\n",
        "  for i in Orders:\n",
        "      for j in Lines:\n",
        "          model.addConstr(prod[i, j] <= setup[j], name=f\"Setup_{i}_{j}\")\n",
        "\n",
        "  return model\n"
      ],
      "metadata": {
        "id": "PaKRp8LsL-3O"
      },
      "execution_count": null,
      "outputs": []
    },
    {
      "cell_type": "markdown",
      "source": [
        "Creemos el modelo para la instancia de datos data:"
      ],
      "metadata": {
        "id": "ng2qDX2BlhXN"
      }
    },
    {
      "cell_type": "code",
      "source": [
        "model = create_model(data)"
      ],
      "metadata": {
        "id": "TewJap5lPqfq"
      },
      "execution_count": null,
      "outputs": []
    },
    {
      "cell_type": "markdown",
      "source": [
        "# <font color='#FD6E72'> **Resolver el modelo** </font>\n",
        "\n",
        "El modelo se resuelve para una instancia de datos, en este caso la instancia que hemos usado para crearlo."
      ],
      "metadata": {
        "id": "G547lLpCCPlb"
      }
    },
    {
      "cell_type": "code",
      "source": [
        "model.optimize()\n",
        "if model.status == GRB.OPTIMAL:\n",
        "    print(f\"Objective value: {model.ObjVal}\")\n",
        "else:\n",
        "    print(\"Optimization was not successful\")"
      ],
      "metadata": {
        "colab": {
          "base_uri": "https://localhost:8080/"
        },
        "id": "IiZ3ganEkSME",
        "outputId": "e7dbfaf6-046e-4e38-dcfc-9842e0de08c5"
      },
      "execution_count": null,
      "outputs": [
        {
          "output_type": "stream",
          "name": "stdout",
          "text": [
            "Gurobi Optimizer version 12.0.1 build v12.0.1rc0 (linux64 - \"Ubuntu 22.04.4 LTS\")\n",
            "\n",
            "CPU model: Intel(R) Xeon(R) CPU @ 2.20GHz, instruction set [SSE2|AVX|AVX2]\n",
            "Thread count: 1 physical cores, 2 logical processors, using up to 2 threads\n",
            "\n",
            "Optimize a model with 65 rows, 55 columns and 200 nonzeros\n",
            "Model fingerprint: 0x9deed8b1\n",
            "Variable types: 0 continuous, 55 integer (55 binary)\n",
            "Coefficient statistics:\n",
            "  Matrix range     [1e+00, 3e+01]\n",
            "  Objective range  [5e+01, 2e+02]\n",
            "  Bounds range     [1e+00, 1e+00]\n",
            "  RHS range        [1e+00, 6e+01]\n",
            "Found heuristic solution: objective -0.0000000\n",
            "Found heuristic solution: objective 23.0000000\n",
            "Presolve removed 15 rows and 0 columns\n",
            "Presolve time: 0.00s\n",
            "Presolved: 50 rows, 55 columns, 190 nonzeros\n",
            "Variable types: 0 continuous, 55 integer (55 binary)\n",
            "\n",
            "Root relaxation: objective 3.871216e+02, 76 iterations, 0.00 seconds (0.00 work units)\n",
            "\n",
            "    Nodes    |    Current Node    |     Objective Bounds      |     Work\n",
            " Expl Unexpl |  Obj  Depth IntInf | Incumbent    BestBd   Gap | It/Node Time\n",
            "\n",
            "     0     0  387.12162    0   24   23.00000  387.12162  1583%     -    0s\n",
            "H    0     0                      65.0000000  387.12162   496%     -    0s\n",
            "H    0     0                      72.0000000  387.12162   438%     -    0s\n",
            "H    0     0                      85.0000000  387.12162   355%     -    0s\n",
            "     0     0  365.27759    0   28   85.00000  365.27759   330%     -    0s\n",
            "     0     0  365.25827    0   28   85.00000  365.25827   330%     -    0s\n",
            "     0     0  365.04234    0   27   85.00000  365.04234   329%     -    0s\n",
            "     0     0  246.72400    0   24   85.00000  246.72400   190%     -    0s\n",
            "H    0     0                     110.0000000  246.72400   124%     -    0s\n",
            "H    0     0                     116.0000000  246.72400   113%     -    0s\n",
            "     0     0  223.42542    0   22  116.00000  223.42542  92.6%     -    0s\n",
            "     0     0  221.72314    0   26  116.00000  221.72314  91.1%     -    0s\n",
            "     0     0  220.90194    0   22  116.00000  220.90194  90.4%     -    0s\n",
            "     0     0  141.91510    0   22  116.00000  141.91510  22.3%     -    0s\n",
            "*    0     0               0     119.0000000  119.00000  0.00%     -    0s\n",
            "\n",
            "Cutting planes:\n",
            "  Gomory: 2\n",
            "  Cover: 1\n",
            "  MIR: 5\n",
            "  GUB cover: 4\n",
            "  Mod-K: 1\n",
            "  RLT: 2\n",
            "  Relax-and-lift: 3\n",
            "\n",
            "Explored 1 nodes (215 simplex iterations) in 0.11 seconds (0.00 work units)\n",
            "Thread count was 2 (of 2 available processors)\n",
            "\n",
            "Solution count 8: 119 116 110 ... -0\n",
            "\n",
            "Optimal solution found (tolerance 1.00e-04)\n",
            "Best objective 1.190000000000e+02, best bound 1.190000000000e+02, gap 0.0000%\n",
            "Objective value: 119.0\n"
          ]
        }
      ]
    },
    {
      "cell_type": "markdown",
      "source": [
        "# <font color='#FD6E72'> **Obtener la solución** </font>\n",
        "\n",
        "De momento estaremos interesados en dos componentes de la solución:\n",
        "* El valor de la función objetivo\n",
        "* El valor de las variales de decisión"
      ],
      "metadata": {
        "id": "9fRIvSRAf-aR"
      }
    },
    {
      "cell_type": "markdown",
      "source": [
        "## <font color='ff6d33'>**Valor de la función objetivo** </font>\n",
        "\n",
        "Una vez optimizado el modelo para la instancia dada, el valor de la función objetivo puede obtenerse al consultar directamente el componente asociado al objetivo, en nuestro caso este sería `model.obj()`"
      ],
      "metadata": {
        "id": "ZUGZGBnbYhaS"
      }
    },
    {
      "cell_type": "code",
      "source": [
        "print(\"Objective Function Value:\", model.objVal)\n",
        "\n",
        "\n",
        "\n"
      ],
      "metadata": {
        "colab": {
          "base_uri": "https://localhost:8080/"
        },
        "id": "OZ88xX1IAGZ5",
        "outputId": "537a701f-556f-402a-e094-6fff522bb93a"
      },
      "execution_count": null,
      "outputs": [
        {
          "output_type": "stream",
          "name": "stdout",
          "text": [
            "Objective Function Value: 119.0\n"
          ]
        }
      ]
    },
    {
      "cell_type": "markdown",
      "source": [
        "## <font color='ff6d33'>**Valor de las variables de decisión** </font>"
      ],
      "metadata": {
        "id": "jspjktUoY4N4"
      }
    },
    {
      "cell_type": "markdown",
      "source": [
        "El valor de las variables se obtiene con el metodo `.x` el cual se aplica a la variable en particular para la cual se esta interesado en obtener el valor.\n",
        "\n",
        "Si deseamos obtener el valor de la variable que indica si el pedido 1 se realizó en la línea 4, tendriamos:\n",
        "\n",
        "\n",
        "```python\n",
        "prod[1,4].x\n",
        "```\n",
        "\n"
      ],
      "metadata": {
        "id": "EkRO2EEkZdd3"
      }
    },
    {
      "cell_type": "markdown",
      "source": [
        "Sin embargo, dado que creamos el modelo a través de la función `create_model()` la variable `prod` es directamente accesisble solo en el ámbito de la función. Debemos entonces primero obtener todas las variables del modelo y allí tendriamos acceso a la variable deseada"
      ],
      "metadata": {
        "id": "T6Y4tXmYoBj8"
      }
    },
    {
      "cell_type": "code",
      "source": [
        "variables = model.getVars()\n",
        "variables"
      ],
      "metadata": {
        "colab": {
          "base_uri": "https://localhost:8080/"
        },
        "id": "wtDfBh_pofK8",
        "outputId": "bb6524f0-1061-4a82-c709-d0524a3b8646"
      },
      "execution_count": null,
      "outputs": [
        {
          "output_type": "execute_result",
          "data": {
            "text/plain": [
              "[<gurobi.Var prod[1,1] (value 0.0)>,\n",
              " <gurobi.Var prod[1,2] (value -0.0)>,\n",
              " <gurobi.Var prod[1,3] (value 0.0)>,\n",
              " <gurobi.Var prod[1,4] (value 0.0)>,\n",
              " <gurobi.Var prod[1,5] (value 1.0)>,\n",
              " <gurobi.Var prod[2,1] (value 1.0)>,\n",
              " <gurobi.Var prod[2,2] (value -0.0)>,\n",
              " <gurobi.Var prod[2,3] (value 0.0)>,\n",
              " <gurobi.Var prod[2,4] (value 0.0)>,\n",
              " <gurobi.Var prod[2,5] (value -0.0)>,\n",
              " <gurobi.Var prod[3,1] (value 1.0)>,\n",
              " <gurobi.Var prod[3,2] (value -0.0)>,\n",
              " <gurobi.Var prod[3,3] (value 0.0)>,\n",
              " <gurobi.Var prod[3,4] (value -0.0)>,\n",
              " <gurobi.Var prod[3,5] (value -0.0)>,\n",
              " <gurobi.Var prod[4,1] (value -0.0)>,\n",
              " <gurobi.Var prod[4,2] (value -0.0)>,\n",
              " <gurobi.Var prod[4,3] (value -0.0)>,\n",
              " <gurobi.Var prod[4,4] (value -0.0)>,\n",
              " <gurobi.Var prod[4,5] (value -0.0)>,\n",
              " <gurobi.Var prod[5,1] (value 0.0)>,\n",
              " <gurobi.Var prod[5,2] (value 0.0)>,\n",
              " <gurobi.Var prod[5,3] (value 0.0)>,\n",
              " <gurobi.Var prod[5,4] (value 0.0)>,\n",
              " <gurobi.Var prod[5,5] (value 1.0)>,\n",
              " <gurobi.Var prod[6,1] (value -0.0)>,\n",
              " <gurobi.Var prod[6,2] (value 0.0)>,\n",
              " <gurobi.Var prod[6,3] (value -0.0)>,\n",
              " <gurobi.Var prod[6,4] (value -0.0)>,\n",
              " <gurobi.Var prod[6,5] (value -0.0)>,\n",
              " <gurobi.Var prod[7,1] (value -0.0)>,\n",
              " <gurobi.Var prod[7,2] (value -0.0)>,\n",
              " <gurobi.Var prod[7,3] (value 0.0)>,\n",
              " <gurobi.Var prod[7,4] (value 1.0)>,\n",
              " <gurobi.Var prod[7,5] (value -0.0)>,\n",
              " <gurobi.Var prod[8,1] (value -0.0)>,\n",
              " <gurobi.Var prod[8,2] (value -0.0)>,\n",
              " <gurobi.Var prod[8,3] (value -0.0)>,\n",
              " <gurobi.Var prod[8,4] (value -0.0)>,\n",
              " <gurobi.Var prod[8,5] (value -0.0)>,\n",
              " <gurobi.Var prod[9,1] (value 0.0)>,\n",
              " <gurobi.Var prod[9,2] (value 0.0)>,\n",
              " <gurobi.Var prod[9,3] (value 0.0)>,\n",
              " <gurobi.Var prod[9,4] (value 1.0)>,\n",
              " <gurobi.Var prod[9,5] (value 0.0)>,\n",
              " <gurobi.Var prod[10,1] (value -0.0)>,\n",
              " <gurobi.Var prod[10,2] (value -0.0)>,\n",
              " <gurobi.Var prod[10,3] (value -0.0)>,\n",
              " <gurobi.Var prod[10,4] (value 0.0)>,\n",
              " <gurobi.Var prod[10,5] (value 1.0)>,\n",
              " <gurobi.Var setup[1] (value 1.0)>,\n",
              " <gurobi.Var setup[2] (value 0.0)>,\n",
              " <gurobi.Var setup[3] (value 0.0)>,\n",
              " <gurobi.Var setup[4] (value 1.0)>,\n",
              " <gurobi.Var setup[5] (value 1.0)>]"
            ]
          },
          "metadata": {},
          "execution_count": 23
        }
      ]
    },
    {
      "cell_type": "markdown",
      "source": [
        "Note entonces como obtenemos el valor de las variables de decisión `prod` que indiquen la asignación de la orden a alguna línea y aquellas que indiquenlas líneas de producción que se usan"
      ],
      "metadata": {
        "id": "MVSIQTKLozA6"
      }
    },
    {
      "cell_type": "code",
      "source": [
        "for var in model.getVars():\n",
        "  if var.X > 0.1:\n",
        "    print(f\"{var.VarName} = {var.X}\")"
      ],
      "metadata": {
        "colab": {
          "base_uri": "https://localhost:8080/"
        },
        "id": "C9sXyc4mnDgF",
        "outputId": "66f74a04-a03d-4f10-e106-09afb917879b"
      },
      "execution_count": null,
      "outputs": [
        {
          "output_type": "stream",
          "name": "stdout",
          "text": [
            "prod[1,5] = 1.0\n",
            "prod[2,1] = 1.0\n",
            "prod[3,1] = 1.0\n",
            "prod[5,5] = 1.0\n",
            "prod[7,4] = 1.0\n",
            "prod[9,4] = 1.0\n",
            "prod[10,5] = 1.0\n",
            "setup[1] = 1.0\n",
            "setup[4] = 1.0\n",
            "setup[5] = 1.0\n"
          ]
        }
      ]
    }
  ]
}